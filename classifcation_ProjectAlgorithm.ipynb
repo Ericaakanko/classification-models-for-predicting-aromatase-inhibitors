{
  "cells": [
    {
      "cell_type": "markdown",
      "metadata": {
        "id": "view-in-github",
        "colab_type": "text"
      },
      "source": [
        "<a href=\"https://colab.research.google.com/github/Ericaakanko/classification-models-for-predicting-aromatase-inhibitors/blob/main/classifcation_ProjectAlgorithm.ipynb\" target=\"_parent\"><img src=\"https://colab.research.google.com/assets/colab-badge.svg\" alt=\"Open In Colab\"/></a>"
      ]
    },
    {
      "cell_type": "code",
      "execution_count": null,
      "metadata": {
        "id": "f23D_AiPupw2"
      },
      "outputs": [],
      "source": [
        "#import libraries\n",
        "import pandas as pd\n",
        "import numpy as np\n",
        "import seaborn as sns\n",
        "import matplotlib.pyplot as plt\n"
      ]
    },
    {
      "cell_type": "code",
      "execution_count": null,
      "metadata": {
        "colab": {
          "base_uri": "https://localhost:8080/"
        },
        "id": "nd0UBRY0-iaQ",
        "outputId": "6edd7006-53aa-45c5-99a2-c845c299c9d7"
      },
      "outputs": [
        {
          "output_type": "stream",
          "name": "stdout",
          "text": [
            "Mounted at /content/drive\n"
          ]
        }
      ],
      "source": [
        "from google.colab import drive\n",
        "drive.mount('/content/drive')"
      ]
    },
    {
      "cell_type": "code",
      "execution_count": null,
      "metadata": {
        "colab": {
          "base_uri": "https://localhost:8080/",
          "height": 571
        },
        "id": "ABw5rdSBoPLb",
        "outputId": "a5c910aa-5e1e-4db5-fbc9-35ebbf8d468e"
      },
      "outputs": [
        {
          "output_type": "execute_result",
          "data": {
            "text/plain": [
              "     Molecule ChEMBL ID  Molecular Weight #RO5 AlogP  \\\n",
              "0         CHEMBL3245350            408.61    1     6   \n",
              "1          CHEMBL491602            370.50    1  5.07   \n",
              "2         CHEMBL3245348            374.59    1   5.6   \n",
              "3          CHEMBL490388            409.32    1  5.59   \n",
              "4          CHEMBL206175            290.32    0   4.1   \n",
              "...                 ...               ...  ...   ...   \n",
              "4163      CHEMBL1991089            321.33    0  2.89   \n",
              "4164      CHEMBL4474808            291.33    0  0.97   \n",
              "4165      CHEMBL4453737            312.78    0  2.04   \n",
              "4166      CHEMBL1991089            321.33    0  2.89   \n",
              "4167      CHEMBL4453737            312.78    0  2.04   \n",
              "\n",
              "                                                 Smiles Standard Type  \\\n",
              "0     C[C@]12CC[C@H]3[C@H]([C@@H]1CCC2=O)[C@H](SCc1c...      Activity   \n",
              "1          CC(C)(C)c1ccc(CN(Cc2cccc3ccccc23)n2cnnc2)cc1      Activity   \n",
              "2     CCCCS[C@@H]1CC2=CC(=O)CC[C@]2(C)[C@H]2CC[C@]3(...      Activity   \n",
              "3       Clc1ccc(CN(Cc2ccc(-c3ccccc3)cc2)n2cnnc2)c(Cl)c1      Activity   \n",
              "4              COc1cccc(-c2cc(O)c3c(ccc4[nH]ccc43)n2)c1      Activity   \n",
              "...                                                 ...           ...   \n",
              "4163           COC(=O)c1ccc(NCC2=CC(=O)c3ccccc3C2=O)cc1          Vmax   \n",
              "4164         N[C@@H]1CCN(Cc2cc(O)c3cc(F)ccc3n2)C[C@H]1O          Vmax   \n",
              "4165             O=C(CCc1ccc(O)c(Cl)c1)NCc1csc(=O)[nH]1          Vmax   \n",
              "4166           COC(=O)c1ccc(NCC2=CC(=O)c3ccccc3C2=O)cc1          Vmax   \n",
              "4167             O=C(CCc1ccc(O)c(Cl)c1)NCc1csc(=O)[nH]1          Vmax   \n",
              "\n",
              "      Standard Value  Activity     Comment  \n",
              "0                NaN         0  Not Active  \n",
              "1                NaN         0  Not Active  \n",
              "2                NaN         0  Not Active  \n",
              "3                NaN         0  Not Active  \n",
              "4                NaN         0  Not Active  \n",
              "...              ...       ...         ...  \n",
              "4163            60.6         1      Active  \n",
              "4164            64.6         1      Active  \n",
              "4165            78.7         1      Active  \n",
              "4166            79.3         1      Active  \n",
              "4167            85.2         1      Active  \n",
              "\n",
              "[4168 rows x 9 columns]"
            ],
            "text/html": [
              "\n",
              "  <div id=\"df-812b7af9-485c-4f22-b0bd-8968b8ebe1f9\">\n",
              "    <div class=\"colab-df-container\">\n",
              "      <div>\n",
              "<style scoped>\n",
              "    .dataframe tbody tr th:only-of-type {\n",
              "        vertical-align: middle;\n",
              "    }\n",
              "\n",
              "    .dataframe tbody tr th {\n",
              "        vertical-align: top;\n",
              "    }\n",
              "\n",
              "    .dataframe thead th {\n",
              "        text-align: right;\n",
              "    }\n",
              "</style>\n",
              "<table border=\"1\" class=\"dataframe\">\n",
              "  <thead>\n",
              "    <tr style=\"text-align: right;\">\n",
              "      <th></th>\n",
              "      <th>Molecule ChEMBL ID</th>\n",
              "      <th>Molecular Weight</th>\n",
              "      <th>#RO5</th>\n",
              "      <th>AlogP</th>\n",
              "      <th>Smiles</th>\n",
              "      <th>Standard Type</th>\n",
              "      <th>Standard Value</th>\n",
              "      <th>Activity</th>\n",
              "      <th>Comment</th>\n",
              "    </tr>\n",
              "  </thead>\n",
              "  <tbody>\n",
              "    <tr>\n",
              "      <th>0</th>\n",
              "      <td>CHEMBL3245350</td>\n",
              "      <td>408.61</td>\n",
              "      <td>1</td>\n",
              "      <td>6</td>\n",
              "      <td>C[C@]12CC[C@H]3[C@H]([C@@H]1CCC2=O)[C@H](SCc1c...</td>\n",
              "      <td>Activity</td>\n",
              "      <td>NaN</td>\n",
              "      <td>0</td>\n",
              "      <td>Not Active</td>\n",
              "    </tr>\n",
              "    <tr>\n",
              "      <th>1</th>\n",
              "      <td>CHEMBL491602</td>\n",
              "      <td>370.50</td>\n",
              "      <td>1</td>\n",
              "      <td>5.07</td>\n",
              "      <td>CC(C)(C)c1ccc(CN(Cc2cccc3ccccc23)n2cnnc2)cc1</td>\n",
              "      <td>Activity</td>\n",
              "      <td>NaN</td>\n",
              "      <td>0</td>\n",
              "      <td>Not Active</td>\n",
              "    </tr>\n",
              "    <tr>\n",
              "      <th>2</th>\n",
              "      <td>CHEMBL3245348</td>\n",
              "      <td>374.59</td>\n",
              "      <td>1</td>\n",
              "      <td>5.6</td>\n",
              "      <td>CCCCS[C@@H]1CC2=CC(=O)CC[C@]2(C)[C@H]2CC[C@]3(...</td>\n",
              "      <td>Activity</td>\n",
              "      <td>NaN</td>\n",
              "      <td>0</td>\n",
              "      <td>Not Active</td>\n",
              "    </tr>\n",
              "    <tr>\n",
              "      <th>3</th>\n",
              "      <td>CHEMBL490388</td>\n",
              "      <td>409.32</td>\n",
              "      <td>1</td>\n",
              "      <td>5.59</td>\n",
              "      <td>Clc1ccc(CN(Cc2ccc(-c3ccccc3)cc2)n2cnnc2)c(Cl)c1</td>\n",
              "      <td>Activity</td>\n",
              "      <td>NaN</td>\n",
              "      <td>0</td>\n",
              "      <td>Not Active</td>\n",
              "    </tr>\n",
              "    <tr>\n",
              "      <th>4</th>\n",
              "      <td>CHEMBL206175</td>\n",
              "      <td>290.32</td>\n",
              "      <td>0</td>\n",
              "      <td>4.1</td>\n",
              "      <td>COc1cccc(-c2cc(O)c3c(ccc4[nH]ccc43)n2)c1</td>\n",
              "      <td>Activity</td>\n",
              "      <td>NaN</td>\n",
              "      <td>0</td>\n",
              "      <td>Not Active</td>\n",
              "    </tr>\n",
              "    <tr>\n",
              "      <th>...</th>\n",
              "      <td>...</td>\n",
              "      <td>...</td>\n",
              "      <td>...</td>\n",
              "      <td>...</td>\n",
              "      <td>...</td>\n",
              "      <td>...</td>\n",
              "      <td>...</td>\n",
              "      <td>...</td>\n",
              "      <td>...</td>\n",
              "    </tr>\n",
              "    <tr>\n",
              "      <th>4163</th>\n",
              "      <td>CHEMBL1991089</td>\n",
              "      <td>321.33</td>\n",
              "      <td>0</td>\n",
              "      <td>2.89</td>\n",
              "      <td>COC(=O)c1ccc(NCC2=CC(=O)c3ccccc3C2=O)cc1</td>\n",
              "      <td>Vmax</td>\n",
              "      <td>60.6</td>\n",
              "      <td>1</td>\n",
              "      <td>Active</td>\n",
              "    </tr>\n",
              "    <tr>\n",
              "      <th>4164</th>\n",
              "      <td>CHEMBL4474808</td>\n",
              "      <td>291.33</td>\n",
              "      <td>0</td>\n",
              "      <td>0.97</td>\n",
              "      <td>N[C@@H]1CCN(Cc2cc(O)c3cc(F)ccc3n2)C[C@H]1O</td>\n",
              "      <td>Vmax</td>\n",
              "      <td>64.6</td>\n",
              "      <td>1</td>\n",
              "      <td>Active</td>\n",
              "    </tr>\n",
              "    <tr>\n",
              "      <th>4165</th>\n",
              "      <td>CHEMBL4453737</td>\n",
              "      <td>312.78</td>\n",
              "      <td>0</td>\n",
              "      <td>2.04</td>\n",
              "      <td>O=C(CCc1ccc(O)c(Cl)c1)NCc1csc(=O)[nH]1</td>\n",
              "      <td>Vmax</td>\n",
              "      <td>78.7</td>\n",
              "      <td>1</td>\n",
              "      <td>Active</td>\n",
              "    </tr>\n",
              "    <tr>\n",
              "      <th>4166</th>\n",
              "      <td>CHEMBL1991089</td>\n",
              "      <td>321.33</td>\n",
              "      <td>0</td>\n",
              "      <td>2.89</td>\n",
              "      <td>COC(=O)c1ccc(NCC2=CC(=O)c3ccccc3C2=O)cc1</td>\n",
              "      <td>Vmax</td>\n",
              "      <td>79.3</td>\n",
              "      <td>1</td>\n",
              "      <td>Active</td>\n",
              "    </tr>\n",
              "    <tr>\n",
              "      <th>4167</th>\n",
              "      <td>CHEMBL4453737</td>\n",
              "      <td>312.78</td>\n",
              "      <td>0</td>\n",
              "      <td>2.04</td>\n",
              "      <td>O=C(CCc1ccc(O)c(Cl)c1)NCc1csc(=O)[nH]1</td>\n",
              "      <td>Vmax</td>\n",
              "      <td>85.2</td>\n",
              "      <td>1</td>\n",
              "      <td>Active</td>\n",
              "    </tr>\n",
              "  </tbody>\n",
              "</table>\n",
              "<p>4168 rows × 9 columns</p>\n",
              "</div>\n",
              "      <button class=\"colab-df-convert\" onclick=\"convertToInteractive('df-812b7af9-485c-4f22-b0bd-8968b8ebe1f9')\"\n",
              "              title=\"Convert this dataframe to an interactive table.\"\n",
              "              style=\"display:none;\">\n",
              "        \n",
              "  <svg xmlns=\"http://www.w3.org/2000/svg\" height=\"24px\"viewBox=\"0 0 24 24\"\n",
              "       width=\"24px\">\n",
              "    <path d=\"M0 0h24v24H0V0z\" fill=\"none\"/>\n",
              "    <path d=\"M18.56 5.44l.94 2.06.94-2.06 2.06-.94-2.06-.94-.94-2.06-.94 2.06-2.06.94zm-11 1L8.5 8.5l.94-2.06 2.06-.94-2.06-.94L8.5 2.5l-.94 2.06-2.06.94zm10 10l.94 2.06.94-2.06 2.06-.94-2.06-.94-.94-2.06-.94 2.06-2.06.94z\"/><path d=\"M17.41 7.96l-1.37-1.37c-.4-.4-.92-.59-1.43-.59-.52 0-1.04.2-1.43.59L10.3 9.45l-7.72 7.72c-.78.78-.78 2.05 0 2.83L4 21.41c.39.39.9.59 1.41.59.51 0 1.02-.2 1.41-.59l7.78-7.78 2.81-2.81c.8-.78.8-2.07 0-2.86zM5.41 20L4 18.59l7.72-7.72 1.47 1.35L5.41 20z\"/>\n",
              "  </svg>\n",
              "      </button>\n",
              "      \n",
              "  <style>\n",
              "    .colab-df-container {\n",
              "      display:flex;\n",
              "      flex-wrap:wrap;\n",
              "      gap: 12px;\n",
              "    }\n",
              "\n",
              "    .colab-df-convert {\n",
              "      background-color: #E8F0FE;\n",
              "      border: none;\n",
              "      border-radius: 50%;\n",
              "      cursor: pointer;\n",
              "      display: none;\n",
              "      fill: #1967D2;\n",
              "      height: 32px;\n",
              "      padding: 0 0 0 0;\n",
              "      width: 32px;\n",
              "    }\n",
              "\n",
              "    .colab-df-convert:hover {\n",
              "      background-color: #E2EBFA;\n",
              "      box-shadow: 0px 1px 2px rgba(60, 64, 67, 0.3), 0px 1px 3px 1px rgba(60, 64, 67, 0.15);\n",
              "      fill: #174EA6;\n",
              "    }\n",
              "\n",
              "    [theme=dark] .colab-df-convert {\n",
              "      background-color: #3B4455;\n",
              "      fill: #D2E3FC;\n",
              "    }\n",
              "\n",
              "    [theme=dark] .colab-df-convert:hover {\n",
              "      background-color: #434B5C;\n",
              "      box-shadow: 0px 1px 3px 1px rgba(0, 0, 0, 0.15);\n",
              "      filter: drop-shadow(0px 1px 2px rgba(0, 0, 0, 0.3));\n",
              "      fill: #FFFFFF;\n",
              "    }\n",
              "  </style>\n",
              "\n",
              "      <script>\n",
              "        const buttonEl =\n",
              "          document.querySelector('#df-812b7af9-485c-4f22-b0bd-8968b8ebe1f9 button.colab-df-convert');\n",
              "        buttonEl.style.display =\n",
              "          google.colab.kernel.accessAllowed ? 'block' : 'none';\n",
              "\n",
              "        async function convertToInteractive(key) {\n",
              "          const element = document.querySelector('#df-812b7af9-485c-4f22-b0bd-8968b8ebe1f9');\n",
              "          const dataTable =\n",
              "            await google.colab.kernel.invokeFunction('convertToInteractive',\n",
              "                                                     [key], {});\n",
              "          if (!dataTable) return;\n",
              "\n",
              "          const docLinkHtml = 'Like what you see? Visit the ' +\n",
              "            '<a target=\"_blank\" href=https://colab.research.google.com/notebooks/data_table.ipynb>data table notebook</a>'\n",
              "            + ' to learn more about interactive tables.';\n",
              "          element.innerHTML = '';\n",
              "          dataTable['output_type'] = 'display_data';\n",
              "          await google.colab.output.renderOutput(dataTable, element);\n",
              "          const docLink = document.createElement('div');\n",
              "          docLink.innerHTML = docLinkHtml;\n",
              "          element.appendChild(docLink);\n",
              "        }\n",
              "      </script>\n",
              "    </div>\n",
              "  </div>\n",
              "  "
            ]
          },
          "metadata": {},
          "execution_count": 3
        }
      ],
      "source": [
        "df=pd.read_csv('/content/drive/MyDrive/aroma/aromataseUse1.csv')\n",
        "df\n",
        "\n"
      ]
    },
    {
      "cell_type": "code",
      "source": [
        "df1 = df.drop_duplicates(['Smiles'], keep ='first')\n",
        "df1"
      ],
      "metadata": {
        "colab": {
          "base_uri": "https://localhost:8080/",
          "height": 623
        },
        "id": "B3XgocRIrkkL",
        "outputId": "d4261618-fbe3-4fc5-c565-9ee3c762a1c4"
      },
      "execution_count": null,
      "outputs": [
        {
          "output_type": "execute_result",
          "data": {
            "text/plain": [
              "     Molecule ChEMBL ID  Molecular Weight #RO5 AlogP  \\\n",
              "0         CHEMBL3245350            408.61    1     6   \n",
              "1          CHEMBL491602            370.50    1  5.07   \n",
              "2         CHEMBL3245348            374.59    1   5.6   \n",
              "3          CHEMBL490388            409.32    1  5.59   \n",
              "4          CHEMBL206175            290.32    0   4.1   \n",
              "...                 ...               ...  ...   ...   \n",
              "4048      CHEMBL3754469            314.43    0  3.06   \n",
              "4049       CHEMBL296617            314.42    0  3.06   \n",
              "4083       CHEMBL386630            288.43    0  3.88   \n",
              "4089       CHEMBL186079            481.57    1  6.73   \n",
              "4090       CHEMBL184749            361.42    0  4.85   \n",
              "\n",
              "                                                 Smiles Standard Type  \\\n",
              "0     C[C@]12CC[C@H]3[C@H]([C@@H]1CCC2=O)[C@H](SCc1c...      Activity   \n",
              "1          CC(C)(C)c1ccc(CN(Cc2cccc3ccccc23)n2cnnc2)cc1      Activity   \n",
              "2     CCCCS[C@@H]1CC2=CC(=O)CC[C@]2(C)[C@H]2CC[C@]3(...      Activity   \n",
              "3       Clc1ccc(CN(Cc2ccc(-c3ccccc3)cc2)n2cnnc2)c(Cl)c1      Activity   \n",
              "4              COc1cccc(-c2cc(O)c3c(ccc4[nH]ccc43)n2)c1      Activity   \n",
              "...                                                 ...           ...   \n",
              "4048  C[C@]12CC[C@H]3[C@@H](CCC4=CC(=O)[C@H]5C[C@H](...            Ki   \n",
              "4049  C[C@]12CCC3C(CCC4=CC(=O)[C@H]5C[C@H](O)[C@]43C...            Ki   \n",
              "4083  C[C@]12CC[C@H]3[C@@H](CCC4=CC(=O)CC[C@@]43C)[C...            Km   \n",
              "4089  COc1ccc(-c2c(SCc3ccncc3)oc3cc(OCc4ccccc4)ccc3c...      Log IC50   \n",
              "4090         O=c1c(-c2ccccc2)c(SCc2ccncc2)oc2cc(O)ccc12      Log IC50   \n",
              "\n",
              "      Standard Value  Activity     Comment  \n",
              "0                NaN         0  Not Active  \n",
              "1                NaN         0  Not Active  \n",
              "2                NaN         0  Not Active  \n",
              "3                NaN         0  Not Active  \n",
              "4                NaN         0  Not Active  \n",
              "...              ...       ...         ...  \n",
              "4048          926.00         1      Active  \n",
              "4049          926.00         1      Active  \n",
              "4083          210.00         1      Active  \n",
              "4089            2.72         1      Active  \n",
              "4090            2.79         1      Active  \n",
              "\n",
              "[2739 rows x 9 columns]"
            ],
            "text/html": [
              "\n",
              "  <div id=\"df-407de8a6-f199-491f-927e-cd73fa4c5244\">\n",
              "    <div class=\"colab-df-container\">\n",
              "      <div>\n",
              "<style scoped>\n",
              "    .dataframe tbody tr th:only-of-type {\n",
              "        vertical-align: middle;\n",
              "    }\n",
              "\n",
              "    .dataframe tbody tr th {\n",
              "        vertical-align: top;\n",
              "    }\n",
              "\n",
              "    .dataframe thead th {\n",
              "        text-align: right;\n",
              "    }\n",
              "</style>\n",
              "<table border=\"1\" class=\"dataframe\">\n",
              "  <thead>\n",
              "    <tr style=\"text-align: right;\">\n",
              "      <th></th>\n",
              "      <th>Molecule ChEMBL ID</th>\n",
              "      <th>Molecular Weight</th>\n",
              "      <th>#RO5</th>\n",
              "      <th>AlogP</th>\n",
              "      <th>Smiles</th>\n",
              "      <th>Standard Type</th>\n",
              "      <th>Standard Value</th>\n",
              "      <th>Activity</th>\n",
              "      <th>Comment</th>\n",
              "    </tr>\n",
              "  </thead>\n",
              "  <tbody>\n",
              "    <tr>\n",
              "      <th>0</th>\n",
              "      <td>CHEMBL3245350</td>\n",
              "      <td>408.61</td>\n",
              "      <td>1</td>\n",
              "      <td>6</td>\n",
              "      <td>C[C@]12CC[C@H]3[C@H]([C@@H]1CCC2=O)[C@H](SCc1c...</td>\n",
              "      <td>Activity</td>\n",
              "      <td>NaN</td>\n",
              "      <td>0</td>\n",
              "      <td>Not Active</td>\n",
              "    </tr>\n",
              "    <tr>\n",
              "      <th>1</th>\n",
              "      <td>CHEMBL491602</td>\n",
              "      <td>370.50</td>\n",
              "      <td>1</td>\n",
              "      <td>5.07</td>\n",
              "      <td>CC(C)(C)c1ccc(CN(Cc2cccc3ccccc23)n2cnnc2)cc1</td>\n",
              "      <td>Activity</td>\n",
              "      <td>NaN</td>\n",
              "      <td>0</td>\n",
              "      <td>Not Active</td>\n",
              "    </tr>\n",
              "    <tr>\n",
              "      <th>2</th>\n",
              "      <td>CHEMBL3245348</td>\n",
              "      <td>374.59</td>\n",
              "      <td>1</td>\n",
              "      <td>5.6</td>\n",
              "      <td>CCCCS[C@@H]1CC2=CC(=O)CC[C@]2(C)[C@H]2CC[C@]3(...</td>\n",
              "      <td>Activity</td>\n",
              "      <td>NaN</td>\n",
              "      <td>0</td>\n",
              "      <td>Not Active</td>\n",
              "    </tr>\n",
              "    <tr>\n",
              "      <th>3</th>\n",
              "      <td>CHEMBL490388</td>\n",
              "      <td>409.32</td>\n",
              "      <td>1</td>\n",
              "      <td>5.59</td>\n",
              "      <td>Clc1ccc(CN(Cc2ccc(-c3ccccc3)cc2)n2cnnc2)c(Cl)c1</td>\n",
              "      <td>Activity</td>\n",
              "      <td>NaN</td>\n",
              "      <td>0</td>\n",
              "      <td>Not Active</td>\n",
              "    </tr>\n",
              "    <tr>\n",
              "      <th>4</th>\n",
              "      <td>CHEMBL206175</td>\n",
              "      <td>290.32</td>\n",
              "      <td>0</td>\n",
              "      <td>4.1</td>\n",
              "      <td>COc1cccc(-c2cc(O)c3c(ccc4[nH]ccc43)n2)c1</td>\n",
              "      <td>Activity</td>\n",
              "      <td>NaN</td>\n",
              "      <td>0</td>\n",
              "      <td>Not Active</td>\n",
              "    </tr>\n",
              "    <tr>\n",
              "      <th>...</th>\n",
              "      <td>...</td>\n",
              "      <td>...</td>\n",
              "      <td>...</td>\n",
              "      <td>...</td>\n",
              "      <td>...</td>\n",
              "      <td>...</td>\n",
              "      <td>...</td>\n",
              "      <td>...</td>\n",
              "      <td>...</td>\n",
              "    </tr>\n",
              "    <tr>\n",
              "      <th>4048</th>\n",
              "      <td>CHEMBL3754469</td>\n",
              "      <td>314.43</td>\n",
              "      <td>0</td>\n",
              "      <td>3.06</td>\n",
              "      <td>C[C@]12CC[C@H]3[C@@H](CCC4=CC(=O)[C@H]5C[C@H](...</td>\n",
              "      <td>Ki</td>\n",
              "      <td>926.00</td>\n",
              "      <td>1</td>\n",
              "      <td>Active</td>\n",
              "    </tr>\n",
              "    <tr>\n",
              "      <th>4049</th>\n",
              "      <td>CHEMBL296617</td>\n",
              "      <td>314.42</td>\n",
              "      <td>0</td>\n",
              "      <td>3.06</td>\n",
              "      <td>C[C@]12CCC3C(CCC4=CC(=O)[C@H]5C[C@H](O)[C@]43C...</td>\n",
              "      <td>Ki</td>\n",
              "      <td>926.00</td>\n",
              "      <td>1</td>\n",
              "      <td>Active</td>\n",
              "    </tr>\n",
              "    <tr>\n",
              "      <th>4083</th>\n",
              "      <td>CHEMBL386630</td>\n",
              "      <td>288.43</td>\n",
              "      <td>0</td>\n",
              "      <td>3.88</td>\n",
              "      <td>C[C@]12CC[C@H]3[C@@H](CCC4=CC(=O)CC[C@@]43C)[C...</td>\n",
              "      <td>Km</td>\n",
              "      <td>210.00</td>\n",
              "      <td>1</td>\n",
              "      <td>Active</td>\n",
              "    </tr>\n",
              "    <tr>\n",
              "      <th>4089</th>\n",
              "      <td>CHEMBL186079</td>\n",
              "      <td>481.57</td>\n",
              "      <td>1</td>\n",
              "      <td>6.73</td>\n",
              "      <td>COc1ccc(-c2c(SCc3ccncc3)oc3cc(OCc4ccccc4)ccc3c...</td>\n",
              "      <td>Log IC50</td>\n",
              "      <td>2.72</td>\n",
              "      <td>1</td>\n",
              "      <td>Active</td>\n",
              "    </tr>\n",
              "    <tr>\n",
              "      <th>4090</th>\n",
              "      <td>CHEMBL184749</td>\n",
              "      <td>361.42</td>\n",
              "      <td>0</td>\n",
              "      <td>4.85</td>\n",
              "      <td>O=c1c(-c2ccccc2)c(SCc2ccncc2)oc2cc(O)ccc12</td>\n",
              "      <td>Log IC50</td>\n",
              "      <td>2.79</td>\n",
              "      <td>1</td>\n",
              "      <td>Active</td>\n",
              "    </tr>\n",
              "  </tbody>\n",
              "</table>\n",
              "<p>2739 rows × 9 columns</p>\n",
              "</div>\n",
              "      <button class=\"colab-df-convert\" onclick=\"convertToInteractive('df-407de8a6-f199-491f-927e-cd73fa4c5244')\"\n",
              "              title=\"Convert this dataframe to an interactive table.\"\n",
              "              style=\"display:none;\">\n",
              "        \n",
              "  <svg xmlns=\"http://www.w3.org/2000/svg\" height=\"24px\"viewBox=\"0 0 24 24\"\n",
              "       width=\"24px\">\n",
              "    <path d=\"M0 0h24v24H0V0z\" fill=\"none\"/>\n",
              "    <path d=\"M18.56 5.44l.94 2.06.94-2.06 2.06-.94-2.06-.94-.94-2.06-.94 2.06-2.06.94zm-11 1L8.5 8.5l.94-2.06 2.06-.94-2.06-.94L8.5 2.5l-.94 2.06-2.06.94zm10 10l.94 2.06.94-2.06 2.06-.94-2.06-.94-.94-2.06-.94 2.06-2.06.94z\"/><path d=\"M17.41 7.96l-1.37-1.37c-.4-.4-.92-.59-1.43-.59-.52 0-1.04.2-1.43.59L10.3 9.45l-7.72 7.72c-.78.78-.78 2.05 0 2.83L4 21.41c.39.39.9.59 1.41.59.51 0 1.02-.2 1.41-.59l7.78-7.78 2.81-2.81c.8-.78.8-2.07 0-2.86zM5.41 20L4 18.59l7.72-7.72 1.47 1.35L5.41 20z\"/>\n",
              "  </svg>\n",
              "      </button>\n",
              "      \n",
              "  <style>\n",
              "    .colab-df-container {\n",
              "      display:flex;\n",
              "      flex-wrap:wrap;\n",
              "      gap: 12px;\n",
              "    }\n",
              "\n",
              "    .colab-df-convert {\n",
              "      background-color: #E8F0FE;\n",
              "      border: none;\n",
              "      border-radius: 50%;\n",
              "      cursor: pointer;\n",
              "      display: none;\n",
              "      fill: #1967D2;\n",
              "      height: 32px;\n",
              "      padding: 0 0 0 0;\n",
              "      width: 32px;\n",
              "    }\n",
              "\n",
              "    .colab-df-convert:hover {\n",
              "      background-color: #E2EBFA;\n",
              "      box-shadow: 0px 1px 2px rgba(60, 64, 67, 0.3), 0px 1px 3px 1px rgba(60, 64, 67, 0.15);\n",
              "      fill: #174EA6;\n",
              "    }\n",
              "\n",
              "    [theme=dark] .colab-df-convert {\n",
              "      background-color: #3B4455;\n",
              "      fill: #D2E3FC;\n",
              "    }\n",
              "\n",
              "    [theme=dark] .colab-df-convert:hover {\n",
              "      background-color: #434B5C;\n",
              "      box-shadow: 0px 1px 3px 1px rgba(0, 0, 0, 0.15);\n",
              "      filter: drop-shadow(0px 1px 2px rgba(0, 0, 0, 0.3));\n",
              "      fill: #FFFFFF;\n",
              "    }\n",
              "  </style>\n",
              "\n",
              "      <script>\n",
              "        const buttonEl =\n",
              "          document.querySelector('#df-407de8a6-f199-491f-927e-cd73fa4c5244 button.colab-df-convert');\n",
              "        buttonEl.style.display =\n",
              "          google.colab.kernel.accessAllowed ? 'block' : 'none';\n",
              "\n",
              "        async function convertToInteractive(key) {\n",
              "          const element = document.querySelector('#df-407de8a6-f199-491f-927e-cd73fa4c5244');\n",
              "          const dataTable =\n",
              "            await google.colab.kernel.invokeFunction('convertToInteractive',\n",
              "                                                     [key], {});\n",
              "          if (!dataTable) return;\n",
              "\n",
              "          const docLinkHtml = 'Like what you see? Visit the ' +\n",
              "            '<a target=\"_blank\" href=https://colab.research.google.com/notebooks/data_table.ipynb>data table notebook</a>'\n",
              "            + ' to learn more about interactive tables.';\n",
              "          element.innerHTML = '';\n",
              "          dataTable['output_type'] = 'display_data';\n",
              "          await google.colab.output.renderOutput(dataTable, element);\n",
              "          const docLink = document.createElement('div');\n",
              "          docLink.innerHTML = docLinkHtml;\n",
              "          element.appendChild(docLink);\n",
              "        }\n",
              "      </script>\n",
              "    </div>\n",
              "  </div>\n",
              "  "
            ]
          },
          "metadata": {},
          "execution_count": 4
        }
      ]
    },
    {
      "cell_type": "code",
      "source": [
        "df2 = df1[df1.Activity.notna()]\n",
        "df2"
      ],
      "metadata": {
        "colab": {
          "base_uri": "https://localhost:8080/",
          "height": 623
        },
        "id": "D6Mcol5jsIAU",
        "outputId": "9ea2931d-8658-40d8-eb86-4ff0dad6a41c"
      },
      "execution_count": null,
      "outputs": [
        {
          "output_type": "execute_result",
          "data": {
            "text/plain": [
              "     Molecule ChEMBL ID  Molecular Weight #RO5 AlogP  \\\n",
              "0         CHEMBL3245350            408.61    1     6   \n",
              "1          CHEMBL491602            370.50    1  5.07   \n",
              "2         CHEMBL3245348            374.59    1   5.6   \n",
              "3          CHEMBL490388            409.32    1  5.59   \n",
              "4          CHEMBL206175            290.32    0   4.1   \n",
              "...                 ...               ...  ...   ...   \n",
              "4048      CHEMBL3754469            314.43    0  3.06   \n",
              "4049       CHEMBL296617            314.42    0  3.06   \n",
              "4083       CHEMBL386630            288.43    0  3.88   \n",
              "4089       CHEMBL186079            481.57    1  6.73   \n",
              "4090       CHEMBL184749            361.42    0  4.85   \n",
              "\n",
              "                                                 Smiles Standard Type  \\\n",
              "0     C[C@]12CC[C@H]3[C@H]([C@@H]1CCC2=O)[C@H](SCc1c...      Activity   \n",
              "1          CC(C)(C)c1ccc(CN(Cc2cccc3ccccc23)n2cnnc2)cc1      Activity   \n",
              "2     CCCCS[C@@H]1CC2=CC(=O)CC[C@]2(C)[C@H]2CC[C@]3(...      Activity   \n",
              "3       Clc1ccc(CN(Cc2ccc(-c3ccccc3)cc2)n2cnnc2)c(Cl)c1      Activity   \n",
              "4              COc1cccc(-c2cc(O)c3c(ccc4[nH]ccc43)n2)c1      Activity   \n",
              "...                                                 ...           ...   \n",
              "4048  C[C@]12CC[C@H]3[C@@H](CCC4=CC(=O)[C@H]5C[C@H](...            Ki   \n",
              "4049  C[C@]12CCC3C(CCC4=CC(=O)[C@H]5C[C@H](O)[C@]43C...            Ki   \n",
              "4083  C[C@]12CC[C@H]3[C@@H](CCC4=CC(=O)CC[C@@]43C)[C...            Km   \n",
              "4089  COc1ccc(-c2c(SCc3ccncc3)oc3cc(OCc4ccccc4)ccc3c...      Log IC50   \n",
              "4090         O=c1c(-c2ccccc2)c(SCc2ccncc2)oc2cc(O)ccc12      Log IC50   \n",
              "\n",
              "      Standard Value  Activity     Comment  \n",
              "0                NaN         0  Not Active  \n",
              "1                NaN         0  Not Active  \n",
              "2                NaN         0  Not Active  \n",
              "3                NaN         0  Not Active  \n",
              "4                NaN         0  Not Active  \n",
              "...              ...       ...         ...  \n",
              "4048          926.00         1      Active  \n",
              "4049          926.00         1      Active  \n",
              "4083          210.00         1      Active  \n",
              "4089            2.72         1      Active  \n",
              "4090            2.79         1      Active  \n",
              "\n",
              "[2739 rows x 9 columns]"
            ],
            "text/html": [
              "\n",
              "  <div id=\"df-5c90f81b-7d6c-420d-ac70-4eb838e7a5fe\">\n",
              "    <div class=\"colab-df-container\">\n",
              "      <div>\n",
              "<style scoped>\n",
              "    .dataframe tbody tr th:only-of-type {\n",
              "        vertical-align: middle;\n",
              "    }\n",
              "\n",
              "    .dataframe tbody tr th {\n",
              "        vertical-align: top;\n",
              "    }\n",
              "\n",
              "    .dataframe thead th {\n",
              "        text-align: right;\n",
              "    }\n",
              "</style>\n",
              "<table border=\"1\" class=\"dataframe\">\n",
              "  <thead>\n",
              "    <tr style=\"text-align: right;\">\n",
              "      <th></th>\n",
              "      <th>Molecule ChEMBL ID</th>\n",
              "      <th>Molecular Weight</th>\n",
              "      <th>#RO5</th>\n",
              "      <th>AlogP</th>\n",
              "      <th>Smiles</th>\n",
              "      <th>Standard Type</th>\n",
              "      <th>Standard Value</th>\n",
              "      <th>Activity</th>\n",
              "      <th>Comment</th>\n",
              "    </tr>\n",
              "  </thead>\n",
              "  <tbody>\n",
              "    <tr>\n",
              "      <th>0</th>\n",
              "      <td>CHEMBL3245350</td>\n",
              "      <td>408.61</td>\n",
              "      <td>1</td>\n",
              "      <td>6</td>\n",
              "      <td>C[C@]12CC[C@H]3[C@H]([C@@H]1CCC2=O)[C@H](SCc1c...</td>\n",
              "      <td>Activity</td>\n",
              "      <td>NaN</td>\n",
              "      <td>0</td>\n",
              "      <td>Not Active</td>\n",
              "    </tr>\n",
              "    <tr>\n",
              "      <th>1</th>\n",
              "      <td>CHEMBL491602</td>\n",
              "      <td>370.50</td>\n",
              "      <td>1</td>\n",
              "      <td>5.07</td>\n",
              "      <td>CC(C)(C)c1ccc(CN(Cc2cccc3ccccc23)n2cnnc2)cc1</td>\n",
              "      <td>Activity</td>\n",
              "      <td>NaN</td>\n",
              "      <td>0</td>\n",
              "      <td>Not Active</td>\n",
              "    </tr>\n",
              "    <tr>\n",
              "      <th>2</th>\n",
              "      <td>CHEMBL3245348</td>\n",
              "      <td>374.59</td>\n",
              "      <td>1</td>\n",
              "      <td>5.6</td>\n",
              "      <td>CCCCS[C@@H]1CC2=CC(=O)CC[C@]2(C)[C@H]2CC[C@]3(...</td>\n",
              "      <td>Activity</td>\n",
              "      <td>NaN</td>\n",
              "      <td>0</td>\n",
              "      <td>Not Active</td>\n",
              "    </tr>\n",
              "    <tr>\n",
              "      <th>3</th>\n",
              "      <td>CHEMBL490388</td>\n",
              "      <td>409.32</td>\n",
              "      <td>1</td>\n",
              "      <td>5.59</td>\n",
              "      <td>Clc1ccc(CN(Cc2ccc(-c3ccccc3)cc2)n2cnnc2)c(Cl)c1</td>\n",
              "      <td>Activity</td>\n",
              "      <td>NaN</td>\n",
              "      <td>0</td>\n",
              "      <td>Not Active</td>\n",
              "    </tr>\n",
              "    <tr>\n",
              "      <th>4</th>\n",
              "      <td>CHEMBL206175</td>\n",
              "      <td>290.32</td>\n",
              "      <td>0</td>\n",
              "      <td>4.1</td>\n",
              "      <td>COc1cccc(-c2cc(O)c3c(ccc4[nH]ccc43)n2)c1</td>\n",
              "      <td>Activity</td>\n",
              "      <td>NaN</td>\n",
              "      <td>0</td>\n",
              "      <td>Not Active</td>\n",
              "    </tr>\n",
              "    <tr>\n",
              "      <th>...</th>\n",
              "      <td>...</td>\n",
              "      <td>...</td>\n",
              "      <td>...</td>\n",
              "      <td>...</td>\n",
              "      <td>...</td>\n",
              "      <td>...</td>\n",
              "      <td>...</td>\n",
              "      <td>...</td>\n",
              "      <td>...</td>\n",
              "    </tr>\n",
              "    <tr>\n",
              "      <th>4048</th>\n",
              "      <td>CHEMBL3754469</td>\n",
              "      <td>314.43</td>\n",
              "      <td>0</td>\n",
              "      <td>3.06</td>\n",
              "      <td>C[C@]12CC[C@H]3[C@@H](CCC4=CC(=O)[C@H]5C[C@H](...</td>\n",
              "      <td>Ki</td>\n",
              "      <td>926.00</td>\n",
              "      <td>1</td>\n",
              "      <td>Active</td>\n",
              "    </tr>\n",
              "    <tr>\n",
              "      <th>4049</th>\n",
              "      <td>CHEMBL296617</td>\n",
              "      <td>314.42</td>\n",
              "      <td>0</td>\n",
              "      <td>3.06</td>\n",
              "      <td>C[C@]12CCC3C(CCC4=CC(=O)[C@H]5C[C@H](O)[C@]43C...</td>\n",
              "      <td>Ki</td>\n",
              "      <td>926.00</td>\n",
              "      <td>1</td>\n",
              "      <td>Active</td>\n",
              "    </tr>\n",
              "    <tr>\n",
              "      <th>4083</th>\n",
              "      <td>CHEMBL386630</td>\n",
              "      <td>288.43</td>\n",
              "      <td>0</td>\n",
              "      <td>3.88</td>\n",
              "      <td>C[C@]12CC[C@H]3[C@@H](CCC4=CC(=O)CC[C@@]43C)[C...</td>\n",
              "      <td>Km</td>\n",
              "      <td>210.00</td>\n",
              "      <td>1</td>\n",
              "      <td>Active</td>\n",
              "    </tr>\n",
              "    <tr>\n",
              "      <th>4089</th>\n",
              "      <td>CHEMBL186079</td>\n",
              "      <td>481.57</td>\n",
              "      <td>1</td>\n",
              "      <td>6.73</td>\n",
              "      <td>COc1ccc(-c2c(SCc3ccncc3)oc3cc(OCc4ccccc4)ccc3c...</td>\n",
              "      <td>Log IC50</td>\n",
              "      <td>2.72</td>\n",
              "      <td>1</td>\n",
              "      <td>Active</td>\n",
              "    </tr>\n",
              "    <tr>\n",
              "      <th>4090</th>\n",
              "      <td>CHEMBL184749</td>\n",
              "      <td>361.42</td>\n",
              "      <td>0</td>\n",
              "      <td>4.85</td>\n",
              "      <td>O=c1c(-c2ccccc2)c(SCc2ccncc2)oc2cc(O)ccc12</td>\n",
              "      <td>Log IC50</td>\n",
              "      <td>2.79</td>\n",
              "      <td>1</td>\n",
              "      <td>Active</td>\n",
              "    </tr>\n",
              "  </tbody>\n",
              "</table>\n",
              "<p>2739 rows × 9 columns</p>\n",
              "</div>\n",
              "      <button class=\"colab-df-convert\" onclick=\"convertToInteractive('df-5c90f81b-7d6c-420d-ac70-4eb838e7a5fe')\"\n",
              "              title=\"Convert this dataframe to an interactive table.\"\n",
              "              style=\"display:none;\">\n",
              "        \n",
              "  <svg xmlns=\"http://www.w3.org/2000/svg\" height=\"24px\"viewBox=\"0 0 24 24\"\n",
              "       width=\"24px\">\n",
              "    <path d=\"M0 0h24v24H0V0z\" fill=\"none\"/>\n",
              "    <path d=\"M18.56 5.44l.94 2.06.94-2.06 2.06-.94-2.06-.94-.94-2.06-.94 2.06-2.06.94zm-11 1L8.5 8.5l.94-2.06 2.06-.94-2.06-.94L8.5 2.5l-.94 2.06-2.06.94zm10 10l.94 2.06.94-2.06 2.06-.94-2.06-.94-.94-2.06-.94 2.06-2.06.94z\"/><path d=\"M17.41 7.96l-1.37-1.37c-.4-.4-.92-.59-1.43-.59-.52 0-1.04.2-1.43.59L10.3 9.45l-7.72 7.72c-.78.78-.78 2.05 0 2.83L4 21.41c.39.39.9.59 1.41.59.51 0 1.02-.2 1.41-.59l7.78-7.78 2.81-2.81c.8-.78.8-2.07 0-2.86zM5.41 20L4 18.59l7.72-7.72 1.47 1.35L5.41 20z\"/>\n",
              "  </svg>\n",
              "      </button>\n",
              "      \n",
              "  <style>\n",
              "    .colab-df-container {\n",
              "      display:flex;\n",
              "      flex-wrap:wrap;\n",
              "      gap: 12px;\n",
              "    }\n",
              "\n",
              "    .colab-df-convert {\n",
              "      background-color: #E8F0FE;\n",
              "      border: none;\n",
              "      border-radius: 50%;\n",
              "      cursor: pointer;\n",
              "      display: none;\n",
              "      fill: #1967D2;\n",
              "      height: 32px;\n",
              "      padding: 0 0 0 0;\n",
              "      width: 32px;\n",
              "    }\n",
              "\n",
              "    .colab-df-convert:hover {\n",
              "      background-color: #E2EBFA;\n",
              "      box-shadow: 0px 1px 2px rgba(60, 64, 67, 0.3), 0px 1px 3px 1px rgba(60, 64, 67, 0.15);\n",
              "      fill: #174EA6;\n",
              "    }\n",
              "\n",
              "    [theme=dark] .colab-df-convert {\n",
              "      background-color: #3B4455;\n",
              "      fill: #D2E3FC;\n",
              "    }\n",
              "\n",
              "    [theme=dark] .colab-df-convert:hover {\n",
              "      background-color: #434B5C;\n",
              "      box-shadow: 0px 1px 3px 1px rgba(0, 0, 0, 0.15);\n",
              "      filter: drop-shadow(0px 1px 2px rgba(0, 0, 0, 0.3));\n",
              "      fill: #FFFFFF;\n",
              "    }\n",
              "  </style>\n",
              "\n",
              "      <script>\n",
              "        const buttonEl =\n",
              "          document.querySelector('#df-5c90f81b-7d6c-420d-ac70-4eb838e7a5fe button.colab-df-convert');\n",
              "        buttonEl.style.display =\n",
              "          google.colab.kernel.accessAllowed ? 'block' : 'none';\n",
              "\n",
              "        async function convertToInteractive(key) {\n",
              "          const element = document.querySelector('#df-5c90f81b-7d6c-420d-ac70-4eb838e7a5fe');\n",
              "          const dataTable =\n",
              "            await google.colab.kernel.invokeFunction('convertToInteractive',\n",
              "                                                     [key], {});\n",
              "          if (!dataTable) return;\n",
              "\n",
              "          const docLinkHtml = 'Like what you see? Visit the ' +\n",
              "            '<a target=\"_blank\" href=https://colab.research.google.com/notebooks/data_table.ipynb>data table notebook</a>'\n",
              "            + ' to learn more about interactive tables.';\n",
              "          element.innerHTML = '';\n",
              "          dataTable['output_type'] = 'display_data';\n",
              "          await google.colab.output.renderOutput(dataTable, element);\n",
              "          const docLink = document.createElement('div');\n",
              "          docLink.innerHTML = docLinkHtml;\n",
              "          element.appendChild(docLink);\n",
              "        }\n",
              "      </script>\n",
              "    </div>\n",
              "  </div>\n",
              "  "
            ]
          },
          "metadata": {},
          "execution_count": 5
        }
      ]
    },
    {
      "cell_type": "code",
      "source": [
        "selection = ['Molecule ChEMBL ID', 'Smiles', 'Activity']\n",
        "df3 = df2[selection]\n",
        "df3"
      ],
      "metadata": {
        "colab": {
          "base_uri": "https://localhost:8080/",
          "height": 423
        },
        "id": "awBM5w1lsaKr",
        "outputId": "769acd3a-fa3b-4466-cc4b-5e54679446d6"
      },
      "execution_count": null,
      "outputs": [
        {
          "output_type": "execute_result",
          "data": {
            "text/plain": [
              "     Molecule ChEMBL ID                                             Smiles  \\\n",
              "0         CHEMBL3245350  C[C@]12CC[C@H]3[C@H]([C@@H]1CCC2=O)[C@H](SCc1c...   \n",
              "1          CHEMBL491602       CC(C)(C)c1ccc(CN(Cc2cccc3ccccc23)n2cnnc2)cc1   \n",
              "2         CHEMBL3245348  CCCCS[C@@H]1CC2=CC(=O)CC[C@]2(C)[C@H]2CC[C@]3(...   \n",
              "3          CHEMBL490388    Clc1ccc(CN(Cc2ccc(-c3ccccc3)cc2)n2cnnc2)c(Cl)c1   \n",
              "4          CHEMBL206175           COc1cccc(-c2cc(O)c3c(ccc4[nH]ccc43)n2)c1   \n",
              "...                 ...                                                ...   \n",
              "4048      CHEMBL3754469  C[C@]12CC[C@H]3[C@@H](CCC4=CC(=O)[C@H]5C[C@H](...   \n",
              "4049       CHEMBL296617  C[C@]12CCC3C(CCC4=CC(=O)[C@H]5C[C@H](O)[C@]43C...   \n",
              "4083       CHEMBL386630  C[C@]12CC[C@H]3[C@@H](CCC4=CC(=O)CC[C@@]43C)[C...   \n",
              "4089       CHEMBL186079  COc1ccc(-c2c(SCc3ccncc3)oc3cc(OCc4ccccc4)ccc3c...   \n",
              "4090       CHEMBL184749         O=c1c(-c2ccccc2)c(SCc2ccncc2)oc2cc(O)ccc12   \n",
              "\n",
              "      Activity  \n",
              "0            0  \n",
              "1            0  \n",
              "2            0  \n",
              "3            0  \n",
              "4            0  \n",
              "...        ...  \n",
              "4048         1  \n",
              "4049         1  \n",
              "4083         1  \n",
              "4089         1  \n",
              "4090         1  \n",
              "\n",
              "[2739 rows x 3 columns]"
            ],
            "text/html": [
              "\n",
              "  <div id=\"df-ae5db53f-9d79-4c72-9e41-78a87ca7c873\">\n",
              "    <div class=\"colab-df-container\">\n",
              "      <div>\n",
              "<style scoped>\n",
              "    .dataframe tbody tr th:only-of-type {\n",
              "        vertical-align: middle;\n",
              "    }\n",
              "\n",
              "    .dataframe tbody tr th {\n",
              "        vertical-align: top;\n",
              "    }\n",
              "\n",
              "    .dataframe thead th {\n",
              "        text-align: right;\n",
              "    }\n",
              "</style>\n",
              "<table border=\"1\" class=\"dataframe\">\n",
              "  <thead>\n",
              "    <tr style=\"text-align: right;\">\n",
              "      <th></th>\n",
              "      <th>Molecule ChEMBL ID</th>\n",
              "      <th>Smiles</th>\n",
              "      <th>Activity</th>\n",
              "    </tr>\n",
              "  </thead>\n",
              "  <tbody>\n",
              "    <tr>\n",
              "      <th>0</th>\n",
              "      <td>CHEMBL3245350</td>\n",
              "      <td>C[C@]12CC[C@H]3[C@H]([C@@H]1CCC2=O)[C@H](SCc1c...</td>\n",
              "      <td>0</td>\n",
              "    </tr>\n",
              "    <tr>\n",
              "      <th>1</th>\n",
              "      <td>CHEMBL491602</td>\n",
              "      <td>CC(C)(C)c1ccc(CN(Cc2cccc3ccccc23)n2cnnc2)cc1</td>\n",
              "      <td>0</td>\n",
              "    </tr>\n",
              "    <tr>\n",
              "      <th>2</th>\n",
              "      <td>CHEMBL3245348</td>\n",
              "      <td>CCCCS[C@@H]1CC2=CC(=O)CC[C@]2(C)[C@H]2CC[C@]3(...</td>\n",
              "      <td>0</td>\n",
              "    </tr>\n",
              "    <tr>\n",
              "      <th>3</th>\n",
              "      <td>CHEMBL490388</td>\n",
              "      <td>Clc1ccc(CN(Cc2ccc(-c3ccccc3)cc2)n2cnnc2)c(Cl)c1</td>\n",
              "      <td>0</td>\n",
              "    </tr>\n",
              "    <tr>\n",
              "      <th>4</th>\n",
              "      <td>CHEMBL206175</td>\n",
              "      <td>COc1cccc(-c2cc(O)c3c(ccc4[nH]ccc43)n2)c1</td>\n",
              "      <td>0</td>\n",
              "    </tr>\n",
              "    <tr>\n",
              "      <th>...</th>\n",
              "      <td>...</td>\n",
              "      <td>...</td>\n",
              "      <td>...</td>\n",
              "    </tr>\n",
              "    <tr>\n",
              "      <th>4048</th>\n",
              "      <td>CHEMBL3754469</td>\n",
              "      <td>C[C@]12CC[C@H]3[C@@H](CCC4=CC(=O)[C@H]5C[C@H](...</td>\n",
              "      <td>1</td>\n",
              "    </tr>\n",
              "    <tr>\n",
              "      <th>4049</th>\n",
              "      <td>CHEMBL296617</td>\n",
              "      <td>C[C@]12CCC3C(CCC4=CC(=O)[C@H]5C[C@H](O)[C@]43C...</td>\n",
              "      <td>1</td>\n",
              "    </tr>\n",
              "    <tr>\n",
              "      <th>4083</th>\n",
              "      <td>CHEMBL386630</td>\n",
              "      <td>C[C@]12CC[C@H]3[C@@H](CCC4=CC(=O)CC[C@@]43C)[C...</td>\n",
              "      <td>1</td>\n",
              "    </tr>\n",
              "    <tr>\n",
              "      <th>4089</th>\n",
              "      <td>CHEMBL186079</td>\n",
              "      <td>COc1ccc(-c2c(SCc3ccncc3)oc3cc(OCc4ccccc4)ccc3c...</td>\n",
              "      <td>1</td>\n",
              "    </tr>\n",
              "    <tr>\n",
              "      <th>4090</th>\n",
              "      <td>CHEMBL184749</td>\n",
              "      <td>O=c1c(-c2ccccc2)c(SCc2ccncc2)oc2cc(O)ccc12</td>\n",
              "      <td>1</td>\n",
              "    </tr>\n",
              "  </tbody>\n",
              "</table>\n",
              "<p>2739 rows × 3 columns</p>\n",
              "</div>\n",
              "      <button class=\"colab-df-convert\" onclick=\"convertToInteractive('df-ae5db53f-9d79-4c72-9e41-78a87ca7c873')\"\n",
              "              title=\"Convert this dataframe to an interactive table.\"\n",
              "              style=\"display:none;\">\n",
              "        \n",
              "  <svg xmlns=\"http://www.w3.org/2000/svg\" height=\"24px\"viewBox=\"0 0 24 24\"\n",
              "       width=\"24px\">\n",
              "    <path d=\"M0 0h24v24H0V0z\" fill=\"none\"/>\n",
              "    <path d=\"M18.56 5.44l.94 2.06.94-2.06 2.06-.94-2.06-.94-.94-2.06-.94 2.06-2.06.94zm-11 1L8.5 8.5l.94-2.06 2.06-.94-2.06-.94L8.5 2.5l-.94 2.06-2.06.94zm10 10l.94 2.06.94-2.06 2.06-.94-2.06-.94-.94-2.06-.94 2.06-2.06.94z\"/><path d=\"M17.41 7.96l-1.37-1.37c-.4-.4-.92-.59-1.43-.59-.52 0-1.04.2-1.43.59L10.3 9.45l-7.72 7.72c-.78.78-.78 2.05 0 2.83L4 21.41c.39.39.9.59 1.41.59.51 0 1.02-.2 1.41-.59l7.78-7.78 2.81-2.81c.8-.78.8-2.07 0-2.86zM5.41 20L4 18.59l7.72-7.72 1.47 1.35L5.41 20z\"/>\n",
              "  </svg>\n",
              "      </button>\n",
              "      \n",
              "  <style>\n",
              "    .colab-df-container {\n",
              "      display:flex;\n",
              "      flex-wrap:wrap;\n",
              "      gap: 12px;\n",
              "    }\n",
              "\n",
              "    .colab-df-convert {\n",
              "      background-color: #E8F0FE;\n",
              "      border: none;\n",
              "      border-radius: 50%;\n",
              "      cursor: pointer;\n",
              "      display: none;\n",
              "      fill: #1967D2;\n",
              "      height: 32px;\n",
              "      padding: 0 0 0 0;\n",
              "      width: 32px;\n",
              "    }\n",
              "\n",
              "    .colab-df-convert:hover {\n",
              "      background-color: #E2EBFA;\n",
              "      box-shadow: 0px 1px 2px rgba(60, 64, 67, 0.3), 0px 1px 3px 1px rgba(60, 64, 67, 0.15);\n",
              "      fill: #174EA6;\n",
              "    }\n",
              "\n",
              "    [theme=dark] .colab-df-convert {\n",
              "      background-color: #3B4455;\n",
              "      fill: #D2E3FC;\n",
              "    }\n",
              "\n",
              "    [theme=dark] .colab-df-convert:hover {\n",
              "      background-color: #434B5C;\n",
              "      box-shadow: 0px 1px 3px 1px rgba(0, 0, 0, 0.15);\n",
              "      filter: drop-shadow(0px 1px 2px rgba(0, 0, 0, 0.3));\n",
              "      fill: #FFFFFF;\n",
              "    }\n",
              "  </style>\n",
              "\n",
              "      <script>\n",
              "        const buttonEl =\n",
              "          document.querySelector('#df-ae5db53f-9d79-4c72-9e41-78a87ca7c873 button.colab-df-convert');\n",
              "        buttonEl.style.display =\n",
              "          google.colab.kernel.accessAllowed ? 'block' : 'none';\n",
              "\n",
              "        async function convertToInteractive(key) {\n",
              "          const element = document.querySelector('#df-ae5db53f-9d79-4c72-9e41-78a87ca7c873');\n",
              "          const dataTable =\n",
              "            await google.colab.kernel.invokeFunction('convertToInteractive',\n",
              "                                                     [key], {});\n",
              "          if (!dataTable) return;\n",
              "\n",
              "          const docLinkHtml = 'Like what you see? Visit the ' +\n",
              "            '<a target=\"_blank\" href=https://colab.research.google.com/notebooks/data_table.ipynb>data table notebook</a>'\n",
              "            + ' to learn more about interactive tables.';\n",
              "          element.innerHTML = '';\n",
              "          dataTable['output_type'] = 'display_data';\n",
              "          await google.colab.output.renderOutput(dataTable, element);\n",
              "          const docLink = document.createElement('div');\n",
              "          docLink.innerHTML = docLinkHtml;\n",
              "          element.appendChild(docLink);\n",
              "        }\n",
              "      </script>\n",
              "    </div>\n",
              "  </div>\n",
              "  "
            ]
          },
          "metadata": {},
          "execution_count": 6
        }
      ]
    },
    {
      "cell_type": "markdown",
      "source": [
        "COMPUTING MOLECULAR DESCRIPTORS"
      ],
      "metadata": {
        "id": "8DGHgXitLm4Z"
      }
    },
    {
      "cell_type": "code",
      "source": [
        "#importing libraries\n",
        "! pip install padelpy"
      ],
      "metadata": {
        "colab": {
          "base_uri": "https://localhost:8080/"
        },
        "id": "3VYwRQoYt1KK",
        "outputId": "1e7f7d67-7655-48da-cf72-3e37e19397da"
      },
      "execution_count": null,
      "outputs": [
        {
          "output_type": "stream",
          "name": "stdout",
          "text": [
            "Looking in indexes: https://pypi.org/simple, https://us-python.pkg.dev/colab-wheels/public/simple/\n",
            "Collecting padelpy\n",
            "  Downloading padelpy-0.1.13-py2.py3-none-any.whl (20.9 MB)\n",
            "\u001b[2K     \u001b[90m━━━━━━━━━━━━━━━━━━━━━━━━━━━━━━━━━━━━━━━━\u001b[0m \u001b[32m20.9/20.9 MB\u001b[0m \u001b[31m12.9 MB/s\u001b[0m eta \u001b[36m0:00:00\u001b[0m\n",
            "\u001b[?25hInstalling collected packages: padelpy\n",
            "Successfully installed padelpy-0.1.13\n"
          ]
        }
      ]
    },
    {
      "cell_type": "code",
      "source": [
        "! unzip /content/drive/MyDrive/aroma/fingerprints_xml.zip"
      ],
      "metadata": {
        "colab": {
          "base_uri": "https://localhost:8080/"
        },
        "id": "YHJacHfut60r",
        "outputId": "49142af3-15cc-4bd3-c94d-15a83b624a81"
      },
      "execution_count": null,
      "outputs": [
        {
          "output_type": "stream",
          "name": "stdout",
          "text": [
            "Archive:  /content/drive/MyDrive/aroma/fingerprints_xml.zip\n",
            "  inflating: AtomPairs2DFingerprintCount.xml  \n",
            "  inflating: AtomPairs2DFingerprinter.xml  \n",
            "  inflating: EStateFingerprinter.xml  \n",
            "  inflating: ExtendedFingerprinter.xml  \n",
            "  inflating: Fingerprinter.xml       \n",
            "  inflating: GraphOnlyFingerprinter.xml  \n",
            "  inflating: KlekotaRothFingerprintCount.xml  \n",
            "  inflating: KlekotaRothFingerprinter.xml  \n",
            "  inflating: MACCSFingerprinter.xml  \n",
            "  inflating: PubchemFingerprinter.xml  \n",
            "  inflating: SubstructureFingerprintCount.xml  \n",
            "  inflating: SubstructureFingerprinter.xml  \n"
          ]
        }
      ]
    },
    {
      "cell_type": "code",
      "source": [
        "#listing and sorting the downloaded files\n",
        "import glob\n",
        "xml_files = glob.glob(\"*.xml\")\n",
        "xml_files.sort()\n",
        "xml_files"
      ],
      "metadata": {
        "colab": {
          "base_uri": "https://localhost:8080/"
        },
        "id": "CqAYAXVYuCri",
        "outputId": "70bcd485-0885-433d-a111-63e20a15df07"
      },
      "execution_count": null,
      "outputs": [
        {
          "output_type": "execute_result",
          "data": {
            "text/plain": [
              "['AtomPairs2DFingerprintCount.xml',\n",
              " 'AtomPairs2DFingerprinter.xml',\n",
              " 'EStateFingerprinter.xml',\n",
              " 'ExtendedFingerprinter.xml',\n",
              " 'Fingerprinter.xml',\n",
              " 'GraphOnlyFingerprinter.xml',\n",
              " 'KlekotaRothFingerprintCount.xml',\n",
              " 'KlekotaRothFingerprinter.xml',\n",
              " 'MACCSFingerprinter.xml',\n",
              " 'PubchemFingerprinter.xml',\n",
              " 'SubstructureFingerprintCount.xml',\n",
              " 'SubstructureFingerprinter.xml']"
            ]
          },
          "metadata": {},
          "execution_count": 9
        }
      ]
    },
    {
      "cell_type": "code",
      "source": [
        "#Creating a list of present files\n",
        "FP_list = ['AtomPairs2DCount',\n",
        " 'AtomPairs2D',\n",
        " 'EState',\n",
        " 'CDKextended',\n",
        " 'CDK',\n",
        " 'CDKgraphonly',\n",
        " 'KlekotaRothCount',\n",
        " 'KlekotaRoth',\n",
        " 'MACCS',\n",
        " 'PubChem',\n",
        " 'SubstructureCount',\n",
        " 'Substructure']"
      ],
      "metadata": {
        "id": "btRH5De-uL9f"
      },
      "execution_count": null,
      "outputs": []
    },
    {
      "cell_type": "code",
      "source": [
        "#Creating Data Dictionary\n",
        "fp = dict(zip(FP_list, xml_files))\n",
        "fp"
      ],
      "metadata": {
        "colab": {
          "base_uri": "https://localhost:8080/"
        },
        "id": "v564OIwluSFU",
        "outputId": "14e906db-fd68-4a74-eb03-136abafa7bba"
      },
      "execution_count": null,
      "outputs": [
        {
          "output_type": "execute_result",
          "data": {
            "text/plain": [
              "{'AtomPairs2DCount': 'AtomPairs2DFingerprintCount.xml',\n",
              " 'AtomPairs2D': 'AtomPairs2DFingerprinter.xml',\n",
              " 'EState': 'EStateFingerprinter.xml',\n",
              " 'CDKextended': 'ExtendedFingerprinter.xml',\n",
              " 'CDK': 'Fingerprinter.xml',\n",
              " 'CDKgraphonly': 'GraphOnlyFingerprinter.xml',\n",
              " 'KlekotaRothCount': 'KlekotaRothFingerprintCount.xml',\n",
              " 'KlekotaRoth': 'KlekotaRothFingerprinter.xml',\n",
              " 'MACCS': 'MACCSFingerprinter.xml',\n",
              " 'PubChem': 'PubchemFingerprinter.xml',\n",
              " 'SubstructureCount': 'SubstructureFingerprintCount.xml',\n",
              " 'Substructure': 'SubstructureFingerprinter.xml'}"
            ]
          },
          "metadata": {},
          "execution_count": 11
        }
      ]
    },
    {
      "cell_type": "code",
      "source": [
        "#Conactnating necessary columns\n",
        "df4 = pd.concat( [df3['Smiles'],df3['Molecule ChEMBL ID']], axis=1 )\n",
        "df4.to_csv('molecule.smi', sep='\\t', index=False, header=False)\n",
        "df4"
      ],
      "metadata": {
        "colab": {
          "base_uri": "https://localhost:8080/",
          "height": 423
        },
        "id": "iB4U5ebUuYsu",
        "outputId": "2df6f438-3a8a-4aa1-8517-4edb435762ee"
      },
      "execution_count": null,
      "outputs": [
        {
          "output_type": "execute_result",
          "data": {
            "text/plain": [
              "                                                 Smiles Molecule ChEMBL ID\n",
              "0     C[C@]12CC[C@H]3[C@H]([C@@H]1CCC2=O)[C@H](SCc1c...      CHEMBL3245350\n",
              "1          CC(C)(C)c1ccc(CN(Cc2cccc3ccccc23)n2cnnc2)cc1       CHEMBL491602\n",
              "2     CCCCS[C@@H]1CC2=CC(=O)CC[C@]2(C)[C@H]2CC[C@]3(...      CHEMBL3245348\n",
              "3       Clc1ccc(CN(Cc2ccc(-c3ccccc3)cc2)n2cnnc2)c(Cl)c1       CHEMBL490388\n",
              "4              COc1cccc(-c2cc(O)c3c(ccc4[nH]ccc43)n2)c1       CHEMBL206175\n",
              "...                                                 ...                ...\n",
              "4048  C[C@]12CC[C@H]3[C@@H](CCC4=CC(=O)[C@H]5C[C@H](...      CHEMBL3754469\n",
              "4049  C[C@]12CCC3C(CCC4=CC(=O)[C@H]5C[C@H](O)[C@]43C...       CHEMBL296617\n",
              "4083  C[C@]12CC[C@H]3[C@@H](CCC4=CC(=O)CC[C@@]43C)[C...       CHEMBL386630\n",
              "4089  COc1ccc(-c2c(SCc3ccncc3)oc3cc(OCc4ccccc4)ccc3c...       CHEMBL186079\n",
              "4090         O=c1c(-c2ccccc2)c(SCc2ccncc2)oc2cc(O)ccc12       CHEMBL184749\n",
              "\n",
              "[2739 rows x 2 columns]"
            ],
            "text/html": [
              "\n",
              "  <div id=\"df-c3554831-d82d-4b63-a020-456895428e8e\">\n",
              "    <div class=\"colab-df-container\">\n",
              "      <div>\n",
              "<style scoped>\n",
              "    .dataframe tbody tr th:only-of-type {\n",
              "        vertical-align: middle;\n",
              "    }\n",
              "\n",
              "    .dataframe tbody tr th {\n",
              "        vertical-align: top;\n",
              "    }\n",
              "\n",
              "    .dataframe thead th {\n",
              "        text-align: right;\n",
              "    }\n",
              "</style>\n",
              "<table border=\"1\" class=\"dataframe\">\n",
              "  <thead>\n",
              "    <tr style=\"text-align: right;\">\n",
              "      <th></th>\n",
              "      <th>Smiles</th>\n",
              "      <th>Molecule ChEMBL ID</th>\n",
              "    </tr>\n",
              "  </thead>\n",
              "  <tbody>\n",
              "    <tr>\n",
              "      <th>0</th>\n",
              "      <td>C[C@]12CC[C@H]3[C@H]([C@@H]1CCC2=O)[C@H](SCc1c...</td>\n",
              "      <td>CHEMBL3245350</td>\n",
              "    </tr>\n",
              "    <tr>\n",
              "      <th>1</th>\n",
              "      <td>CC(C)(C)c1ccc(CN(Cc2cccc3ccccc23)n2cnnc2)cc1</td>\n",
              "      <td>CHEMBL491602</td>\n",
              "    </tr>\n",
              "    <tr>\n",
              "      <th>2</th>\n",
              "      <td>CCCCS[C@@H]1CC2=CC(=O)CC[C@]2(C)[C@H]2CC[C@]3(...</td>\n",
              "      <td>CHEMBL3245348</td>\n",
              "    </tr>\n",
              "    <tr>\n",
              "      <th>3</th>\n",
              "      <td>Clc1ccc(CN(Cc2ccc(-c3ccccc3)cc2)n2cnnc2)c(Cl)c1</td>\n",
              "      <td>CHEMBL490388</td>\n",
              "    </tr>\n",
              "    <tr>\n",
              "      <th>4</th>\n",
              "      <td>COc1cccc(-c2cc(O)c3c(ccc4[nH]ccc43)n2)c1</td>\n",
              "      <td>CHEMBL206175</td>\n",
              "    </tr>\n",
              "    <tr>\n",
              "      <th>...</th>\n",
              "      <td>...</td>\n",
              "      <td>...</td>\n",
              "    </tr>\n",
              "    <tr>\n",
              "      <th>4048</th>\n",
              "      <td>C[C@]12CC[C@H]3[C@@H](CCC4=CC(=O)[C@H]5C[C@H](...</td>\n",
              "      <td>CHEMBL3754469</td>\n",
              "    </tr>\n",
              "    <tr>\n",
              "      <th>4049</th>\n",
              "      <td>C[C@]12CCC3C(CCC4=CC(=O)[C@H]5C[C@H](O)[C@]43C...</td>\n",
              "      <td>CHEMBL296617</td>\n",
              "    </tr>\n",
              "    <tr>\n",
              "      <th>4083</th>\n",
              "      <td>C[C@]12CC[C@H]3[C@@H](CCC4=CC(=O)CC[C@@]43C)[C...</td>\n",
              "      <td>CHEMBL386630</td>\n",
              "    </tr>\n",
              "    <tr>\n",
              "      <th>4089</th>\n",
              "      <td>COc1ccc(-c2c(SCc3ccncc3)oc3cc(OCc4ccccc4)ccc3c...</td>\n",
              "      <td>CHEMBL186079</td>\n",
              "    </tr>\n",
              "    <tr>\n",
              "      <th>4090</th>\n",
              "      <td>O=c1c(-c2ccccc2)c(SCc2ccncc2)oc2cc(O)ccc12</td>\n",
              "      <td>CHEMBL184749</td>\n",
              "    </tr>\n",
              "  </tbody>\n",
              "</table>\n",
              "<p>2739 rows × 2 columns</p>\n",
              "</div>\n",
              "      <button class=\"colab-df-convert\" onclick=\"convertToInteractive('df-c3554831-d82d-4b63-a020-456895428e8e')\"\n",
              "              title=\"Convert this dataframe to an interactive table.\"\n",
              "              style=\"display:none;\">\n",
              "        \n",
              "  <svg xmlns=\"http://www.w3.org/2000/svg\" height=\"24px\"viewBox=\"0 0 24 24\"\n",
              "       width=\"24px\">\n",
              "    <path d=\"M0 0h24v24H0V0z\" fill=\"none\"/>\n",
              "    <path d=\"M18.56 5.44l.94 2.06.94-2.06 2.06-.94-2.06-.94-.94-2.06-.94 2.06-2.06.94zm-11 1L8.5 8.5l.94-2.06 2.06-.94-2.06-.94L8.5 2.5l-.94 2.06-2.06.94zm10 10l.94 2.06.94-2.06 2.06-.94-2.06-.94-.94-2.06-.94 2.06-2.06.94z\"/><path d=\"M17.41 7.96l-1.37-1.37c-.4-.4-.92-.59-1.43-.59-.52 0-1.04.2-1.43.59L10.3 9.45l-7.72 7.72c-.78.78-.78 2.05 0 2.83L4 21.41c.39.39.9.59 1.41.59.51 0 1.02-.2 1.41-.59l7.78-7.78 2.81-2.81c.8-.78.8-2.07 0-2.86zM5.41 20L4 18.59l7.72-7.72 1.47 1.35L5.41 20z\"/>\n",
              "  </svg>\n",
              "      </button>\n",
              "      \n",
              "  <style>\n",
              "    .colab-df-container {\n",
              "      display:flex;\n",
              "      flex-wrap:wrap;\n",
              "      gap: 12px;\n",
              "    }\n",
              "\n",
              "    .colab-df-convert {\n",
              "      background-color: #E8F0FE;\n",
              "      border: none;\n",
              "      border-radius: 50%;\n",
              "      cursor: pointer;\n",
              "      display: none;\n",
              "      fill: #1967D2;\n",
              "      height: 32px;\n",
              "      padding: 0 0 0 0;\n",
              "      width: 32px;\n",
              "    }\n",
              "\n",
              "    .colab-df-convert:hover {\n",
              "      background-color: #E2EBFA;\n",
              "      box-shadow: 0px 1px 2px rgba(60, 64, 67, 0.3), 0px 1px 3px 1px rgba(60, 64, 67, 0.15);\n",
              "      fill: #174EA6;\n",
              "    }\n",
              "\n",
              "    [theme=dark] .colab-df-convert {\n",
              "      background-color: #3B4455;\n",
              "      fill: #D2E3FC;\n",
              "    }\n",
              "\n",
              "    [theme=dark] .colab-df-convert:hover {\n",
              "      background-color: #434B5C;\n",
              "      box-shadow: 0px 1px 3px 1px rgba(0, 0, 0, 0.15);\n",
              "      filter: drop-shadow(0px 1px 2px rgba(0, 0, 0, 0.3));\n",
              "      fill: #FFFFFF;\n",
              "    }\n",
              "  </style>\n",
              "\n",
              "      <script>\n",
              "        const buttonEl =\n",
              "          document.querySelector('#df-c3554831-d82d-4b63-a020-456895428e8e button.colab-df-convert');\n",
              "        buttonEl.style.display =\n",
              "          google.colab.kernel.accessAllowed ? 'block' : 'none';\n",
              "\n",
              "        async function convertToInteractive(key) {\n",
              "          const element = document.querySelector('#df-c3554831-d82d-4b63-a020-456895428e8e');\n",
              "          const dataTable =\n",
              "            await google.colab.kernel.invokeFunction('convertToInteractive',\n",
              "                                                     [key], {});\n",
              "          if (!dataTable) return;\n",
              "\n",
              "          const docLinkHtml = 'Like what you see? Visit the ' +\n",
              "            '<a target=\"_blank\" href=https://colab.research.google.com/notebooks/data_table.ipynb>data table notebook</a>'\n",
              "            + ' to learn more about interactive tables.';\n",
              "          element.innerHTML = '';\n",
              "          dataTable['output_type'] = 'display_data';\n",
              "          await google.colab.output.renderOutput(dataTable, element);\n",
              "          const docLink = document.createElement('div');\n",
              "          docLink.innerHTML = docLinkHtml;\n",
              "          element.appendChild(docLink);\n",
              "        }\n",
              "      </script>\n",
              "    </div>\n",
              "  </div>\n",
              "  "
            ]
          },
          "metadata": {},
          "execution_count": 12
        }
      ]
    },
    {
      "cell_type": "code",
      "source": [
        "#Importing PubChem\n",
        "fp[ 'PubChem']"
      ],
      "metadata": {
        "colab": {
          "base_uri": "https://localhost:8080/",
          "height": 36
        },
        "id": "i9Dxj1SdugH2",
        "outputId": "99300995-ad01-4880-91cb-5a93c6733ffe"
      },
      "execution_count": null,
      "outputs": [
        {
          "output_type": "execute_result",
          "data": {
            "text/plain": [
              "'PubchemFingerprinter.xml'"
            ],
            "application/vnd.google.colaboratory.intrinsic+json": {
              "type": "string"
            }
          },
          "metadata": {},
          "execution_count": 13
        }
      ]
    },
    {
      "cell_type": "code",
      "source": [
        "#Setting the fingerprint module\n",
        "\n",
        "from padelpy import padeldescriptor\n",
        "\n",
        "fingerprint = 'PubChem'\n",
        "\n",
        "fingerprint_output_file = ''.join([fingerprint,'.csv']) #Puchem.csv\n",
        "fingerprint_descriptortypes = fp[fingerprint]\n",
        "\n",
        "padeldescriptor(mol_dir='molecule.smi', \n",
        "                d_file=fingerprint_output_file, #'Pubchem.csv'\n",
        "                #descriptortypes='PuchemFingerprint.xml', \n",
        "                descriptortypes= fingerprint_descriptortypes,\n",
        "               detectaromaticity=True,\n",
        "                standardizenitro=True,\n",
        "                standardizetautomers=True,\n",
        "                threads=2,\n",
        "                removesalt=True,\n",
        "                log=True,\n",
        "                fingerprints=True)"
      ],
      "metadata": {
        "id": "5dxKNawtun6h"
      },
      "execution_count": null,
      "outputs": []
    },
    {
      "cell_type": "code",
      "source": [
        "df7=pd.read_csv('/content/drive/MyDrive/aroma/descriptorsC')\n",
        "df7.head()\n"
      ],
      "metadata": {
        "colab": {
          "base_uri": "https://localhost:8080/",
          "height": 299
        },
        "id": "7SYFeLdSLBGF",
        "outputId": "2518c38e-db70-4b20-f02a-bb9c8778e4f1"
      },
      "execution_count": null,
      "outputs": [
        {
          "output_type": "execute_result",
          "data": {
            "text/plain": [
              "            Name  PubchemFP0  PubchemFP1  PubchemFP2  PubchemFP3  PubchemFP4  \\\n",
              "0  CHEMBL3245350           1           1           1           1           0   \n",
              "1   CHEMBL491602           1           1           1           0           0   \n",
              "2  CHEMBL3245348           1           1           1           1           0   \n",
              "3   CHEMBL490388           1           1           1           0           0   \n",
              "4   CHEMBL206175           1           1           0           0           0   \n",
              "\n",
              "   PubchemFP5  PubchemFP6  PubchemFP7  PubchemFP8  ...  PubchemFP871  \\\n",
              "0           0           0           0           0  ...             0   \n",
              "1           0           0           0           0  ...             0   \n",
              "2           0           0           0           0  ...             0   \n",
              "3           0           0           0           0  ...             0   \n",
              "4           0           0           0           0  ...             0   \n",
              "\n",
              "   PubchemFP872  PubchemFP873  PubchemFP874  PubchemFP875  PubchemFP876  \\\n",
              "0             0             0             0             0             0   \n",
              "1             0             0             0             0             0   \n",
              "2             0             0             0             0             0   \n",
              "3             0             0             0             0             0   \n",
              "4             0             0             0             0             0   \n",
              "\n",
              "   PubchemFP877  PubchemFP878  PubchemFP879  PubchemFP880  \n",
              "0             0             0             0             0  \n",
              "1             0             0             0             0  \n",
              "2             0             0             0             0  \n",
              "3             0             0             0             0  \n",
              "4             0             0             0             0  \n",
              "\n",
              "[5 rows x 882 columns]"
            ],
            "text/html": [
              "\n",
              "  <div id=\"df-d4306fca-362d-4404-b495-c4302f83b7d6\">\n",
              "    <div class=\"colab-df-container\">\n",
              "      <div>\n",
              "<style scoped>\n",
              "    .dataframe tbody tr th:only-of-type {\n",
              "        vertical-align: middle;\n",
              "    }\n",
              "\n",
              "    .dataframe tbody tr th {\n",
              "        vertical-align: top;\n",
              "    }\n",
              "\n",
              "    .dataframe thead th {\n",
              "        text-align: right;\n",
              "    }\n",
              "</style>\n",
              "<table border=\"1\" class=\"dataframe\">\n",
              "  <thead>\n",
              "    <tr style=\"text-align: right;\">\n",
              "      <th></th>\n",
              "      <th>Name</th>\n",
              "      <th>PubchemFP0</th>\n",
              "      <th>PubchemFP1</th>\n",
              "      <th>PubchemFP2</th>\n",
              "      <th>PubchemFP3</th>\n",
              "      <th>PubchemFP4</th>\n",
              "      <th>PubchemFP5</th>\n",
              "      <th>PubchemFP6</th>\n",
              "      <th>PubchemFP7</th>\n",
              "      <th>PubchemFP8</th>\n",
              "      <th>...</th>\n",
              "      <th>PubchemFP871</th>\n",
              "      <th>PubchemFP872</th>\n",
              "      <th>PubchemFP873</th>\n",
              "      <th>PubchemFP874</th>\n",
              "      <th>PubchemFP875</th>\n",
              "      <th>PubchemFP876</th>\n",
              "      <th>PubchemFP877</th>\n",
              "      <th>PubchemFP878</th>\n",
              "      <th>PubchemFP879</th>\n",
              "      <th>PubchemFP880</th>\n",
              "    </tr>\n",
              "  </thead>\n",
              "  <tbody>\n",
              "    <tr>\n",
              "      <th>0</th>\n",
              "      <td>CHEMBL3245350</td>\n",
              "      <td>1</td>\n",
              "      <td>1</td>\n",
              "      <td>1</td>\n",
              "      <td>1</td>\n",
              "      <td>0</td>\n",
              "      <td>0</td>\n",
              "      <td>0</td>\n",
              "      <td>0</td>\n",
              "      <td>0</td>\n",
              "      <td>...</td>\n",
              "      <td>0</td>\n",
              "      <td>0</td>\n",
              "      <td>0</td>\n",
              "      <td>0</td>\n",
              "      <td>0</td>\n",
              "      <td>0</td>\n",
              "      <td>0</td>\n",
              "      <td>0</td>\n",
              "      <td>0</td>\n",
              "      <td>0</td>\n",
              "    </tr>\n",
              "    <tr>\n",
              "      <th>1</th>\n",
              "      <td>CHEMBL491602</td>\n",
              "      <td>1</td>\n",
              "      <td>1</td>\n",
              "      <td>1</td>\n",
              "      <td>0</td>\n",
              "      <td>0</td>\n",
              "      <td>0</td>\n",
              "      <td>0</td>\n",
              "      <td>0</td>\n",
              "      <td>0</td>\n",
              "      <td>...</td>\n",
              "      <td>0</td>\n",
              "      <td>0</td>\n",
              "      <td>0</td>\n",
              "      <td>0</td>\n",
              "      <td>0</td>\n",
              "      <td>0</td>\n",
              "      <td>0</td>\n",
              "      <td>0</td>\n",
              "      <td>0</td>\n",
              "      <td>0</td>\n",
              "    </tr>\n",
              "    <tr>\n",
              "      <th>2</th>\n",
              "      <td>CHEMBL3245348</td>\n",
              "      <td>1</td>\n",
              "      <td>1</td>\n",
              "      <td>1</td>\n",
              "      <td>1</td>\n",
              "      <td>0</td>\n",
              "      <td>0</td>\n",
              "      <td>0</td>\n",
              "      <td>0</td>\n",
              "      <td>0</td>\n",
              "      <td>...</td>\n",
              "      <td>0</td>\n",
              "      <td>0</td>\n",
              "      <td>0</td>\n",
              "      <td>0</td>\n",
              "      <td>0</td>\n",
              "      <td>0</td>\n",
              "      <td>0</td>\n",
              "      <td>0</td>\n",
              "      <td>0</td>\n",
              "      <td>0</td>\n",
              "    </tr>\n",
              "    <tr>\n",
              "      <th>3</th>\n",
              "      <td>CHEMBL490388</td>\n",
              "      <td>1</td>\n",
              "      <td>1</td>\n",
              "      <td>1</td>\n",
              "      <td>0</td>\n",
              "      <td>0</td>\n",
              "      <td>0</td>\n",
              "      <td>0</td>\n",
              "      <td>0</td>\n",
              "      <td>0</td>\n",
              "      <td>...</td>\n",
              "      <td>0</td>\n",
              "      <td>0</td>\n",
              "      <td>0</td>\n",
              "      <td>0</td>\n",
              "      <td>0</td>\n",
              "      <td>0</td>\n",
              "      <td>0</td>\n",
              "      <td>0</td>\n",
              "      <td>0</td>\n",
              "      <td>0</td>\n",
              "    </tr>\n",
              "    <tr>\n",
              "      <th>4</th>\n",
              "      <td>CHEMBL206175</td>\n",
              "      <td>1</td>\n",
              "      <td>1</td>\n",
              "      <td>0</td>\n",
              "      <td>0</td>\n",
              "      <td>0</td>\n",
              "      <td>0</td>\n",
              "      <td>0</td>\n",
              "      <td>0</td>\n",
              "      <td>0</td>\n",
              "      <td>...</td>\n",
              "      <td>0</td>\n",
              "      <td>0</td>\n",
              "      <td>0</td>\n",
              "      <td>0</td>\n",
              "      <td>0</td>\n",
              "      <td>0</td>\n",
              "      <td>0</td>\n",
              "      <td>0</td>\n",
              "      <td>0</td>\n",
              "      <td>0</td>\n",
              "    </tr>\n",
              "  </tbody>\n",
              "</table>\n",
              "<p>5 rows × 882 columns</p>\n",
              "</div>\n",
              "      <button class=\"colab-df-convert\" onclick=\"convertToInteractive('df-d4306fca-362d-4404-b495-c4302f83b7d6')\"\n",
              "              title=\"Convert this dataframe to an interactive table.\"\n",
              "              style=\"display:none;\">\n",
              "        \n",
              "  <svg xmlns=\"http://www.w3.org/2000/svg\" height=\"24px\"viewBox=\"0 0 24 24\"\n",
              "       width=\"24px\">\n",
              "    <path d=\"M0 0h24v24H0V0z\" fill=\"none\"/>\n",
              "    <path d=\"M18.56 5.44l.94 2.06.94-2.06 2.06-.94-2.06-.94-.94-2.06-.94 2.06-2.06.94zm-11 1L8.5 8.5l.94-2.06 2.06-.94-2.06-.94L8.5 2.5l-.94 2.06-2.06.94zm10 10l.94 2.06.94-2.06 2.06-.94-2.06-.94-.94-2.06-.94 2.06-2.06.94z\"/><path d=\"M17.41 7.96l-1.37-1.37c-.4-.4-.92-.59-1.43-.59-.52 0-1.04.2-1.43.59L10.3 9.45l-7.72 7.72c-.78.78-.78 2.05 0 2.83L4 21.41c.39.39.9.59 1.41.59.51 0 1.02-.2 1.41-.59l7.78-7.78 2.81-2.81c.8-.78.8-2.07 0-2.86zM5.41 20L4 18.59l7.72-7.72 1.47 1.35L5.41 20z\"/>\n",
              "  </svg>\n",
              "      </button>\n",
              "      \n",
              "  <style>\n",
              "    .colab-df-container {\n",
              "      display:flex;\n",
              "      flex-wrap:wrap;\n",
              "      gap: 12px;\n",
              "    }\n",
              "\n",
              "    .colab-df-convert {\n",
              "      background-color: #E8F0FE;\n",
              "      border: none;\n",
              "      border-radius: 50%;\n",
              "      cursor: pointer;\n",
              "      display: none;\n",
              "      fill: #1967D2;\n",
              "      height: 32px;\n",
              "      padding: 0 0 0 0;\n",
              "      width: 32px;\n",
              "    }\n",
              "\n",
              "    .colab-df-convert:hover {\n",
              "      background-color: #E2EBFA;\n",
              "      box-shadow: 0px 1px 2px rgba(60, 64, 67, 0.3), 0px 1px 3px 1px rgba(60, 64, 67, 0.15);\n",
              "      fill: #174EA6;\n",
              "    }\n",
              "\n",
              "    [theme=dark] .colab-df-convert {\n",
              "      background-color: #3B4455;\n",
              "      fill: #D2E3FC;\n",
              "    }\n",
              "\n",
              "    [theme=dark] .colab-df-convert:hover {\n",
              "      background-color: #434B5C;\n",
              "      box-shadow: 0px 1px 3px 1px rgba(0, 0, 0, 0.15);\n",
              "      filter: drop-shadow(0px 1px 2px rgba(0, 0, 0, 0.3));\n",
              "      fill: #FFFFFF;\n",
              "    }\n",
              "  </style>\n",
              "\n",
              "      <script>\n",
              "        const buttonEl =\n",
              "          document.querySelector('#df-d4306fca-362d-4404-b495-c4302f83b7d6 button.colab-df-convert');\n",
              "        buttonEl.style.display =\n",
              "          google.colab.kernel.accessAllowed ? 'block' : 'none';\n",
              "\n",
              "        async function convertToInteractive(key) {\n",
              "          const element = document.querySelector('#df-d4306fca-362d-4404-b495-c4302f83b7d6');\n",
              "          const dataTable =\n",
              "            await google.colab.kernel.invokeFunction('convertToInteractive',\n",
              "                                                     [key], {});\n",
              "          if (!dataTable) return;\n",
              "\n",
              "          const docLinkHtml = 'Like what you see? Visit the ' +\n",
              "            '<a target=\"_blank\" href=https://colab.research.google.com/notebooks/data_table.ipynb>data table notebook</a>'\n",
              "            + ' to learn more about interactive tables.';\n",
              "          element.innerHTML = '';\n",
              "          dataTable['output_type'] = 'display_data';\n",
              "          await google.colab.output.renderOutput(dataTable, element);\n",
              "          const docLink = document.createElement('div');\n",
              "          docLink.innerHTML = docLinkHtml;\n",
              "          element.appendChild(docLink);\n",
              "        }\n",
              "      </script>\n",
              "    </div>\n",
              "  </div>\n",
              "  "
            ]
          },
          "metadata": {},
          "execution_count": 7
        }
      ]
    },
    {
      "cell_type": "code",
      "source": [
        "X = df7.drop('Name', axis =1)"
      ],
      "metadata": {
        "id": "IigfgDsCUh_F"
      },
      "execution_count": null,
      "outputs": []
    },
    {
      "cell_type": "code",
      "source": [
        "y = df3.Activity\n",
        "y"
      ],
      "metadata": {
        "colab": {
          "base_uri": "https://localhost:8080/"
        },
        "id": "HzrFaTMHye8h",
        "outputId": "b5904f18-9da8-4802-92a7-874b10af6cbd"
      },
      "execution_count": null,
      "outputs": [
        {
          "output_type": "execute_result",
          "data": {
            "text/plain": [
              "0       0\n",
              "1       0\n",
              "2       0\n",
              "3       0\n",
              "4       0\n",
              "       ..\n",
              "4048    1\n",
              "4049    1\n",
              "4083    1\n",
              "4089    1\n",
              "4090    1\n",
              "Name: Activity, Length: 2739, dtype: int64"
            ]
          },
          "metadata": {},
          "execution_count": 9
        }
      ]
    },
    {
      "cell_type": "code",
      "source": [
        "# Remove features with variance less than 0.1\n",
        "from sklearn.feature_selection import VarianceThreshold\n",
        "selector = VarianceThreshold(threshold=0.1)\n",
        "x = selector.fit_transform(X)\n",
        "\n"
      ],
      "metadata": {
        "id": "9i1KzqaaA1gX"
      },
      "execution_count": null,
      "outputs": []
    },
    {
      "cell_type": "code",
      "source": [
        "x.shape"
      ],
      "metadata": {
        "colab": {
          "base_uri": "https://localhost:8080/"
        },
        "id": "8NUjmKyFR9W0",
        "outputId": "056ed42c-29d8-4ba8-f41d-6038884edb8c"
      },
      "execution_count": null,
      "outputs": [
        {
          "output_type": "execute_result",
          "data": {
            "text/plain": [
              "(2739, 223)"
            ]
          },
          "metadata": {},
          "execution_count": 91
        }
      ]
    },
    {
      "cell_type": "code",
      "source": [
        "from sklearn.preprocessing import StandardScaler\n",
        "scaler = StandardScaler()\n",
        "X = scaler.fit_transform(x)\n",
        "X.shape"
      ],
      "metadata": {
        "id": "qBAq2kidCTH9",
        "colab": {
          "base_uri": "https://localhost:8080/"
        },
        "outputId": "bd97af1a-1c58-4213-ec4b-db04666d5220"
      },
      "execution_count": null,
      "outputs": [
        {
          "output_type": "execute_result",
          "data": {
            "text/plain": [
              "(2739, 223)"
            ]
          },
          "metadata": {},
          "execution_count": 11
        }
      ]
    },
    {
      "cell_type": "code",
      "source": [
        "from sklearn.model_selection import train_test_split\n",
        "X_train, X_test, y_train, y_test = train_test_split(X, y, test_size=0.3, random_state=44)"
      ],
      "metadata": {
        "id": "kWc7El3t3l2p"
      },
      "execution_count": null,
      "outputs": []
    },
    {
      "cell_type": "code",
      "source": [
        "X_train.shape"
      ],
      "metadata": {
        "colab": {
          "base_uri": "https://localhost:8080/"
        },
        "id": "g2r-Nl6gVvAr",
        "outputId": "579e6260-e2db-44e2-def0-da8238fad03d"
      },
      "execution_count": null,
      "outputs": [
        {
          "output_type": "execute_result",
          "data": {
            "text/plain": [
              "(1917, 223)"
            ]
          },
          "metadata": {},
          "execution_count": 381
        }
      ]
    },
    {
      "cell_type": "code",
      "source": [
        "X_test.shape"
      ],
      "metadata": {
        "colab": {
          "base_uri": "https://localhost:8080/"
        },
        "id": "Mxf2asFaXXui",
        "outputId": "f4ac0496-d0f9-4e92-8e8d-6670e558040a"
      },
      "execution_count": null,
      "outputs": [
        {
          "output_type": "execute_result",
          "data": {
            "text/plain": [
              "(822, 223)"
            ]
          },
          "metadata": {},
          "execution_count": 382
        }
      ]
    },
    {
      "cell_type": "code",
      "source": [
        "y_train.shape"
      ],
      "metadata": {
        "colab": {
          "base_uri": "https://localhost:8080/"
        },
        "id": "30DQEZ71XKk7",
        "outputId": "69caa72d-a720-4a6e-8227-b1298117c351"
      },
      "execution_count": null,
      "outputs": [
        {
          "output_type": "execute_result",
          "data": {
            "text/plain": [
              "(1917,)"
            ]
          },
          "metadata": {},
          "execution_count": 383
        }
      ]
    },
    {
      "cell_type": "code",
      "source": [
        "y_train.value_counts()"
      ],
      "metadata": {
        "colab": {
          "base_uri": "https://localhost:8080/"
        },
        "id": "-ivdKlKJYcJZ",
        "outputId": "d7b3741a-d307-4db5-c9c2-bead80613dd1"
      },
      "execution_count": null,
      "outputs": [
        {
          "output_type": "execute_result",
          "data": {
            "text/plain": [
              "0    1155\n",
              "1     762\n",
              "Name: Activity, dtype: int64"
            ]
          },
          "metadata": {},
          "execution_count": 384
        }
      ]
    },
    {
      "cell_type": "code",
      "source": [
        "y_test.value_counts()"
      ],
      "metadata": {
        "colab": {
          "base_uri": "https://localhost:8080/"
        },
        "id": "viu7MkF1YloM",
        "outputId": "d32ade23-36e5-43d1-9576-73fda6c4cb06"
      },
      "execution_count": null,
      "outputs": [
        {
          "output_type": "execute_result",
          "data": {
            "text/plain": [
              "0    498\n",
              "1    324\n",
              "Name: Activity, dtype: int64"
            ]
          },
          "metadata": {},
          "execution_count": 385
        }
      ]
    },
    {
      "cell_type": "code",
      "source": [
        "y.value_counts()"
      ],
      "metadata": {
        "colab": {
          "base_uri": "https://localhost:8080/"
        },
        "id": "Zk8-8DwBdFcM",
        "outputId": "07de0e59-bb33-4071-dc04-633f1fd29550"
      },
      "execution_count": null,
      "outputs": [
        {
          "output_type": "execute_result",
          "data": {
            "text/plain": [
              "0    1653\n",
              "1    1086\n",
              "Name: Activity, dtype: int64"
            ]
          },
          "metadata": {},
          "execution_count": 386
        }
      ]
    },
    {
      "cell_type": "markdown",
      "source": [
        "Oversampling"
      ],
      "metadata": {
        "id": "p-l5pof-n3-y"
      }
    },
    {
      "cell_type": "code",
      "source": [
        "from imblearn.over_sampling import RandomOverSampler\n",
        "ros = RandomOverSampler(sampling_strategy=1)\n",
        "ros = x_ros , y_ros = ros.fit_resample(X_train,y_train)\n",
        "ax = y_ros.value_counts().plot.pie(autopct = '%.2f')\n",
        "_=ax.set_title(\"Over_Sampling\")"
      ],
      "metadata": {
        "colab": {
          "base_uri": "https://localhost:8080/",
          "height": 264
        },
        "id": "wGbjOhbmn2lW",
        "outputId": "c9916bb1-9759-485f-b1aa-24b69abb1ec5"
      },
      "execution_count": null,
      "outputs": [
        {
          "output_type": "display_data",
          "data": {
            "text/plain": [
              "<Figure size 432x288 with 1 Axes>"
            ],
            "image/png": "[encoded data removed]"
          },
          "metadata": {}
        }
      ]
    },
    {
      "cell_type": "code",
      "source": [
        "y_ros.value_counts()"
      ],
      "metadata": {
        "colab": {
          "base_uri": "https://localhost:8080/"
        },
        "id": "Q2jHjPyZrGg2",
        "outputId": "af198fe3-3090-45d3-a461-9c8b81e834c0"
      },
      "execution_count": null,
      "outputs": [
        {
          "output_type": "execute_result",
          "data": {
            "text/plain": [
              "0    1155\n",
              "1    1155\n",
              "Name: Activity, dtype: int64"
            ]
          },
          "metadata": {},
          "execution_count": 14
        }
      ]
    },
    {
      "cell_type": "code",
      "source": [
        "from imblearn.over_sampling import SMOTE\n",
        "sm = SMOTE(random_state = 2)"
      ],
      "metadata": {
        "id": "zLbOOr8OS2PR"
      },
      "execution_count": null,
      "outputs": []
    },
    {
      "cell_type": "code",
      "source": [
        "X_train_res, y_train_res = sm.fit_resample(x_ros, y_ros.ravel())"
      ],
      "metadata": {
        "id": "gx-h0TWyTIbB"
      },
      "execution_count": null,
      "outputs": []
    },
    {
      "cell_type": "code",
      "source": [
        "X_train_res.shape"
      ],
      "metadata": {
        "colab": {
          "base_uri": "https://localhost:8080/"
        },
        "id": "YXTo812hRSK_",
        "outputId": "f939857b-16ac-44f4-a88a-1c65ee9cd6cc"
      },
      "execution_count": null,
      "outputs": [
        {
          "output_type": "execute_result",
          "data": {
            "text/plain": [
              "(2310, 223)"
            ]
          },
          "metadata": {},
          "execution_count": 17
        }
      ]
    },
    {
      "cell_type": "code",
      "source": [
        "y_train_res.shape"
      ],
      "metadata": {
        "colab": {
          "base_uri": "https://localhost:8080/"
        },
        "id": "pLEIeGDedqPH",
        "outputId": "9a53154d-2e5f-4de7-8245-96d9e2b65cab"
      },
      "execution_count": null,
      "outputs": [
        {
          "output_type": "execute_result",
          "data": {
            "text/plain": [
              "(2310,)"
            ]
          },
          "metadata": {},
          "execution_count": 18
        }
      ]
    },
    {
      "cell_type": "markdown",
      "source": [
        "MODEL TRAINING"
      ],
      "metadata": {
        "id": "4ifPAHB_ysNs"
      }
    },
    {
      "cell_type": "markdown",
      "source": [
        "Random Forest"
      ],
      "metadata": {
        "id": "ISQHc3U22Fu7"
      }
    },
    {
      "cell_type": "code",
      "source": [
        "from sklearn.ensemble import RandomForestClassifier\n",
        "rf_model = RandomForestClassifier(n_estimators=800, max_features=\"auto\", random_state=42)\n",
        "rf_model.fit(X_train_res, y_train_res)\n"
      ],
      "metadata": {
        "colab": {
          "base_uri": "https://localhost:8080/",
          "height": 129
        },
        "id": "5eRTW419yrjN",
        "outputId": "761f33f0-6078-48dc-d2d4-faa2b26c6711"
      },
      "execution_count": null,
      "outputs": [
        {
          "output_type": "stream",
          "name": "stderr",
          "text": [
            "/usr/local/lib/python3.9/dist-packages/sklearn/ensemble/_forest.py:424: FutureWarning: `max_features='auto'` has been deprecated in 1.1 and will be removed in 1.3. To keep the past behaviour, explicitly set `max_features='sqrt'` or remove this parameter as it is also the default value for RandomForestClassifiers and ExtraTreesClassifiers.\n",
            "  warn(\n"
          ]
        },
        {
          "output_type": "execute_result",
          "data": {
            "text/plain": [
              "RandomForestClassifier(max_features='auto', n_estimators=800, random_state=42)"
            ],
            "text/html": [
              "<style>#sk-container-id-4 {color: black;background-color: white;}#sk-container-id-4 pre{padding: 0;}#sk-container-id-4 div.sk-toggleable {background-color: white;}#sk-container-id-4 label.sk-toggleable__label {cursor: pointer;display: block;width: 100%;margin-bottom: 0;padding: 0.3em;box-sizing: border-box;text-align: center;}#sk-container-id-4 label.sk-toggleable__label-arrow:before {content: \"▸\";float: left;margin-right: 0.25em;color: #696969;}#sk-container-id-4 label.sk-toggleable__label-arrow:hover:before {color: black;}#sk-container-id-4 div.sk-estimator:hover label.sk-toggleable__label-arrow:before {color: black;}#sk-container-id-4 div.sk-toggleable__content {max-height: 0;max-width: 0;overflow: hidden;text-align: left;background-color: #f0f8ff;}#sk-container-id-4 div.sk-toggleable__content pre {margin: 0.2em;color: black;border-radius: 0.25em;background-color: #f0f8ff;}#sk-container-id-4 input.sk-toggleable__control:checked~div.sk-toggleable__content {max-height: 200px;max-width: 100%;overflow: auto;}#sk-container-id-4 input.sk-toggleable__control:checked~label.sk-toggleable__label-arrow:before {content: \"▾\";}#sk-container-id-4 div.sk-estimator input.sk-toggleable__control:checked~label.sk-toggleable__label {background-color: #d4ebff;}#sk-container-id-4 div.sk-label input.sk-toggleable__control:checked~label.sk-toggleable__label {background-color: #d4ebff;}#sk-container-id-4 input.sk-hidden--visually {border: 0;clip: rect(1px 1px 1px 1px);clip: rect(1px, 1px, 1px, 1px);height: 1px;margin: -1px;overflow: hidden;padding: 0;position: absolute;width: 1px;}#sk-container-id-4 div.sk-estimator {font-family: monospace;background-color: #f0f8ff;border: 1px dotted black;border-radius: 0.25em;box-sizing: border-box;margin-bottom: 0.5em;}#sk-container-id-4 div.sk-estimator:hover {background-color: #d4ebff;}#sk-container-id-4 div.sk-parallel-item::after {content: \"\";width: 100%;border-bottom: 1px solid gray;flex-grow: 1;}#sk-container-id-4 div.sk-label:hover label.sk-toggleable__label {background-color: #d4ebff;}#sk-container-id-4 div.sk-serial::before {content: \"\";position: absolute;border-left: 1px solid gray;box-sizing: border-box;top: 0;bottom: 0;left: 50%;z-index: 0;}#sk-container-id-4 div.sk-serial {display: flex;flex-direction: column;align-items: center;background-color: white;padding-right: 0.2em;padding-left: 0.2em;position: relative;}#sk-container-id-4 div.sk-item {position: relative;z-index: 1;}#sk-container-id-4 div.sk-parallel {display: flex;align-items: stretch;justify-content: center;background-color: white;position: relative;}#sk-container-id-4 div.sk-item::before, #sk-container-id-4 div.sk-parallel-item::before {content: \"\";position: absolute;border-left: 1px solid gray;box-sizing: border-box;top: 0;bottom: 0;left: 50%;z-index: -1;}#sk-container-id-4 div.sk-parallel-item {display: flex;flex-direction: column;z-index: 1;position: relative;background-color: white;}#sk-container-id-4 div.sk-parallel-item:first-child::after {align-self: flex-end;width: 50%;}#sk-container-id-4 div.sk-parallel-item:last-child::after {align-self: flex-start;width: 50%;}#sk-container-id-4 div.sk-parallel-item:only-child::after {width: 0;}#sk-container-id-4 div.sk-dashed-wrapped {border: 1px dashed gray;margin: 0 0.4em 0.5em 0.4em;box-sizing: border-box;padding-bottom: 0.4em;background-color: white;}#sk-container-id-4 div.sk-label label {font-family: monospace;font-weight: bold;display: inline-block;line-height: 1.2em;}#sk-container-id-4 div.sk-label-container {text-align: center;}#sk-container-id-4 div.sk-container {/* jupyter's `normalize.less` sets `[hidden] { display: none; }` but bootstrap.min.css set `[hidden] { display: none !important; }` so we also need the `!important` here to be able to override the default hidden behavior on the sphinx rendered scikit-learn.org. See: https://github.com/scikit-learn/scikit-learn/issues/21755 */display: inline-block !important;position: relative;}#sk-container-id-4 div.sk-text-repr-fallback {display: none;}</style><div id=\"sk-container-id-4\" class=\"sk-top-container\"><div class=\"sk-text-repr-fallback\"><pre>RandomForestClassifier(max_features=&#x27;auto&#x27;, n_estimators=800, random_state=42)</pre><b>In a Jupyter environment, please rerun this cell to show the HTML representation or trust the notebook. <br />On GitHub, the HTML representation is unable to render, please try loading this page with nbviewer.org.</b></div><div class=\"sk-container\" hidden><div class=\"sk-item\"><div class=\"sk-estimator sk-toggleable\"><input class=\"sk-toggleable__control sk-hidden--visually\" id=\"sk-estimator-id-4\" type=\"checkbox\" checked><label for=\"sk-estimator-id-4\" class=\"sk-toggleable__label sk-toggleable__label-arrow\">RandomForestClassifier</label><div class=\"sk-toggleable__content\"><pre>RandomForestClassifier(max_features=&#x27;auto&#x27;, n_estimators=800, random_state=42)</pre></div></div></div></div></div>"
            ]
          },
          "metadata": {},
          "execution_count": 76
        }
      ]
    },
    {
      "cell_type": "code",
      "source": [
        "y_test_pred = rf_model.predict(X_test)"
      ],
      "metadata": {
        "id": "piuLR6Gc1Imd"
      },
      "execution_count": null,
      "outputs": []
    },
    {
      "cell_type": "code",
      "source": [
        "y_train_pred = rf_model.predict(X_train)"
      ],
      "metadata": {
        "id": "5q-zCERm2Sr4"
      },
      "execution_count": null,
      "outputs": []
    },
    {
      "cell_type": "code",
      "source": [
        "from sklearn.metrics import confusion_matrix\n",
        "confusion_matrix = confusion_matrix(y_test, y_test_pred)\n",
        "print(confusion_matrix)"
      ],
      "metadata": {
        "colab": {
          "base_uri": "https://localhost:8080/"
        },
        "id": "iJFtmxxAcvJT",
        "outputId": "63e0bcf3-11bb-4c9e-de31-6555400e8cdf"
      },
      "execution_count": null,
      "outputs": [
        {
          "output_type": "stream",
          "name": "stdout",
          "text": [
            "[[418  80]\n",
            " [ 65 259]]\n"
          ]
        }
      ]
    },
    {
      "cell_type": "code",
      "execution_count": null,
      "metadata": {
        "colab": {
          "base_uri": "https://localhost:8080/"
        },
        "id": "KXdAtGYOOTeI",
        "outputId": "49edd761-86a9-427b-a0f9-e37b5c309823"
      },
      "outputs": [
        {
          "output_type": "stream",
          "name": "stdout",
          "text": [
            "              precision    recall  f1-score   support\n",
            "\n",
            "           0       0.87      0.84      0.85       498\n",
            "           1       0.76      0.80      0.78       324\n",
            "\n",
            "    accuracy                           0.82       822\n",
            "   macro avg       0.81      0.82      0.82       822\n",
            "weighted avg       0.83      0.82      0.82       822\n",
            "\n"
          ]
        }
      ],
      "source": [
        "from sklearn.metrics import classification_report\n",
        "print(classification_report(y_test, y_test_pred))"
      ]
    },
    {
      "cell_type": "code",
      "execution_count": null,
      "metadata": {
        "colab": {
          "base_uri": "https://localhost:8080/"
        },
        "id": "gTXoQFuT02O4",
        "outputId": "192a0668-e605-40ea-ff2f-a755848f6ff5"
      },
      "outputs": [
        {
          "output_type": "execute_result",
          "data": {
            "text/plain": [
              "0.8723427071215657"
            ]
          },
          "metadata": {},
          "execution_count": 81
        }
      ],
      "source": [
        "from sklearn.metrics import matthews_corrcoef\n",
        "mcc_train = matthews_corrcoef(y_train, y_train_pred)\n",
        "mcc_train"
      ]
    },
    {
      "cell_type": "code",
      "execution_count": null,
      "metadata": {
        "colab": {
          "base_uri": "https://localhost:8080/"
        },
        "id": "74MNDsc-1jNI",
        "outputId": "b7dcd265-29de-4fe6-8f7e-252caefe707b"
      },
      "outputs": [
        {
          "output_type": "execute_result",
          "data": {
            "text/plain": [
              "0.6340711232465507"
            ]
          },
          "metadata": {},
          "execution_count": 82
        }
      ],
      "source": [
        "mcc_test = matthews_corrcoef(y_test, y_test_pred)\n",
        "mcc_test"
      ]
    },
    {
      "cell_type": "code",
      "source": [
        "new_data = pd.read_csv(\"/content/sample_data/external descriptors.csv\")"
      ],
      "metadata": {
        "id": "BXuHOPtePK68"
      },
      "execution_count": null,
      "outputs": []
    },
    {
      "cell_type": "code",
      "source": [
        "from sklearn.feature_selection import VarianceThreshold\n",
        "selector = VarianceThreshold(threshold=0.1)\n",
        "x = selector.fit_transform(new_data)"
      ],
      "metadata": {
        "id": "klQYNKQRRZps"
      },
      "execution_count": null,
      "outputs": []
    },
    {
      "cell_type": "code",
      "source": [
        "new_data = scaler.transform(new_data)"
      ],
      "metadata": {
        "id": "U2CNXvMMPV3F"
      },
      "execution_count": null,
      "outputs": []
    },
    {
      "cell_type": "code",
      "source": [
        "new_data_pred = rf_model.predict(new_data)"
      ],
      "metadata": {
        "colab": {
          "base_uri": "https://localhost:8080/",
          "height": 398
        },
        "id": "Q2dBbgS5PaW-",
        "outputId": "a060f1c6-ebf9-42c1-ea3e-f187020b6fd5"
      },
      "execution_count": null,
      "outputs": [
        {
          "output_type": "error",
          "ename": "ValueError",
          "evalue": "ignored",
          "traceback": [
            "\u001b[0;31m---------------------------------------------------------------------------\u001b[0m",
            "\u001b[0;31mValueError\u001b[0m                                Traceback (most recent call last)",
            "\u001b[0;32m<ipython-input-100-447cecbb18ea>\u001b[0m in \u001b[0;36m<module>\u001b[0;34m\u001b[0m\n\u001b[0;32m----> 1\u001b[0;31m \u001b[0mnew_data_pred\u001b[0m \u001b[0;34m=\u001b[0m \u001b[0mrf_model\u001b[0m\u001b[0;34m.\u001b[0m\u001b[0mpredict\u001b[0m\u001b[0;34m(\u001b[0m\u001b[0mnew_data\u001b[0m\u001b[0;34m)\u001b[0m\u001b[0;34m\u001b[0m\u001b[0;34m\u001b[0m\u001b[0m\n\u001b[0m",
            "\u001b[0;32m/usr/local/lib/python3.9/dist-packages/sklearn/ensemble/_forest.py\u001b[0m in \u001b[0;36mpredict\u001b[0;34m(self, X)\u001b[0m\n\u001b[1;32m    818\u001b[0m             \u001b[0mThe\u001b[0m \u001b[0mpredicted\u001b[0m \u001b[0mclasses\u001b[0m\u001b[0;34m.\u001b[0m\u001b[0;34m\u001b[0m\u001b[0;34m\u001b[0m\u001b[0m\n\u001b[1;32m    819\u001b[0m         \"\"\"\n\u001b[0;32m--> 820\u001b[0;31m         \u001b[0mproba\u001b[0m \u001b[0;34m=\u001b[0m \u001b[0mself\u001b[0m\u001b[0;34m.\u001b[0m\u001b[0mpredict_proba\u001b[0m\u001b[0;34m(\u001b[0m\u001b[0mX\u001b[0m\u001b[0;34m)\u001b[0m\u001b[0;34m\u001b[0m\u001b[0;34m\u001b[0m\u001b[0m\n\u001b[0m\u001b[1;32m    821\u001b[0m \u001b[0;34m\u001b[0m\u001b[0m\n\u001b[1;32m    822\u001b[0m         \u001b[0;32mif\u001b[0m \u001b[0mself\u001b[0m\u001b[0;34m.\u001b[0m\u001b[0mn_outputs_\u001b[0m \u001b[0;34m==\u001b[0m \u001b[0;36m1\u001b[0m\u001b[0;34m:\u001b[0m\u001b[0;34m\u001b[0m\u001b[0;34m\u001b[0m\u001b[0m\n",
            "\u001b[0;32m/usr/local/lib/python3.9/dist-packages/sklearn/ensemble/_forest.py\u001b[0m in \u001b[0;36mpredict_proba\u001b[0;34m(self, X)\u001b[0m\n\u001b[1;32m    860\u001b[0m         \u001b[0mcheck_is_fitted\u001b[0m\u001b[0;34m(\u001b[0m\u001b[0mself\u001b[0m\u001b[0;34m)\u001b[0m\u001b[0;34m\u001b[0m\u001b[0;34m\u001b[0m\u001b[0m\n\u001b[1;32m    861\u001b[0m         \u001b[0;31m# Check data\u001b[0m\u001b[0;34m\u001b[0m\u001b[0;34m\u001b[0m\u001b[0m\n\u001b[0;32m--> 862\u001b[0;31m         \u001b[0mX\u001b[0m \u001b[0;34m=\u001b[0m \u001b[0mself\u001b[0m\u001b[0;34m.\u001b[0m\u001b[0m_validate_X_predict\u001b[0m\u001b[0;34m(\u001b[0m\u001b[0mX\u001b[0m\u001b[0;34m)\u001b[0m\u001b[0;34m\u001b[0m\u001b[0;34m\u001b[0m\u001b[0m\n\u001b[0m\u001b[1;32m    863\u001b[0m \u001b[0;34m\u001b[0m\u001b[0m\n\u001b[1;32m    864\u001b[0m         \u001b[0;31m# Assign chunk of trees to jobs\u001b[0m\u001b[0;34m\u001b[0m\u001b[0;34m\u001b[0m\u001b[0m\n",
            "\u001b[0;32m/usr/local/lib/python3.9/dist-packages/sklearn/ensemble/_forest.py\u001b[0m in \u001b[0;36m_validate_X_predict\u001b[0;34m(self, X)\u001b[0m\n\u001b[1;32m    600\u001b[0m         Validate X whenever one tries to predict, apply, predict_proba.\"\"\"\n\u001b[1;32m    601\u001b[0m         \u001b[0mcheck_is_fitted\u001b[0m\u001b[0;34m(\u001b[0m\u001b[0mself\u001b[0m\u001b[0;34m)\u001b[0m\u001b[0;34m\u001b[0m\u001b[0;34m\u001b[0m\u001b[0m\n\u001b[0;32m--> 602\u001b[0;31m         \u001b[0mX\u001b[0m \u001b[0;34m=\u001b[0m \u001b[0mself\u001b[0m\u001b[0;34m.\u001b[0m\u001b[0m_validate_data\u001b[0m\u001b[0;34m(\u001b[0m\u001b[0mX\u001b[0m\u001b[0;34m,\u001b[0m \u001b[0mdtype\u001b[0m\u001b[0;34m=\u001b[0m\u001b[0mDTYPE\u001b[0m\u001b[0;34m,\u001b[0m \u001b[0maccept_sparse\u001b[0m\u001b[0;34m=\u001b[0m\u001b[0;34m\"csr\"\u001b[0m\u001b[0;34m,\u001b[0m \u001b[0mreset\u001b[0m\u001b[0;34m=\u001b[0m\u001b[0;32mFalse\u001b[0m\u001b[0;34m)\u001b[0m\u001b[0;34m\u001b[0m\u001b[0;34m\u001b[0m\u001b[0m\n\u001b[0m\u001b[1;32m    603\u001b[0m         \u001b[0;32mif\u001b[0m \u001b[0missparse\u001b[0m\u001b[0;34m(\u001b[0m\u001b[0mX\u001b[0m\u001b[0;34m)\u001b[0m \u001b[0;32mand\u001b[0m \u001b[0;34m(\u001b[0m\u001b[0mX\u001b[0m\u001b[0;34m.\u001b[0m\u001b[0mindices\u001b[0m\u001b[0;34m.\u001b[0m\u001b[0mdtype\u001b[0m \u001b[0;34m!=\u001b[0m \u001b[0mnp\u001b[0m\u001b[0;34m.\u001b[0m\u001b[0mintc\u001b[0m \u001b[0;32mor\u001b[0m \u001b[0mX\u001b[0m\u001b[0;34m.\u001b[0m\u001b[0mindptr\u001b[0m\u001b[0;34m.\u001b[0m\u001b[0mdtype\u001b[0m \u001b[0;34m!=\u001b[0m \u001b[0mnp\u001b[0m\u001b[0;34m.\u001b[0m\u001b[0mintc\u001b[0m\u001b[0;34m)\u001b[0m\u001b[0;34m:\u001b[0m\u001b[0;34m\u001b[0m\u001b[0;34m\u001b[0m\u001b[0m\n\u001b[1;32m    604\u001b[0m             \u001b[0;32mraise\u001b[0m \u001b[0mValueError\u001b[0m\u001b[0;34m(\u001b[0m\u001b[0;34m\"No support for np.int64 index based sparse matrices\"\u001b[0m\u001b[0;34m)\u001b[0m\u001b[0;34m\u001b[0m\u001b[0;34m\u001b[0m\u001b[0m\n",
            "\u001b[0;32m/usr/local/lib/python3.9/dist-packages/sklearn/base.py\u001b[0m in \u001b[0;36m_validate_data\u001b[0;34m(self, X, y, reset, validate_separately, **check_params)\u001b[0m\n\u001b[1;32m    563\u001b[0m             \u001b[0;32mraise\u001b[0m \u001b[0mValueError\u001b[0m\u001b[0;34m(\u001b[0m\u001b[0;34m\"Validation should be done on X, y or both.\"\u001b[0m\u001b[0;34m)\u001b[0m\u001b[0;34m\u001b[0m\u001b[0;34m\u001b[0m\u001b[0m\n\u001b[1;32m    564\u001b[0m         \u001b[0;32melif\u001b[0m \u001b[0;32mnot\u001b[0m \u001b[0mno_val_X\u001b[0m \u001b[0;32mand\u001b[0m \u001b[0mno_val_y\u001b[0m\u001b[0;34m:\u001b[0m\u001b[0;34m\u001b[0m\u001b[0;34m\u001b[0m\u001b[0m\n\u001b[0;32m--> 565\u001b[0;31m             \u001b[0mX\u001b[0m \u001b[0;34m=\u001b[0m \u001b[0mcheck_array\u001b[0m\u001b[0;34m(\u001b[0m\u001b[0mX\u001b[0m\u001b[0;34m,\u001b[0m \u001b[0minput_name\u001b[0m\u001b[0;34m=\u001b[0m\u001b[0;34m\"X\"\u001b[0m\u001b[0;34m,\u001b[0m \u001b[0;34m**\u001b[0m\u001b[0mcheck_params\u001b[0m\u001b[0;34m)\u001b[0m\u001b[0;34m\u001b[0m\u001b[0;34m\u001b[0m\u001b[0m\n\u001b[0m\u001b[1;32m    566\u001b[0m             \u001b[0mout\u001b[0m \u001b[0;34m=\u001b[0m \u001b[0mX\u001b[0m\u001b[0;34m\u001b[0m\u001b[0;34m\u001b[0m\u001b[0m\n\u001b[1;32m    567\u001b[0m         \u001b[0;32melif\u001b[0m \u001b[0mno_val_X\u001b[0m \u001b[0;32mand\u001b[0m \u001b[0;32mnot\u001b[0m \u001b[0mno_val_y\u001b[0m\u001b[0;34m:\u001b[0m\u001b[0;34m\u001b[0m\u001b[0;34m\u001b[0m\u001b[0m\n",
            "\u001b[0;32m/usr/local/lib/python3.9/dist-packages/sklearn/utils/validation.py\u001b[0m in \u001b[0;36mcheck_array\u001b[0;34m(array, accept_sparse, accept_large_sparse, dtype, order, copy, force_all_finite, ensure_2d, allow_nd, ensure_min_samples, ensure_min_features, estimator, input_name)\u001b[0m\n\u001b[1;32m    919\u001b[0m \u001b[0;34m\u001b[0m\u001b[0m\n\u001b[1;32m    920\u001b[0m         \u001b[0;32mif\u001b[0m \u001b[0mforce_all_finite\u001b[0m\u001b[0;34m:\u001b[0m\u001b[0;34m\u001b[0m\u001b[0;34m\u001b[0m\u001b[0m\n\u001b[0;32m--> 921\u001b[0;31m             _assert_all_finite(\n\u001b[0m\u001b[1;32m    922\u001b[0m                 \u001b[0marray\u001b[0m\u001b[0;34m,\u001b[0m\u001b[0;34m\u001b[0m\u001b[0;34m\u001b[0m\u001b[0m\n\u001b[1;32m    923\u001b[0m                 \u001b[0minput_name\u001b[0m\u001b[0;34m=\u001b[0m\u001b[0minput_name\u001b[0m\u001b[0;34m,\u001b[0m\u001b[0;34m\u001b[0m\u001b[0;34m\u001b[0m\u001b[0m\n",
            "\u001b[0;32m/usr/local/lib/python3.9/dist-packages/sklearn/utils/validation.py\u001b[0m in \u001b[0;36m_assert_all_finite\u001b[0;34m(X, allow_nan, msg_dtype, estimator_name, input_name)\u001b[0m\n\u001b[1;32m    159\u001b[0m                 \u001b[0;34m\"#estimators-that-handle-nan-values\"\u001b[0m\u001b[0;34m\u001b[0m\u001b[0;34m\u001b[0m\u001b[0m\n\u001b[1;32m    160\u001b[0m             )\n\u001b[0;32m--> 161\u001b[0;31m         \u001b[0;32mraise\u001b[0m \u001b[0mValueError\u001b[0m\u001b[0;34m(\u001b[0m\u001b[0mmsg_err\u001b[0m\u001b[0;34m)\u001b[0m\u001b[0;34m\u001b[0m\u001b[0;34m\u001b[0m\u001b[0m\n\u001b[0m\u001b[1;32m    162\u001b[0m \u001b[0;34m\u001b[0m\u001b[0m\n\u001b[1;32m    163\u001b[0m \u001b[0;34m\u001b[0m\u001b[0m\n",
            "\u001b[0;31mValueError\u001b[0m: Input X contains NaN.\nRandomForestClassifier does not accept missing values encoded as NaN natively. For supervised learning, you might want to consider sklearn.ensemble.HistGradientBoostingClassifier and Regressor which accept missing values encoded as NaNs natively. Alternatively, it is possible to preprocess the data, for instance by using an imputer transformer in a pipeline or drop samples with missing values. See https://scikit-learn.org/stable/modules/impute.html You can find a list of all estimators that handle NaN values at the following page: https://scikit-learn.org/stable/modules/impute.html#estimators-that-handle-nan-values"
          ]
        }
      ]
    },
    {
      "cell_type": "code",
      "source": [
        "print(\"New data predictions:\", new_data_pred)"
      ],
      "metadata": {
        "id": "SD7FfZ1LPeXG"
      },
      "execution_count": null,
      "outputs": []
    },
    {
      "cell_type": "markdown",
      "source": [
        "Hyperparameter tuning"
      ],
      "metadata": {
        "id": "ePSxkw3x2Lp7"
      }
    },
    {
      "cell_type": "code",
      "source": [
        "rf_model.get_params()"
      ],
      "metadata": {
        "colab": {
          "base_uri": "https://localhost:8080/"
        },
        "id": "B96cx6AjOrLp",
        "outputId": "e9853c25-5ff1-46b9-b0a5-5fea8ff7e764"
      },
      "execution_count": null,
      "outputs": [
        {
          "output_type": "execute_result",
          "data": {
            "text/plain": [
              "{'bootstrap': True,\n",
              " 'ccp_alpha': 0.0,\n",
              " 'class_weight': None,\n",
              " 'criterion': 'gini',\n",
              " 'max_depth': None,\n",
              " 'max_features': 'auto',\n",
              " 'max_leaf_nodes': None,\n",
              " 'max_samples': None,\n",
              " 'min_impurity_decrease': 0.0,\n",
              " 'min_samples_leaf': 1,\n",
              " 'min_samples_split': 2,\n",
              " 'min_weight_fraction_leaf': 0.0,\n",
              " 'n_estimators': 50,\n",
              " 'n_jobs': None,\n",
              " 'oob_score': False,\n",
              " 'random_state': 44,\n",
              " 'verbose': 0,\n",
              " 'warm_start': False}"
            ]
          },
          "metadata": {},
          "execution_count": 45
        }
      ]
    },
    {
      "cell_type": "code",
      "source": [
        "from sklearn.model_selection import RandomizedSearchCV"
      ],
      "metadata": {
        "id": "3iGbnK8KPOi3"
      },
      "execution_count": null,
      "outputs": []
    },
    {
      "cell_type": "code",
      "source": [
        "# Number of trees in random forest\n",
        "n_estimators = [int(x) for x in np.linspace(start = 200, stop = 2000, num = 10)]\n",
        "# Number of features to consider at every split\n",
        "max_features = ['auto', 'sqrt']\n",
        "# Maximum number of levels in tree\n",
        "max_depth = [int(x) for x in np.linspace(10, 110, num = 11)]\n",
        "max_depth.append(None)\n",
        "# Minimum number of samples required to split a node\n",
        "min_samples_split = [2, 5, 10]\n",
        "# Minimum number of samples required at each leaf node\n",
        "min_samples_leaf = [1, 2, 4]\n",
        "# Method of selecting samples for training each tree\n",
        "bootstrap = [True, False]\n"
      ],
      "metadata": {
        "id": "WJnFNSCuPrX-"
      },
      "execution_count": null,
      "outputs": []
    },
    {
      "cell_type": "code",
      "source": [
        "random_grid = {'n_estimators': n_estimators,\n",
        "               'max_features': max_features,\n",
        "               'max_depth': max_depth,\n",
        "               'min_samples_split': min_samples_split,\n",
        "               'min_samples_leaf': min_samples_leaf,\n",
        "               'bootstrap': bootstrap}"
      ],
      "metadata": {
        "id": "aCxQ4KGiPzHb"
      },
      "execution_count": null,
      "outputs": []
    },
    {
      "cell_type": "code",
      "source": [
        "random_grid"
      ],
      "metadata": {
        "colab": {
          "base_uri": "https://localhost:8080/"
        },
        "id": "yCR_krH2QFup",
        "outputId": "29d1a389-36be-4438-f0f2-25796a91e3ab"
      },
      "execution_count": null,
      "outputs": [
        {
          "output_type": "execute_result",
          "data": {
            "text/plain": [
              "{'n_estimators': [200, 400, 600, 800, 1000, 1200, 1400, 1600, 1800, 2000],\n",
              " 'max_features': ['auto', 'sqrt'],\n",
              " 'max_depth': [10, 20, 30, 40, 50, 60, 70, 80, 90, 100, 110, None],\n",
              " 'min_samples_split': [2, 5, 10],\n",
              " 'min_samples_leaf': [1, 2, 4],\n",
              " 'bootstrap': [True, False]}"
            ]
          },
          "metadata": {},
          "execution_count": 49
        }
      ]
    },
    {
      "cell_type": "code",
      "source": [
        "rf_random = RandomizedSearchCV(estimator = rf_model, param_distributions = random_grid, n_iter = 100, cv = 10, verbose=2, random_state=42, n_jobs = -1)"
      ],
      "metadata": {
        "id": "1biekFLEQWwH"
      },
      "execution_count": null,
      "outputs": []
    },
    {
      "cell_type": "code",
      "source": [
        "rf_random.fit(X_train, y_train)"
      ],
      "metadata": {
        "colab": {
          "base_uri": "https://localhost:8080/"
        },
        "id": "YPDA5saMQspZ",
        "outputId": "17f96e38-bb28-4c38-f955-c9bcf52a478f"
      },
      "execution_count": null,
      "outputs": [
        {
          "output_type": "stream",
          "name": "stdout",
          "text": [
            "Fitting 10 folds for each of 100 candidates, totalling 1000 fits\n"
          ]
        },
        {
          "output_type": "execute_result",
          "data": {
            "text/plain": [
              "RandomizedSearchCV(cv=10,\n",
              "                   estimator=RandomForestClassifier(max_features='sqrt',\n",
              "                                                    n_estimators=1000,\n",
              "                                                    random_state=42),\n",
              "                   n_iter=100, n_jobs=-1,\n",
              "                   param_distributions={'bootstrap': [True, False],\n",
              "                                        'max_depth': [10, 20, 30, 40, 50, 60,\n",
              "                                                      70, 80, 90, 100, 110,\n",
              "                                                      None],\n",
              "                                        'max_features': ['auto', 'sqrt'],\n",
              "                                        'min_samples_leaf': [1, 2, 4],\n",
              "                                        'min_samples_split': [2, 5, 10],\n",
              "                                        'n_estimators': [200, 400, 600, 800,\n",
              "                                                         1000, 1200, 1400, 1600,\n",
              "                                                         1800, 2000]},\n",
              "                   random_state=42, verbose=2)"
            ]
          },
          "metadata": {},
          "execution_count": 62
        }
      ]
    },
    {
      "cell_type": "code",
      "source": [
        "rf_random.best_params_"
      ],
      "metadata": {
        "colab": {
          "base_uri": "https://localhost:8080/"
        },
        "id": "psJpY5tmVGzs",
        "outputId": "320df0c3-6437-4dea-98b6-43543d9533f7"
      },
      "execution_count": null,
      "outputs": [
        {
          "output_type": "execute_result",
          "data": {
            "text/plain": [
              "{'n_estimators': 800,\n",
              " 'min_samples_split': 2,\n",
              " 'min_samples_leaf': 1,\n",
              " 'max_features': 'auto',\n",
              " 'max_depth': 100,\n",
              " 'bootstrap': True}"
            ]
          },
          "metadata": {},
          "execution_count": 63
        }
      ]
    },
    {
      "cell_type": "markdown",
      "source": [
        "ROC-AUC"
      ],
      "metadata": {
        "id": "-xKlFqq_i0Vn"
      }
    },
    {
      "cell_type": "code",
      "source": [
        "from sklearn.metrics import roc_auc_score\n",
        "from sklearn.metrics import roc_curve"
      ],
      "metadata": {
        "id": "_LtM9mExi-pv"
      },
      "execution_count": null,
      "outputs": []
    },
    {
      "cell_type": "markdown",
      "source": [
        "SUPPORT VECTOR MACHINE"
      ],
      "metadata": {
        "id": "vEoq8L68kXKH"
      }
    },
    {
      "cell_type": "code",
      "source": [
        "from sklearn import svm\n",
        "from sklearn.svm import SVC\n",
        "clf = svm.SVC(kernel='rbf',gamma=0.1, C=10, probability=True)\n",
        "clf.fit(X_train_res, y_train_res)\n",
        "y_pred = clf.predict(X_test)"
      ],
      "metadata": {
        "id": "utZDMTbakWnK"
      },
      "execution_count": null,
      "outputs": []
    },
    {
      "cell_type": "code",
      "source": [
        "from sklearn import metrics"
      ],
      "metadata": {
        "id": "4_O3TNyiqgP0"
      },
      "execution_count": null,
      "outputs": []
    },
    {
      "cell_type": "code",
      "source": [
        "from sklearn.metrics import classification_report\n",
        "print(classification_report(y_test, y_pred))"
      ],
      "metadata": {
        "colab": {
          "base_uri": "https://localhost:8080/"
        },
        "id": "bHL4JGFKNrW4",
        "outputId": "04a2107a-c4f2-4bb7-a4df-81dfa44d95ba"
      },
      "execution_count": null,
      "outputs": [
        {
          "output_type": "stream",
          "name": "stdout",
          "text": [
            "              precision    recall  f1-score   support\n",
            "\n",
            "           0       0.80      0.90      0.85       498\n",
            "           1       0.81      0.66      0.73       324\n",
            "\n",
            "    accuracy                           0.81       822\n",
            "   macro avg       0.81      0.78      0.79       822\n",
            "weighted avg       0.81      0.81      0.80       822\n",
            "\n"
          ]
        }
      ]
    },
    {
      "cell_type": "code",
      "source": [
        "from sklearn.metrics import confusion_matrix\n",
        "confusion_matrix = confusion_matrix(y_test, y_pred)\n",
        "print(confusion_matrix)"
      ],
      "metadata": {
        "colab": {
          "base_uri": "https://localhost:8080/"
        },
        "id": "wCitXvjgrnGP",
        "outputId": "cf844f47-343a-4534-d7c8-8cc524811622"
      },
      "execution_count": null,
      "outputs": [
        {
          "output_type": "stream",
          "name": "stdout",
          "text": [
            "[[448  50]\n",
            " [110 214]]\n"
          ]
        }
      ]
    },
    {
      "cell_type": "code",
      "source": [
        "#makepredictions\n",
        "y_train_pred= clf.predict(X_train)"
      ],
      "metadata": {
        "id": "5wi7AegFsBwW"
      },
      "execution_count": null,
      "outputs": []
    },
    {
      "cell_type": "code",
      "source": [
        "mcc_train = matthews_corrcoef(y_train, y_train_pred)\n",
        "mcc_train"
      ],
      "metadata": {
        "colab": {
          "base_uri": "https://localhost:8080/"
        },
        "id": "lxrcHNNnry6m",
        "outputId": "0fa501bb-f4ac-4b78-ac40-0d5f2d9af5cb"
      },
      "execution_count": null,
      "outputs": [
        {
          "output_type": "execute_result",
          "data": {
            "text/plain": [
              "0.8718679223937227"
            ]
          },
          "metadata": {},
          "execution_count": 33
        }
      ]
    },
    {
      "cell_type": "code",
      "source": [
        "mcc_test = matthews_corrcoef(y_test, y_pred)\n",
        "mcc_test"
      ],
      "metadata": {
        "colab": {
          "base_uri": "https://localhost:8080/"
        },
        "id": "x0RDJiONr_bh",
        "outputId": "34590642-9b48-49f3-acc6-b0aa869666c2"
      },
      "execution_count": null,
      "outputs": [
        {
          "output_type": "execute_result",
          "data": {
            "text/plain": [
              "0.5861754888070725"
            ]
          },
          "metadata": {},
          "execution_count": 34
        }
      ]
    },
    {
      "cell_type": "markdown",
      "source": [
        "Hyperparameter Tuning"
      ],
      "metadata": {
        "id": "WEW9iyyK3GhV"
      }
    },
    {
      "cell_type": "code",
      "source": [
        "# Check default values\n",
        "svc = SVC()\n",
        "params = svc.get_params()"
      ],
      "metadata": {
        "id": "MLMuGOth1mrG"
      },
      "execution_count": null,
      "outputs": []
    },
    {
      "cell_type": "code",
      "source": [
        "params"
      ],
      "metadata": {
        "colab": {
          "base_uri": "https://localhost:8080/"
        },
        "id": "mpTmIC7N3Jnf",
        "outputId": "d75a8cad-1748-47df-e460-90728e898096"
      },
      "execution_count": null,
      "outputs": [
        {
          "output_type": "execute_result",
          "data": {
            "text/plain": [
              "{'C': 1.0,\n",
              " 'break_ties': False,\n",
              " 'cache_size': 200,\n",
              " 'class_weight': None,\n",
              " 'coef0': 0.0,\n",
              " 'decision_function_shape': 'ovr',\n",
              " 'degree': 3,\n",
              " 'gamma': 'scale',\n",
              " 'kernel': 'rbf',\n",
              " 'max_iter': -1,\n",
              " 'probability': False,\n",
              " 'random_state': None,\n",
              " 'shrinking': True,\n",
              " 'tol': 0.001,\n",
              " 'verbose': False}"
            ]
          },
          "metadata": {},
          "execution_count": 32
        }
      ]
    },
    {
      "cell_type": "code",
      "source": [
        "from sklearn.model_selection import GridSearchCV\n"
      ],
      "metadata": {
        "id": "eiNXAaxy5ar8"
      },
      "execution_count": null,
      "outputs": []
    },
    {
      "cell_type": "code",
      "source": [
        "C_range = np.logspace(-1, 1, 3)\n",
        "gamma_range = np.logspace(-1, 1, 3)"
      ],
      "metadata": {
        "id": "SDMnjYV78naH"
      },
      "execution_count": null,
      "outputs": []
    },
    {
      "cell_type": "code",
      "source": [
        "# Finding the best hyperparameters\n",
        "params = {\n",
        "    'C': C_range,\n",
        "    'gamma': gamma_range.tolist()+['scale', 'auto'],\n",
        "    'kernel': ['rbf','poly']\n",
        "}"
      ],
      "metadata": {
        "id": "PJCH7_j34VDa"
      },
      "execution_count": null,
      "outputs": []
    },
    {
      "cell_type": "code",
      "source": [
        "clf = GridSearchCV(\n",
        "    estimator=SVC(),\n",
        "    param_grid=params,\n",
        "    cv=10,\n",
        "    n_jobs=5,\n",
        "    verbose=1\n",
        ")"
      ],
      "metadata": {
        "id": "v3Qsz1jc4Yup"
      },
      "execution_count": null,
      "outputs": []
    },
    {
      "cell_type": "code",
      "source": [
        "clf.fit(X_train, y_train)"
      ],
      "metadata": {
        "colab": {
          "base_uri": "https://localhost:8080/"
        },
        "id": "KgaLCVBr4cto",
        "outputId": "d0ec8f95-565d-4a83-8528-5027b6736446"
      },
      "execution_count": null,
      "outputs": [
        {
          "output_type": "stream",
          "name": "stdout",
          "text": [
            "Fitting 10 folds for each of 30 candidates, totalling 300 fits\n"
          ]
        },
        {
          "output_type": "execute_result",
          "data": {
            "text/plain": [
              "GridSearchCV(cv=10, estimator=SVC(), n_jobs=5,\n",
              "             param_grid={'C': array([ 0.1,  1. , 10. ]),\n",
              "                         'gamma': [0.1, 1.0, 10.0, 'scale', 'auto'],\n",
              "                         'kernel': ['rbf', 'poly']},\n",
              "             verbose=1)"
            ]
          },
          "metadata": {},
          "execution_count": 41
        }
      ]
    },
    {
      "cell_type": "code",
      "source": [
        "clf.best_params_"
      ],
      "metadata": {
        "colab": {
          "base_uri": "https://localhost:8080/"
        },
        "id": "3eWPC0Yx4ixX",
        "outputId": "1312ef1b-58d7-4b74-ea4b-9b6dc0e0cee9"
      },
      "execution_count": null,
      "outputs": [
        {
          "output_type": "execute_result",
          "data": {
            "text/plain": [
              "{'C': 10.0, 'gamma': 0.1, 'kernel': 'rbf'}"
            ]
          },
          "metadata": {},
          "execution_count": 43
        }
      ]
    },
    {
      "cell_type": "markdown",
      "source": [
        "LOGISTICS REGRESSION"
      ],
      "metadata": {
        "id": "kw7EIgNdul1B"
      }
    },
    {
      "cell_type": "code",
      "source": [
        "from sklearn.linear_model import LogisticRegression\n",
        "from sklearn import metrics\n",
        "logreg = LogisticRegression(C=0.6158, penalty='l2', solver ='liblinear')\n",
        "logreg.fit(X_train_res, y_train_res)"
      ],
      "metadata": {
        "colab": {
          "base_uri": "https://localhost:8080/",
          "height": 74
        },
        "id": "YzIS2fOJuh8-",
        "outputId": "6095257f-d17e-444a-cdab-55be47dd282a"
      },
      "execution_count": null,
      "outputs": [
        {
          "output_type": "execute_result",
          "data": {
            "text/plain": [
              "LogisticRegression(C=0.6158, solver='liblinear')"
            ],
            "text/html": [
              "<style>#sk-container-id-2 {color: black;background-color: white;}#sk-container-id-2 pre{padding: 0;}#sk-container-id-2 div.sk-toggleable {background-color: white;}#sk-container-id-2 label.sk-toggleable__label {cursor: pointer;display: block;width: 100%;margin-bottom: 0;padding: 0.3em;box-sizing: border-box;text-align: center;}#sk-container-id-2 label.sk-toggleable__label-arrow:before {content: \"▸\";float: left;margin-right: 0.25em;color: #696969;}#sk-container-id-2 label.sk-toggleable__label-arrow:hover:before {color: black;}#sk-container-id-2 div.sk-estimator:hover label.sk-toggleable__label-arrow:before {color: black;}#sk-container-id-2 div.sk-toggleable__content {max-height: 0;max-width: 0;overflow: hidden;text-align: left;background-color: #f0f8ff;}#sk-container-id-2 div.sk-toggleable__content pre {margin: 0.2em;color: black;border-radius: 0.25em;background-color: #f0f8ff;}#sk-container-id-2 input.sk-toggleable__control:checked~div.sk-toggleable__content {max-height: 200px;max-width: 100%;overflow: auto;}#sk-container-id-2 input.sk-toggleable__control:checked~label.sk-toggleable__label-arrow:before {content: \"▾\";}#sk-container-id-2 div.sk-estimator input.sk-toggleable__control:checked~label.sk-toggleable__label {background-color: #d4ebff;}#sk-container-id-2 div.sk-label input.sk-toggleable__control:checked~label.sk-toggleable__label {background-color: #d4ebff;}#sk-container-id-2 input.sk-hidden--visually {border: 0;clip: rect(1px 1px 1px 1px);clip: rect(1px, 1px, 1px, 1px);height: 1px;margin: -1px;overflow: hidden;padding: 0;position: absolute;width: 1px;}#sk-container-id-2 div.sk-estimator {font-family: monospace;background-color: #f0f8ff;border: 1px dotted black;border-radius: 0.25em;box-sizing: border-box;margin-bottom: 0.5em;}#sk-container-id-2 div.sk-estimator:hover {background-color: #d4ebff;}#sk-container-id-2 div.sk-parallel-item::after {content: \"\";width: 100%;border-bottom: 1px solid gray;flex-grow: 1;}#sk-container-id-2 div.sk-label:hover label.sk-toggleable__label {background-color: #d4ebff;}#sk-container-id-2 div.sk-serial::before {content: \"\";position: absolute;border-left: 1px solid gray;box-sizing: border-box;top: 0;bottom: 0;left: 50%;z-index: 0;}#sk-container-id-2 div.sk-serial {display: flex;flex-direction: column;align-items: center;background-color: white;padding-right: 0.2em;padding-left: 0.2em;position: relative;}#sk-container-id-2 div.sk-item {position: relative;z-index: 1;}#sk-container-id-2 div.sk-parallel {display: flex;align-items: stretch;justify-content: center;background-color: white;position: relative;}#sk-container-id-2 div.sk-item::before, #sk-container-id-2 div.sk-parallel-item::before {content: \"\";position: absolute;border-left: 1px solid gray;box-sizing: border-box;top: 0;bottom: 0;left: 50%;z-index: -1;}#sk-container-id-2 div.sk-parallel-item {display: flex;flex-direction: column;z-index: 1;position: relative;background-color: white;}#sk-container-id-2 div.sk-parallel-item:first-child::after {align-self: flex-end;width: 50%;}#sk-container-id-2 div.sk-parallel-item:last-child::after {align-self: flex-start;width: 50%;}#sk-container-id-2 div.sk-parallel-item:only-child::after {width: 0;}#sk-container-id-2 div.sk-dashed-wrapped {border: 1px dashed gray;margin: 0 0.4em 0.5em 0.4em;box-sizing: border-box;padding-bottom: 0.4em;background-color: white;}#sk-container-id-2 div.sk-label label {font-family: monospace;font-weight: bold;display: inline-block;line-height: 1.2em;}#sk-container-id-2 div.sk-label-container {text-align: center;}#sk-container-id-2 div.sk-container {/* jupyter's `normalize.less` sets `[hidden] { display: none; }` but bootstrap.min.css set `[hidden] { display: none !important; }` so we also need the `!important` here to be able to override the default hidden behavior on the sphinx rendered scikit-learn.org. See: https://github.com/scikit-learn/scikit-learn/issues/21755 */display: inline-block !important;position: relative;}#sk-container-id-2 div.sk-text-repr-fallback {display: none;}</style><div id=\"sk-container-id-2\" class=\"sk-top-container\"><div class=\"sk-text-repr-fallback\"><pre>LogisticRegression(C=0.6158, solver=&#x27;liblinear&#x27;)</pre><b>In a Jupyter environment, please rerun this cell to show the HTML representation or trust the notebook. <br />On GitHub, the HTML representation is unable to render, please try loading this page with nbviewer.org.</b></div><div class=\"sk-container\" hidden><div class=\"sk-item\"><div class=\"sk-estimator sk-toggleable\"><input class=\"sk-toggleable__control sk-hidden--visually\" id=\"sk-estimator-id-2\" type=\"checkbox\" checked><label for=\"sk-estimator-id-2\" class=\"sk-toggleable__label sk-toggleable__label-arrow\">LogisticRegression</label><div class=\"sk-toggleable__content\"><pre>LogisticRegression(C=0.6158, solver=&#x27;liblinear&#x27;)</pre></div></div></div></div></div>"
            ]
          },
          "metadata": {},
          "execution_count": 35
        }
      ]
    },
    {
      "cell_type": "code",
      "source": [
        "y_pred = logreg.predict(X_test)\n",
        "print('Accuracy of logistic regression classifier on test set: {:.2f}'.format(logreg.score(X_test, y_test)))"
      ],
      "metadata": {
        "colab": {
          "base_uri": "https://localhost:8080/"
        },
        "id": "ywv2gMHyvy6E",
        "outputId": "c7c29f55-83e2-447b-d585-1f9e5d39e184"
      },
      "execution_count": null,
      "outputs": [
        {
          "output_type": "stream",
          "name": "stdout",
          "text": [
            "Accuracy of logistic regression classifier on test set: 0.75\n"
          ]
        }
      ]
    },
    {
      "cell_type": "code",
      "source": [
        "from sklearn.metrics import confusion_matrix\n",
        "confusion_matrix = confusion_matrix(y_test, y_pred)\n",
        "print(confusion_matrix)"
      ],
      "metadata": {
        "colab": {
          "base_uri": "https://localhost:8080/"
        },
        "id": "jniu6kvZv9GZ",
        "outputId": "8128e6cd-ba5a-4e6d-f4f1-03188046ead1"
      },
      "execution_count": null,
      "outputs": [
        {
          "output_type": "stream",
          "name": "stdout",
          "text": [
            "[[375 123]\n",
            " [ 79 245]]\n"
          ]
        }
      ]
    },
    {
      "cell_type": "code",
      "source": [
        "from sklearn.metrics import classification_report\n",
        "print(classification_report(y_test, y_pred))"
      ],
      "metadata": {
        "colab": {
          "base_uri": "https://localhost:8080/"
        },
        "id": "utQ9tiQnwPqC",
        "outputId": "2a007fac-3740-43cb-821c-caf097bf284b"
      },
      "execution_count": null,
      "outputs": [
        {
          "output_type": "stream",
          "name": "stdout",
          "text": [
            "              precision    recall  f1-score   support\n",
            "\n",
            "           0       0.83      0.75      0.79       498\n",
            "           1       0.67      0.76      0.71       324\n",
            "\n",
            "    accuracy                           0.75       822\n",
            "   macro avg       0.75      0.75      0.75       822\n",
            "weighted avg       0.76      0.75      0.76       822\n",
            "\n"
          ]
        }
      ]
    },
    {
      "cell_type": "code",
      "source": [
        "y_train_pred =logreg.predict(X_train)\n",
        "mcc_train = matthews_corrcoef(y_train, y_train_pred)\n",
        "mcc_train"
      ],
      "metadata": {
        "colab": {
          "base_uri": "https://localhost:8080/"
        },
        "id": "RJYZkVIDw8TN",
        "outputId": "76f4cf7f-2b9e-4bfe-cc0e-ded07f51d66e"
      },
      "execution_count": null,
      "outputs": [
        {
          "output_type": "execute_result",
          "data": {
            "text/plain": [
              "0.6095012023802208"
            ]
          },
          "metadata": {},
          "execution_count": 39
        }
      ]
    },
    {
      "cell_type": "code",
      "source": [
        "mcc_test = matthews_corrcoef(y_test, y_pred)\n",
        "mcc_test"
      ],
      "metadata": {
        "colab": {
          "base_uri": "https://localhost:8080/"
        },
        "id": "bQhgClj1x3Mo",
        "outputId": "9b62632f-c56c-4bf9-a6c0-e1c63dbd99c2"
      },
      "execution_count": null,
      "outputs": [
        {
          "output_type": "execute_result",
          "data": {
            "text/plain": [
              "0.5003925628282618"
            ]
          },
          "metadata": {},
          "execution_count": 40
        }
      ]
    },
    {
      "cell_type": "markdown",
      "source": [
        "Hyperparameter Tuning"
      ],
      "metadata": {
        "id": "CbujLxGw6k1r"
      }
    },
    {
      "cell_type": "code",
      "source": [
        "from sklearn.model_selection import GridSearchCV\n",
        "solvers = ['newton-cg', 'liblinear']\n",
        "penalty = ['l2']\n",
        "c= np.logspace(-4, 4, 20)"
      ],
      "metadata": {
        "id": "ei0ThwzrAsZ-"
      },
      "execution_count": null,
      "outputs": []
    },
    {
      "cell_type": "code",
      "source": [
        "grid = dict(solver=solvers,penalty=penalty,C=c)\n",
        "grid_search = GridSearchCV(estimator=logreg, param_grid=grid, cv = 10, n_jobs=-1, error_score=0)\n",
        "grid_result = grid_search.fit(X_train, y_train)"
      ],
      "metadata": {
        "id": "MFm7VOoQA3Ng"
      },
      "execution_count": null,
      "outputs": []
    },
    {
      "cell_type": "code",
      "source": [
        "grid_result.best_params_"
      ],
      "metadata": {
        "colab": {
          "base_uri": "https://localhost:8080/"
        },
        "id": "w1YELfHFSjeh",
        "outputId": "14c0f06b-9eed-4445-ab88-cd8fd5176445"
      },
      "execution_count": null,
      "outputs": [
        {
          "output_type": "execute_result",
          "data": {
            "text/plain": [
              "{'C': 0.615848211066026, 'penalty': 'l2', 'solver': 'liblinear'}"
            ]
          },
          "metadata": {},
          "execution_count": 73
        }
      ]
    },
    {
      "cell_type": "markdown",
      "source": [
        "K-nearest neighbor"
      ],
      "metadata": {
        "id": "p8v51hMU3UCV"
      }
    },
    {
      "cell_type": "code",
      "source": [
        "from sklearn.neighbors import KNeighborsClassifier\n"
      ],
      "metadata": {
        "id": "YidzBkgg3Zr1"
      },
      "execution_count": null,
      "outputs": []
    },
    {
      "cell_type": "code",
      "source": [
        "knn5 = KNeighborsClassifier(n_neighbors = 5, metric = 'manhattan', weights = 'distance')\n",
        "knn1 = KNeighborsClassifier(n_neighbors=1)"
      ],
      "metadata": {
        "id": "17JwOJen4UEI"
      },
      "execution_count": null,
      "outputs": []
    },
    {
      "cell_type": "code",
      "source": [
        "knn5.fit(X_train_res, y_train_res)\n",
        "knn1.fit(X_train_res, y_train_res)\n",
        "\n",
        "y_pred_5 = knn5.predict(X_test)\n",
        "y_pred_1 = knn1.predict(X_test)"
      ],
      "metadata": {
        "id": "qBe7yOXj4VPb"
      },
      "execution_count": null,
      "outputs": []
    },
    {
      "cell_type": "code",
      "source": [
        "from sklearn.metrics import classification_report\n",
        "print(classification_report(y_test, y_pred_5))"
      ],
      "metadata": {
        "colab": {
          "base_uri": "https://localhost:8080/"
        },
        "id": "QqJB-F3L5C4S",
        "outputId": "b9b96057-afa9-412e-86ea-770eaf305337"
      },
      "execution_count": null,
      "outputs": [
        {
          "output_type": "stream",
          "name": "stdout",
          "text": [
            "              precision    recall  f1-score   support\n",
            "\n",
            "           0       0.85      0.80      0.83       498\n",
            "           1       0.72      0.79      0.75       324\n",
            "\n",
            "    accuracy                           0.80       822\n",
            "   macro avg       0.79      0.79      0.79       822\n",
            "weighted avg       0.80      0.80      0.80       822\n",
            "\n"
          ]
        }
      ]
    },
    {
      "cell_type": "code",
      "source": [
        "y_train_pred= knn5.predict(X_train)\n",
        "mcc_train = matthews_corrcoef(y_train, y_train_pred)\n",
        "mcc_train"
      ],
      "metadata": {
        "colab": {
          "base_uri": "https://localhost:8080/"
        },
        "id": "qht8VdMa7Rkc",
        "outputId": "376ec2c3-eafd-4884-a606-86ba3b35cb12"
      },
      "execution_count": null,
      "outputs": [
        {
          "output_type": "execute_result",
          "data": {
            "text/plain": [
              "0.8687777315032765"
            ]
          },
          "metadata": {},
          "execution_count": 45
        }
      ]
    },
    {
      "cell_type": "code",
      "source": [
        "mcc_test = matthews_corrcoef(y_test, y_pred_5)\n",
        "mcc_test"
      ],
      "metadata": {
        "colab": {
          "base_uri": "https://localhost:8080/"
        },
        "id": "xlk06I0u7QNK",
        "outputId": "a601bb16-655c-4161-dd12-0a1e2b80333a"
      },
      "execution_count": null,
      "outputs": [
        {
          "output_type": "execute_result",
          "data": {
            "text/plain": [
              "0.5811932732272926"
            ]
          },
          "metadata": {},
          "execution_count": 46
        }
      ]
    },
    {
      "cell_type": "markdown",
      "source": [
        "Hyperparameter Tuning"
      ],
      "metadata": {
        "id": "46m1JkuY696m"
      }
    },
    {
      "cell_type": "code",
      "source": [
        "n_neighbors = range(1, 21, 2)\n",
        "weights = ['uniform', 'distance']\n",
        "metric = ['euclidean', 'manhattan', 'minkowski']"
      ],
      "metadata": {
        "id": "0XLzT23LCB7x"
      },
      "execution_count": null,
      "outputs": []
    },
    {
      "cell_type": "code",
      "source": [
        "grid = dict(n_neighbors=n_neighbors,weights=weights,metric=metric)\n",
        "grid_search = GridSearchCV(estimator=knn5, param_grid=grid, n_jobs=-1, cv=10 , error_score=0)\n",
        "grid_result = grid_search.fit(X_train, y_train)"
      ],
      "metadata": {
        "id": "BkxX4jfkCF0_"
      },
      "execution_count": null,
      "outputs": []
    },
    {
      "cell_type": "code",
      "source": [
        "grid_result.best_params_"
      ],
      "metadata": {
        "colab": {
          "base_uri": "https://localhost:8080/"
        },
        "id": "mhmhHMOzWksa",
        "outputId": "fa7501d2-c0e8-4eca-8336-6de10327c83c"
      },
      "execution_count": null,
      "outputs": [
        {
          "output_type": "execute_result",
          "data": {
            "text/plain": [
              "{'metric': 'manhattan', 'n_neighbors': 5, 'weights': 'distance'}"
            ]
          },
          "metadata": {},
          "execution_count": 88
        }
      ]
    },
    {
      "cell_type": "markdown",
      "source": [
        "DECISION TREE"
      ],
      "metadata": {
        "id": "ng4KyLTR8FnO"
      }
    },
    {
      "cell_type": "code",
      "source": [
        "from sklearn.tree import DecisionTreeClassifier\n",
        "dtc = DecisionTreeClassifier(max_depth= 9,criterion ='gini', min_samples_leaf=2, min_samples_split= 4)\n",
        "dtc.fit(X_train_res, y_train_res)\n",
        "y_pred = dtc.predict(X_test)"
      ],
      "metadata": {
        "id": "EZC6-C2G9qsM"
      },
      "execution_count": null,
      "outputs": []
    },
    {
      "cell_type": "code",
      "source": [
        "from sklearn.metrics import classification_report\n",
        "print(classification_report(y_test, y_pred))"
      ],
      "metadata": {
        "colab": {
          "base_uri": "https://localhost:8080/"
        },
        "id": "9XRHtQ3M9tkX",
        "outputId": "fd06a54f-1211-447e-d8e5-9eb4728449f4"
      },
      "execution_count": null,
      "outputs": [
        {
          "output_type": "stream",
          "name": "stdout",
          "text": [
            "              precision    recall  f1-score   support\n",
            "\n",
            "           0       0.84      0.74      0.78       498\n",
            "           1       0.66      0.78      0.71       324\n",
            "\n",
            "    accuracy                           0.75       822\n",
            "   macro avg       0.75      0.76      0.75       822\n",
            "weighted avg       0.77      0.75      0.76       822\n",
            "\n"
          ]
        }
      ]
    },
    {
      "cell_type": "code",
      "source": [
        "y_train_pred= dtc.predict(X_train)\n",
        "mcc_train = matthews_corrcoef(y_train, y_train_pred)\n",
        "mcc_train"
      ],
      "metadata": {
        "colab": {
          "base_uri": "https://localhost:8080/"
        },
        "id": "sB2_gYSc-HQt",
        "outputId": "3547a537-62cc-435f-a129-e09bc6d38555"
      },
      "execution_count": null,
      "outputs": [
        {
          "output_type": "execute_result",
          "data": {
            "text/plain": [
              "0.6945088951732873"
            ]
          },
          "metadata": {},
          "execution_count": 49
        }
      ]
    },
    {
      "cell_type": "code",
      "source": [
        "mcc_test = matthews_corrcoef(y_test, y_pred)\n",
        "mcc_test"
      ],
      "metadata": {
        "colab": {
          "base_uri": "https://localhost:8080/"
        },
        "id": "yPxW3_xQ-Bth",
        "outputId": "e37d1f43-d808-4b78-a5c8-4a9d7ca86b12"
      },
      "execution_count": null,
      "outputs": [
        {
          "output_type": "execute_result",
          "data": {
            "text/plain": [
              "0.5062859316309487"
            ]
          },
          "metadata": {},
          "execution_count": 50
        }
      ]
    },
    {
      "cell_type": "markdown",
      "source": [
        "Hyperparameter Tuning"
      ],
      "metadata": {
        "id": "0H9qYacW7aE8"
      }
    },
    {
      "cell_type": "code",
      "source": [
        "from sklearn.model_selection import GridSearchCV"
      ],
      "metadata": {
        "id": "ZFGrSfGDelog"
      },
      "execution_count": null,
      "outputs": []
    },
    {
      "cell_type": "code",
      "source": [
        "\n",
        "# Define the parameter grid to search over\n",
        "param_grid = {\n",
        "    'max_depth': [2, 3, 4, 5, 6, 7, 8, 9, 10],\n",
        "    'min_samples_split': [2, 3, 4, 5, 6, 7, 8, 9, 10],\n",
        "    'min_samples_leaf': [1, 2, 3, 4, 5, 6, 7, 8, 9, 10],\n",
        "    'max_features': ['auto', 'sqrt', 'log2', None],\n",
        "    'criterion': ['gini', 'entropy']\n",
        "}\n",
        "\n",
        "# Create the grid search object\n",
        "dt_grid_search = GridSearchCV(estimator=dtc, param_grid=param_grid, cv=10)\n",
        "\n",
        "# Fit the grid search object to the data\n",
        "dt_grid_search.fit(X_train, y_train)\n",
        "\n",
        "# Print the best hyperparameters\n",
        "print('Best hyperparameters:', dt_grid_search.best_params_)\n",
        "\n",
        "# Print the best cross-validation score\n",
        "print('Best cross-validation score:', dt_grid_search.best_score_)\n"
      ],
      "metadata": {
        "id": "diSd_GkedERT"
      },
      "execution_count": null,
      "outputs": []
    },
    {
      "cell_type": "code",
      "source": [],
      "metadata": {
        "id": "s-SMIXckHh2Q"
      },
      "execution_count": null,
      "outputs": []
    },
    {
      "cell_type": "markdown",
      "source": [
        "ROC AUC"
      ],
      "metadata": {
        "id": "FLJiY-nOIc8l"
      }
    },
    {
      "cell_type": "code",
      "source": [
        "from sklearn.metrics import roc_curve, roc_auc_score"
      ],
      "metadata": {
        "id": "QyynLKzdIjJH"
      },
      "execution_count": null,
      "outputs": []
    },
    {
      "cell_type": "code",
      "source": [
        "#probabilities prediction\n",
        "r_probs = [0 for _ in range(len(y_test))]\n",
        "rf_probs = rf_model.predict_proba(X_test)\n",
        "logreg_probs = logreg.predict_proba(X_test)\n",
        "knn1_probs = knn1.predict_proba(X_test)\n",
        "dtc_probs = dtc.predict_proba(X_test)\n",
        "clf_probs = clf.predict_proba(X_test)\n"
      ],
      "metadata": {
        "id": "RaMVMY_qInq9"
      },
      "execution_count": null,
      "outputs": []
    },
    {
      "cell_type": "code",
      "source": [
        "#prediction for the positive outcome is kept\n",
        "rf_probs = rf_probs[:, 1]\n",
        "logreg_probs = logreg_probs[:, 1]\n",
        "knn1_probs = knn1_probs[:, 1]\n",
        "dtc_probs = dtc_probs[:, 1]\n",
        "clf_probs = clf_probs[:, 1]"
      ],
      "metadata": {
        "id": "0gM7jmx6Irh8"
      },
      "execution_count": null,
      "outputs": []
    },
    {
      "cell_type": "code",
      "source": [
        "#calculate ROC curve\n",
        "r_fpr, r_tpr, _ = roc_curve(y_test, r_probs)\n",
        "rf_fpr, rf_tpr, _ = roc_curve(y_test, rf_probs)\n",
        "logreg_fpr, logreg_tpr, _ = roc_curve(y_test, logreg_probs)\n",
        "knn1_fpr, knn1_tpr, _ = roc_curve(y_test, knn1_probs)\n",
        "dtc_fpr, dtc_tpr, _ = roc_curve(y_test, dtc_probs)\n",
        "clf_fpr, clf_tpr, _ = roc_curve(y_test, clf_probs)\n",
        "     "
      ],
      "metadata": {
        "id": "7gq6NoCDI2_4"
      },
      "execution_count": null,
      "outputs": []
    },
    {
      "cell_type": "code",
      "source": [
        "r_auc = roc_auc_score(y_test, r_probs)\n",
        "rf_auc = roc_auc_score(y_test, rf_probs)\n",
        "logreg_auc = roc_auc_score(y_test, logreg_probs)\n",
        "knn1_auc = roc_auc_score(y_test, knn1_probs)\n",
        "dtc_auc = roc_auc_score(y_test, dtc_probs)\n",
        "clf_auc = roc_auc_score(y_test, clf_probs)\n",
        "     "
      ],
      "metadata": {
        "id": "KLf2hkp0I83P"
      },
      "execution_count": null,
      "outputs": []
    },
    {
      "cell_type": "code",
      "source": [
        "print('Random (chance) Prediction: AUROC = %.3f' % (r_auc))\n",
        "print('Random Forest: AUROC = %.3f' % (rf_auc))\n",
        "print('Logreg: AUROC = %.3f' % (logreg_auc))\n",
        "print('KNN: AUROC = %.3f' % (knn1_auc))\n",
        "print('Decision Tree: AUROC = %.3f' % (dtc_auc))\n",
        "print('SVM: AUROC = %.3f' % (clf_auc))"
      ],
      "metadata": {
        "colab": {
          "base_uri": "https://localhost:8080/"
        },
        "id": "Zh9SHaTwJAib",
        "outputId": "9c04be40-ef2e-4130-f509-64d15aa5b2f6"
      },
      "execution_count": null,
      "outputs": [
        {
          "output_type": "stream",
          "name": "stdout",
          "text": [
            "Random (chance) Prediction: AUROC = 0.500\n",
            "Random Forest: AUROC = 0.884\n",
            "Logreg: AUROC = 0.819\n",
            "KNN: AUROC = 0.788\n",
            "Decision Tree: AUROC = 0.805\n",
            "SVM: AUROC = 0.846\n"
          ]
        }
      ]
    },
    {
      "cell_type": "code",
      "source": [
        "plt.plot(r_fpr, r_tpr, linestyle='--', label='Random prediction (AUROC = %0.3f)' % r_auc)\n",
        "plt.plot(rf_fpr, rf_tpr, marker='.', label='Random Forest (AUROC = %0.3f)' % rf_auc)\n",
        "plt.plot(logreg_fpr, logreg_tpr, marker='.', label='Logistic Regression (AUROC = %0.3f)' % logreg_auc)\n",
        "plt.plot(knn1_fpr, knn1_tpr, marker='.', label='KNN (AUROC = %0.3f)' % knn1_auc)\n",
        "plt.plot(dtc_fpr, dtc_tpr, marker='.', label='Decision Tree (AUROC = %0.3f)' % dtc_auc)\n",
        "plt.plot(clf_fpr, clf_tpr, marker='.', label='SVM (AUROC = %0.3f)' % clf_auc)\n",
        "\n",
        "# Title\n",
        "plt.title('ROC Plot')\n",
        "# Axis labels\n",
        "plt.xlabel('False Positive Rate')\n",
        "plt.ylabel('True Positive Rate')\n",
        "# Show legend\n",
        "plt.legend() # \n",
        "# Show plot\n",
        "plt.show()\n",
        "     \n"
      ],
      "metadata": {
        "colab": {
          "base_uri": "https://localhost:8080/",
          "height": 295
        },
        "id": "uRuHziy4JI1i",
        "outputId": "43fa009b-3d6d-405c-ec5b-cf9a323cc8ab"
      },
      "execution_count": null,
      "outputs": [
        {
          "output_type": "display_data",
          "data": {
            "text/plain": [
              "<Figure size 432x288 with 1 Axes>"
            ],
            "image/png": "[encoded data removed]"
          },
          "metadata": {
            "needs_background": "light"
          }
        }
      ]
    }
  ],
  "metadata": {
    "accelerator": "GPU",
    "colab": {
      "provenance": [],
      "include_colab_link": true
    },
    "kernelspec": {
      "display_name": "Python 3",
      "name": "python3"
    },
    "language_info": {
      "name": "python"
    }
  },
  "nbformat": 4,
  "nbformat_minor": 0
}