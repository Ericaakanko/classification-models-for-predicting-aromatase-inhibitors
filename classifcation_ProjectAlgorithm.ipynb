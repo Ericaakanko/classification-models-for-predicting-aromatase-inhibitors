{
  "cells": [
    {
      "cell_type": "markdown",
      "metadata": {
        "id": "view-in-github",
        "colab_type": "text"
      },
      "source": [
        "<a href=\"https://colab.research.google.com/github/Ericaakanko/classification-models-for-predicting-aromatase-inhibitors/blob/main/classifcation_ProjectAlgorithm.ipynb\" target=\"_parent\"><img src=\"https://colab.research.google.com/assets/colab-badge.svg\" alt=\"Open In Colab\"/></a>"
      ]
    },
    {
      "cell_type": "code",
      "execution_count": null,
      "metadata": {
        "id": "f23D_AiPupw2"
      },
      "outputs": [],
      "source": [
        "import pandas as pd\n",
        "import numpy as np\n",
        "import seaborn as sns\n",
        "import matplotlib.pyplot as plt\n"
      ]
    },
    {
      "cell_type": "code",
      "execution_count": null,
      "metadata": {
        "colab": {
          "base_uri": "https://localhost:8080/"
        },
        "id": "nd0UBRY0-iaQ",
        "outputId": "88a0e9ed-ff39-42a0-dda5-f275ab522c48"
      },
      "outputs": [
        {
          "output_type": "stream",
          "name": "stdout",
          "text": [
            "Mounted at /content/drive\n"
          ]
        }
      ],
      "source": [
        "from google.colab import drive\n",
        "drive.mount('/content/drive')"
      ]
    },
    {
      "cell_type": "code",
      "execution_count": null,
      "metadata": {
        "colab": {
          "base_uri": "https://localhost:8080/",
          "height": 206
        },
        "id": "ABw5rdSBoPLb",
        "outputId": "751b370a-b47f-48fb-f8db-65ff689105ff"
      },
      "outputs": [
        {
          "output_type": "execute_result",
          "data": {
            "text/plain": [
              "  Molecule ChEMBL ID  Molecular Weight #RO5 AlogP  \\\n",
              "0      CHEMBL3245350            408.61    1     6   \n",
              "1       CHEMBL491602            370.50    1  5.07   \n",
              "2      CHEMBL3245348            374.59    1   5.6   \n",
              "3       CHEMBL490388            409.32    1  5.59   \n",
              "4       CHEMBL206175            290.32    0   4.1   \n",
              "\n",
              "                                              Smiles Standard Type  \\\n",
              "0  C[C@]12CC[C@H]3[C@H]([C@@H]1CCC2=O)[C@H](SCc1c...      Activity   \n",
              "1       CC(C)(C)c1ccc(CN(Cc2cccc3ccccc23)n2cnnc2)cc1      Activity   \n",
              "2  CCCCS[C@@H]1CC2=CC(=O)CC[C@]2(C)[C@H]2CC[C@]3(...      Activity   \n",
              "3    Clc1ccc(CN(Cc2ccc(-c3ccccc3)cc2)n2cnnc2)c(Cl)c1      Activity   \n",
              "4           COc1cccc(-c2cc(O)c3c(ccc4[nH]ccc43)n2)c1      Activity   \n",
              "\n",
              "   Standard Value  Activity     Comment  \n",
              "0             NaN         0  Not Active  \n",
              "1             NaN         0  Not Active  \n",
              "2             NaN         0  Not Active  \n",
              "3             NaN         0  Not Active  \n",
              "4             NaN         0  Not Active  "
            ],
            "text/html": [
              "\n",
              "  <div id=\"df-b98297b2-eac7-4ac1-9303-94db4fd6d073\">\n",
              "    <div class=\"colab-df-container\">\n",
              "      <div>\n",
              "<style scoped>\n",
              "    .dataframe tbody tr th:only-of-type {\n",
              "        vertical-align: middle;\n",
              "    }\n",
              "\n",
              "    .dataframe tbody tr th {\n",
              "        vertical-align: top;\n",
              "    }\n",
              "\n",
              "    .dataframe thead th {\n",
              "        text-align: right;\n",
              "    }\n",
              "</style>\n",
              "<table border=\"1\" class=\"dataframe\">\n",
              "  <thead>\n",
              "    <tr style=\"text-align: right;\">\n",
              "      <th></th>\n",
              "      <th>Molecule ChEMBL ID</th>\n",
              "      <th>Molecular Weight</th>\n",
              "      <th>#RO5</th>\n",
              "      <th>AlogP</th>\n",
              "      <th>Smiles</th>\n",
              "      <th>Standard Type</th>\n",
              "      <th>Standard Value</th>\n",
              "      <th>Activity</th>\n",
              "      <th>Comment</th>\n",
              "    </tr>\n",
              "  </thead>\n",
              "  <tbody>\n",
              "    <tr>\n",
              "      <th>0</th>\n",
              "      <td>CHEMBL3245350</td>\n",
              "      <td>408.61</td>\n",
              "      <td>1</td>\n",
              "      <td>6</td>\n",
              "      <td>C[C@]12CC[C@H]3[C@H]([C@@H]1CCC2=O)[C@H](SCc1c...</td>\n",
              "      <td>Activity</td>\n",
              "      <td>NaN</td>\n",
              "      <td>0</td>\n",
              "      <td>Not Active</td>\n",
              "    </tr>\n",
              "    <tr>\n",
              "      <th>1</th>\n",
              "      <td>CHEMBL491602</td>\n",
              "      <td>370.50</td>\n",
              "      <td>1</td>\n",
              "      <td>5.07</td>\n",
              "      <td>CC(C)(C)c1ccc(CN(Cc2cccc3ccccc23)n2cnnc2)cc1</td>\n",
              "      <td>Activity</td>\n",
              "      <td>NaN</td>\n",
              "      <td>0</td>\n",
              "      <td>Not Active</td>\n",
              "    </tr>\n",
              "    <tr>\n",
              "      <th>2</th>\n",
              "      <td>CHEMBL3245348</td>\n",
              "      <td>374.59</td>\n",
              "      <td>1</td>\n",
              "      <td>5.6</td>\n",
              "      <td>CCCCS[C@@H]1CC2=CC(=O)CC[C@]2(C)[C@H]2CC[C@]3(...</td>\n",
              "      <td>Activity</td>\n",
              "      <td>NaN</td>\n",
              "      <td>0</td>\n",
              "      <td>Not Active</td>\n",
              "    </tr>\n",
              "    <tr>\n",
              "      <th>3</th>\n",
              "      <td>CHEMBL490388</td>\n",
              "      <td>409.32</td>\n",
              "      <td>1</td>\n",
              "      <td>5.59</td>\n",
              "      <td>Clc1ccc(CN(Cc2ccc(-c3ccccc3)cc2)n2cnnc2)c(Cl)c1</td>\n",
              "      <td>Activity</td>\n",
              "      <td>NaN</td>\n",
              "      <td>0</td>\n",
              "      <td>Not Active</td>\n",
              "    </tr>\n",
              "    <tr>\n",
              "      <th>4</th>\n",
              "      <td>CHEMBL206175</td>\n",
              "      <td>290.32</td>\n",
              "      <td>0</td>\n",
              "      <td>4.1</td>\n",
              "      <td>COc1cccc(-c2cc(O)c3c(ccc4[nH]ccc43)n2)c1</td>\n",
              "      <td>Activity</td>\n",
              "      <td>NaN</td>\n",
              "      <td>0</td>\n",
              "      <td>Not Active</td>\n",
              "    </tr>\n",
              "  </tbody>\n",
              "</table>\n",
              "</div>\n",
              "      <button class=\"colab-df-convert\" onclick=\"convertToInteractive('df-b98297b2-eac7-4ac1-9303-94db4fd6d073')\"\n",
              "              title=\"Convert this dataframe to an interactive table.\"\n",
              "              style=\"display:none;\">\n",
              "        \n",
              "  <svg xmlns=\"http://www.w3.org/2000/svg\" height=\"24px\"viewBox=\"0 0 24 24\"\n",
              "       width=\"24px\">\n",
              "    <path d=\"M0 0h24v24H0V0z\" fill=\"none\"/>\n",
              "    <path d=\"M18.56 5.44l.94 2.06.94-2.06 2.06-.94-2.06-.94-.94-2.06-.94 2.06-2.06.94zm-11 1L8.5 8.5l.94-2.06 2.06-.94-2.06-.94L8.5 2.5l-.94 2.06-2.06.94zm10 10l.94 2.06.94-2.06 2.06-.94-2.06-.94-.94-2.06-.94 2.06-2.06.94z\"/><path d=\"M17.41 7.96l-1.37-1.37c-.4-.4-.92-.59-1.43-.59-.52 0-1.04.2-1.43.59L10.3 9.45l-7.72 7.72c-.78.78-.78 2.05 0 2.83L4 21.41c.39.39.9.59 1.41.59.51 0 1.02-.2 1.41-.59l7.78-7.78 2.81-2.81c.8-.78.8-2.07 0-2.86zM5.41 20L4 18.59l7.72-7.72 1.47 1.35L5.41 20z\"/>\n",
              "  </svg>\n",
              "      </button>\n",
              "      \n",
              "  <style>\n",
              "    .colab-df-container {\n",
              "      display:flex;\n",
              "      flex-wrap:wrap;\n",
              "      gap: 12px;\n",
              "    }\n",
              "\n",
              "    .colab-df-convert {\n",
              "      background-color: #E8F0FE;\n",
              "      border: none;\n",
              "      border-radius: 50%;\n",
              "      cursor: pointer;\n",
              "      display: none;\n",
              "      fill: #1967D2;\n",
              "      height: 32px;\n",
              "      padding: 0 0 0 0;\n",
              "      width: 32px;\n",
              "    }\n",
              "\n",
              "    .colab-df-convert:hover {\n",
              "      background-color: #E2EBFA;\n",
              "      box-shadow: 0px 1px 2px rgba(60, 64, 67, 0.3), 0px 1px 3px 1px rgba(60, 64, 67, 0.15);\n",
              "      fill: #174EA6;\n",
              "    }\n",
              "\n",
              "    [theme=dark] .colab-df-convert {\n",
              "      background-color: #3B4455;\n",
              "      fill: #D2E3FC;\n",
              "    }\n",
              "\n",
              "    [theme=dark] .colab-df-convert:hover {\n",
              "      background-color: #434B5C;\n",
              "      box-shadow: 0px 1px 3px 1px rgba(0, 0, 0, 0.15);\n",
              "      filter: drop-shadow(0px 1px 2px rgba(0, 0, 0, 0.3));\n",
              "      fill: #FFFFFF;\n",
              "    }\n",
              "  </style>\n",
              "\n",
              "      <script>\n",
              "        const buttonEl =\n",
              "          document.querySelector('#df-b98297b2-eac7-4ac1-9303-94db4fd6d073 button.colab-df-convert');\n",
              "        buttonEl.style.display =\n",
              "          google.colab.kernel.accessAllowed ? 'block' : 'none';\n",
              "\n",
              "        async function convertToInteractive(key) {\n",
              "          const element = document.querySelector('#df-b98297b2-eac7-4ac1-9303-94db4fd6d073');\n",
              "          const dataTable =\n",
              "            await google.colab.kernel.invokeFunction('convertToInteractive',\n",
              "                                                     [key], {});\n",
              "          if (!dataTable) return;\n",
              "\n",
              "          const docLinkHtml = 'Like what you see? Visit the ' +\n",
              "            '<a target=\"_blank\" href=https://colab.research.google.com/notebooks/data_table.ipynb>data table notebook</a>'\n",
              "            + ' to learn more about interactive tables.';\n",
              "          element.innerHTML = '';\n",
              "          dataTable['output_type'] = 'display_data';\n",
              "          await google.colab.output.renderOutput(dataTable, element);\n",
              "          const docLink = document.createElement('div');\n",
              "          docLink.innerHTML = docLinkHtml;\n",
              "          element.appendChild(docLink);\n",
              "        }\n",
              "      </script>\n",
              "    </div>\n",
              "  </div>\n",
              "  "
            ]
          },
          "metadata": {},
          "execution_count": 3
        }
      ],
      "source": [
        "df=pd.read_csv('/content/drive/MyDrive/aroma/aromataseUse1.csv')\n",
        "df.head()\n",
        "\n"
      ]
    },
    {
      "cell_type": "code",
      "source": [
        "df1 = df.drop_duplicates(['Smiles'], keep ='first')\n",
        "df1"
      ],
      "metadata": {
        "colab": {
          "base_uri": "https://localhost:8080/",
          "height": 423
        },
        "id": "B3XgocRIrkkL",
        "outputId": "613b49f1-49c6-4d19-aa6b-04aa3d8cf37c"
      },
      "execution_count": null,
      "outputs": [
        {
          "output_type": "execute_result",
          "data": {
            "text/plain": [
              "     Molecule ChEMBL ID  Molecular Weight #RO5 AlogP  \\\n",
              "0         CHEMBL3245350            408.61    1     6   \n",
              "1          CHEMBL491602            370.50    1  5.07   \n",
              "2         CHEMBL3245348            374.59    1   5.6   \n",
              "3          CHEMBL490388            409.32    1  5.59   \n",
              "4          CHEMBL206175            290.32    0   4.1   \n",
              "...                 ...               ...  ...   ...   \n",
              "4048      CHEMBL3754469            314.43    0  3.06   \n",
              "4049       CHEMBL296617            314.42    0  3.06   \n",
              "4083       CHEMBL386630            288.43    0  3.88   \n",
              "4089       CHEMBL186079            481.57    1  6.73   \n",
              "4090       CHEMBL184749            361.42    0  4.85   \n",
              "\n",
              "                                                 Smiles Standard Type  \\\n",
              "0     C[C@]12CC[C@H]3[C@H]([C@@H]1CCC2=O)[C@H](SCc1c...      Activity   \n",
              "1          CC(C)(C)c1ccc(CN(Cc2cccc3ccccc23)n2cnnc2)cc1      Activity   \n",
              "2     CCCCS[C@@H]1CC2=CC(=O)CC[C@]2(C)[C@H]2CC[C@]3(...      Activity   \n",
              "3       Clc1ccc(CN(Cc2ccc(-c3ccccc3)cc2)n2cnnc2)c(Cl)c1      Activity   \n",
              "4              COc1cccc(-c2cc(O)c3c(ccc4[nH]ccc43)n2)c1      Activity   \n",
              "...                                                 ...           ...   \n",
              "4048  C[C@]12CC[C@H]3[C@@H](CCC4=CC(=O)[C@H]5C[C@H](...            Ki   \n",
              "4049  C[C@]12CCC3C(CCC4=CC(=O)[C@H]5C[C@H](O)[C@]43C...            Ki   \n",
              "4083  C[C@]12CC[C@H]3[C@@H](CCC4=CC(=O)CC[C@@]43C)[C...            Km   \n",
              "4089  COc1ccc(-c2c(SCc3ccncc3)oc3cc(OCc4ccccc4)ccc3c...      Log IC50   \n",
              "4090         O=c1c(-c2ccccc2)c(SCc2ccncc2)oc2cc(O)ccc12      Log IC50   \n",
              "\n",
              "      Standard Value  Activity     Comment  \n",
              "0                NaN         0  Not Active  \n",
              "1                NaN         0  Not Active  \n",
              "2                NaN         0  Not Active  \n",
              "3                NaN         0  Not Active  \n",
              "4                NaN         0  Not Active  \n",
              "...              ...       ...         ...  \n",
              "4048          926.00         1      Active  \n",
              "4049          926.00         1      Active  \n",
              "4083          210.00         1      Active  \n",
              "4089            2.72         1      Active  \n",
              "4090            2.79         1      Active  \n",
              "\n",
              "[2739 rows x 9 columns]"
            ],
            "text/html": [
              "\n",
              "  <div id=\"df-3829fcec-8106-4a49-adf3-4f1673a5fd18\">\n",
              "    <div class=\"colab-df-container\">\n",
              "      <div>\n",
              "<style scoped>\n",
              "    .dataframe tbody tr th:only-of-type {\n",
              "        vertical-align: middle;\n",
              "    }\n",
              "\n",
              "    .dataframe tbody tr th {\n",
              "        vertical-align: top;\n",
              "    }\n",
              "\n",
              "    .dataframe thead th {\n",
              "        text-align: right;\n",
              "    }\n",
              "</style>\n",
              "<table border=\"1\" class=\"dataframe\">\n",
              "  <thead>\n",
              "    <tr style=\"text-align: right;\">\n",
              "      <th></th>\n",
              "      <th>Molecule ChEMBL ID</th>\n",
              "      <th>Molecular Weight</th>\n",
              "      <th>#RO5</th>\n",
              "      <th>AlogP</th>\n",
              "      <th>Smiles</th>\n",
              "      <th>Standard Type</th>\n",
              "      <th>Standard Value</th>\n",
              "      <th>Activity</th>\n",
              "      <th>Comment</th>\n",
              "    </tr>\n",
              "  </thead>\n",
              "  <tbody>\n",
              "    <tr>\n",
              "      <th>0</th>\n",
              "      <td>CHEMBL3245350</td>\n",
              "      <td>408.61</td>\n",
              "      <td>1</td>\n",
              "      <td>6</td>\n",
              "      <td>C[C@]12CC[C@H]3[C@H]([C@@H]1CCC2=O)[C@H](SCc1c...</td>\n",
              "      <td>Activity</td>\n",
              "      <td>NaN</td>\n",
              "      <td>0</td>\n",
              "      <td>Not Active</td>\n",
              "    </tr>\n",
              "    <tr>\n",
              "      <th>1</th>\n",
              "      <td>CHEMBL491602</td>\n",
              "      <td>370.50</td>\n",
              "      <td>1</td>\n",
              "      <td>5.07</td>\n",
              "      <td>CC(C)(C)c1ccc(CN(Cc2cccc3ccccc23)n2cnnc2)cc1</td>\n",
              "      <td>Activity</td>\n",
              "      <td>NaN</td>\n",
              "      <td>0</td>\n",
              "      <td>Not Active</td>\n",
              "    </tr>\n",
              "    <tr>\n",
              "      <th>2</th>\n",
              "      <td>CHEMBL3245348</td>\n",
              "      <td>374.59</td>\n",
              "      <td>1</td>\n",
              "      <td>5.6</td>\n",
              "      <td>CCCCS[C@@H]1CC2=CC(=O)CC[C@]2(C)[C@H]2CC[C@]3(...</td>\n",
              "      <td>Activity</td>\n",
              "      <td>NaN</td>\n",
              "      <td>0</td>\n",
              "      <td>Not Active</td>\n",
              "    </tr>\n",
              "    <tr>\n",
              "      <th>3</th>\n",
              "      <td>CHEMBL490388</td>\n",
              "      <td>409.32</td>\n",
              "      <td>1</td>\n",
              "      <td>5.59</td>\n",
              "      <td>Clc1ccc(CN(Cc2ccc(-c3ccccc3)cc2)n2cnnc2)c(Cl)c1</td>\n",
              "      <td>Activity</td>\n",
              "      <td>NaN</td>\n",
              "      <td>0</td>\n",
              "      <td>Not Active</td>\n",
              "    </tr>\n",
              "    <tr>\n",
              "      <th>4</th>\n",
              "      <td>CHEMBL206175</td>\n",
              "      <td>290.32</td>\n",
              "      <td>0</td>\n",
              "      <td>4.1</td>\n",
              "      <td>COc1cccc(-c2cc(O)c3c(ccc4[nH]ccc43)n2)c1</td>\n",
              "      <td>Activity</td>\n",
              "      <td>NaN</td>\n",
              "      <td>0</td>\n",
              "      <td>Not Active</td>\n",
              "    </tr>\n",
              "    <tr>\n",
              "      <th>...</th>\n",
              "      <td>...</td>\n",
              "      <td>...</td>\n",
              "      <td>...</td>\n",
              "      <td>...</td>\n",
              "      <td>...</td>\n",
              "      <td>...</td>\n",
              "      <td>...</td>\n",
              "      <td>...</td>\n",
              "      <td>...</td>\n",
              "    </tr>\n",
              "    <tr>\n",
              "      <th>4048</th>\n",
              "      <td>CHEMBL3754469</td>\n",
              "      <td>314.43</td>\n",
              "      <td>0</td>\n",
              "      <td>3.06</td>\n",
              "      <td>C[C@]12CC[C@H]3[C@@H](CCC4=CC(=O)[C@H]5C[C@H](...</td>\n",
              "      <td>Ki</td>\n",
              "      <td>926.00</td>\n",
              "      <td>1</td>\n",
              "      <td>Active</td>\n",
              "    </tr>\n",
              "    <tr>\n",
              "      <th>4049</th>\n",
              "      <td>CHEMBL296617</td>\n",
              "      <td>314.42</td>\n",
              "      <td>0</td>\n",
              "      <td>3.06</td>\n",
              "      <td>C[C@]12CCC3C(CCC4=CC(=O)[C@H]5C[C@H](O)[C@]43C...</td>\n",
              "      <td>Ki</td>\n",
              "      <td>926.00</td>\n",
              "      <td>1</td>\n",
              "      <td>Active</td>\n",
              "    </tr>\n",
              "    <tr>\n",
              "      <th>4083</th>\n",
              "      <td>CHEMBL386630</td>\n",
              "      <td>288.43</td>\n",
              "      <td>0</td>\n",
              "      <td>3.88</td>\n",
              "      <td>C[C@]12CC[C@H]3[C@@H](CCC4=CC(=O)CC[C@@]43C)[C...</td>\n",
              "      <td>Km</td>\n",
              "      <td>210.00</td>\n",
              "      <td>1</td>\n",
              "      <td>Active</td>\n",
              "    </tr>\n",
              "    <tr>\n",
              "      <th>4089</th>\n",
              "      <td>CHEMBL186079</td>\n",
              "      <td>481.57</td>\n",
              "      <td>1</td>\n",
              "      <td>6.73</td>\n",
              "      <td>COc1ccc(-c2c(SCc3ccncc3)oc3cc(OCc4ccccc4)ccc3c...</td>\n",
              "      <td>Log IC50</td>\n",
              "      <td>2.72</td>\n",
              "      <td>1</td>\n",
              "      <td>Active</td>\n",
              "    </tr>\n",
              "    <tr>\n",
              "      <th>4090</th>\n",
              "      <td>CHEMBL184749</td>\n",
              "      <td>361.42</td>\n",
              "      <td>0</td>\n",
              "      <td>4.85</td>\n",
              "      <td>O=c1c(-c2ccccc2)c(SCc2ccncc2)oc2cc(O)ccc12</td>\n",
              "      <td>Log IC50</td>\n",
              "      <td>2.79</td>\n",
              "      <td>1</td>\n",
              "      <td>Active</td>\n",
              "    </tr>\n",
              "  </tbody>\n",
              "</table>\n",
              "<p>2739 rows × 9 columns</p>\n",
              "</div>\n",
              "      <button class=\"colab-df-convert\" onclick=\"convertToInteractive('df-3829fcec-8106-4a49-adf3-4f1673a5fd18')\"\n",
              "              title=\"Convert this dataframe to an interactive table.\"\n",
              "              style=\"display:none;\">\n",
              "        \n",
              "  <svg xmlns=\"http://www.w3.org/2000/svg\" height=\"24px\"viewBox=\"0 0 24 24\"\n",
              "       width=\"24px\">\n",
              "    <path d=\"M0 0h24v24H0V0z\" fill=\"none\"/>\n",
              "    <path d=\"M18.56 5.44l.94 2.06.94-2.06 2.06-.94-2.06-.94-.94-2.06-.94 2.06-2.06.94zm-11 1L8.5 8.5l.94-2.06 2.06-.94-2.06-.94L8.5 2.5l-.94 2.06-2.06.94zm10 10l.94 2.06.94-2.06 2.06-.94-2.06-.94-.94-2.06-.94 2.06-2.06.94z\"/><path d=\"M17.41 7.96l-1.37-1.37c-.4-.4-.92-.59-1.43-.59-.52 0-1.04.2-1.43.59L10.3 9.45l-7.72 7.72c-.78.78-.78 2.05 0 2.83L4 21.41c.39.39.9.59 1.41.59.51 0 1.02-.2 1.41-.59l7.78-7.78 2.81-2.81c.8-.78.8-2.07 0-2.86zM5.41 20L4 18.59l7.72-7.72 1.47 1.35L5.41 20z\"/>\n",
              "  </svg>\n",
              "      </button>\n",
              "      \n",
              "  <style>\n",
              "    .colab-df-container {\n",
              "      display:flex;\n",
              "      flex-wrap:wrap;\n",
              "      gap: 12px;\n",
              "    }\n",
              "\n",
              "    .colab-df-convert {\n",
              "      background-color: #E8F0FE;\n",
              "      border: none;\n",
              "      border-radius: 50%;\n",
              "      cursor: pointer;\n",
              "      display: none;\n",
              "      fill: #1967D2;\n",
              "      height: 32px;\n",
              "      padding: 0 0 0 0;\n",
              "      width: 32px;\n",
              "    }\n",
              "\n",
              "    .colab-df-convert:hover {\n",
              "      background-color: #E2EBFA;\n",
              "      box-shadow: 0px 1px 2px rgba(60, 64, 67, 0.3), 0px 1px 3px 1px rgba(60, 64, 67, 0.15);\n",
              "      fill: #174EA6;\n",
              "    }\n",
              "\n",
              "    [theme=dark] .colab-df-convert {\n",
              "      background-color: #3B4455;\n",
              "      fill: #D2E3FC;\n",
              "    }\n",
              "\n",
              "    [theme=dark] .colab-df-convert:hover {\n",
              "      background-color: #434B5C;\n",
              "      box-shadow: 0px 1px 3px 1px rgba(0, 0, 0, 0.15);\n",
              "      filter: drop-shadow(0px 1px 2px rgba(0, 0, 0, 0.3));\n",
              "      fill: #FFFFFF;\n",
              "    }\n",
              "  </style>\n",
              "\n",
              "      <script>\n",
              "        const buttonEl =\n",
              "          document.querySelector('#df-3829fcec-8106-4a49-adf3-4f1673a5fd18 button.colab-df-convert');\n",
              "        buttonEl.style.display =\n",
              "          google.colab.kernel.accessAllowed ? 'block' : 'none';\n",
              "\n",
              "        async function convertToInteractive(key) {\n",
              "          const element = document.querySelector('#df-3829fcec-8106-4a49-adf3-4f1673a5fd18');\n",
              "          const dataTable =\n",
              "            await google.colab.kernel.invokeFunction('convertToInteractive',\n",
              "                                                     [key], {});\n",
              "          if (!dataTable) return;\n",
              "\n",
              "          const docLinkHtml = 'Like what you see? Visit the ' +\n",
              "            '<a target=\"_blank\" href=https://colab.research.google.com/notebooks/data_table.ipynb>data table notebook</a>'\n",
              "            + ' to learn more about interactive tables.';\n",
              "          element.innerHTML = '';\n",
              "          dataTable['output_type'] = 'display_data';\n",
              "          await google.colab.output.renderOutput(dataTable, element);\n",
              "          const docLink = document.createElement('div');\n",
              "          docLink.innerHTML = docLinkHtml;\n",
              "          element.appendChild(docLink);\n",
              "        }\n",
              "      </script>\n",
              "    </div>\n",
              "  </div>\n",
              "  "
            ]
          },
          "metadata": {},
          "execution_count": 4
        }
      ]
    },
    {
      "cell_type": "code",
      "source": [
        "df2 = df1[df1.Activity.notna()]\n",
        "df2"
      ],
      "metadata": {
        "colab": {
          "base_uri": "https://localhost:8080/",
          "height": 423
        },
        "id": "D6Mcol5jsIAU",
        "outputId": "96f2a6eb-64c0-4255-c0db-8e6655162210"
      },
      "execution_count": null,
      "outputs": [
        {
          "output_type": "execute_result",
          "data": {
            "text/plain": [
              "     Molecule ChEMBL ID  Molecular Weight #RO5 AlogP  \\\n",
              "0         CHEMBL3245350            408.61    1     6   \n",
              "1          CHEMBL491602            370.50    1  5.07   \n",
              "2         CHEMBL3245348            374.59    1   5.6   \n",
              "3          CHEMBL490388            409.32    1  5.59   \n",
              "4          CHEMBL206175            290.32    0   4.1   \n",
              "...                 ...               ...  ...   ...   \n",
              "4048      CHEMBL3754469            314.43    0  3.06   \n",
              "4049       CHEMBL296617            314.42    0  3.06   \n",
              "4083       CHEMBL386630            288.43    0  3.88   \n",
              "4089       CHEMBL186079            481.57    1  6.73   \n",
              "4090       CHEMBL184749            361.42    0  4.85   \n",
              "\n",
              "                                                 Smiles Standard Type  \\\n",
              "0     C[C@]12CC[C@H]3[C@H]([C@@H]1CCC2=O)[C@H](SCc1c...      Activity   \n",
              "1          CC(C)(C)c1ccc(CN(Cc2cccc3ccccc23)n2cnnc2)cc1      Activity   \n",
              "2     CCCCS[C@@H]1CC2=CC(=O)CC[C@]2(C)[C@H]2CC[C@]3(...      Activity   \n",
              "3       Clc1ccc(CN(Cc2ccc(-c3ccccc3)cc2)n2cnnc2)c(Cl)c1      Activity   \n",
              "4              COc1cccc(-c2cc(O)c3c(ccc4[nH]ccc43)n2)c1      Activity   \n",
              "...                                                 ...           ...   \n",
              "4048  C[C@]12CC[C@H]3[C@@H](CCC4=CC(=O)[C@H]5C[C@H](...            Ki   \n",
              "4049  C[C@]12CCC3C(CCC4=CC(=O)[C@H]5C[C@H](O)[C@]43C...            Ki   \n",
              "4083  C[C@]12CC[C@H]3[C@@H](CCC4=CC(=O)CC[C@@]43C)[C...            Km   \n",
              "4089  COc1ccc(-c2c(SCc3ccncc3)oc3cc(OCc4ccccc4)ccc3c...      Log IC50   \n",
              "4090         O=c1c(-c2ccccc2)c(SCc2ccncc2)oc2cc(O)ccc12      Log IC50   \n",
              "\n",
              "      Standard Value  Activity     Comment  \n",
              "0                NaN         0  Not Active  \n",
              "1                NaN         0  Not Active  \n",
              "2                NaN         0  Not Active  \n",
              "3                NaN         0  Not Active  \n",
              "4                NaN         0  Not Active  \n",
              "...              ...       ...         ...  \n",
              "4048          926.00         1      Active  \n",
              "4049          926.00         1      Active  \n",
              "4083          210.00         1      Active  \n",
              "4089            2.72         1      Active  \n",
              "4090            2.79         1      Active  \n",
              "\n",
              "[2739 rows x 9 columns]"
            ],
            "text/html": [
              "\n",
              "  <div id=\"df-49f942f2-5ec4-43e5-80f1-2a85cf468457\">\n",
              "    <div class=\"colab-df-container\">\n",
              "      <div>\n",
              "<style scoped>\n",
              "    .dataframe tbody tr th:only-of-type {\n",
              "        vertical-align: middle;\n",
              "    }\n",
              "\n",
              "    .dataframe tbody tr th {\n",
              "        vertical-align: top;\n",
              "    }\n",
              "\n",
              "    .dataframe thead th {\n",
              "        text-align: right;\n",
              "    }\n",
              "</style>\n",
              "<table border=\"1\" class=\"dataframe\">\n",
              "  <thead>\n",
              "    <tr style=\"text-align: right;\">\n",
              "      <th></th>\n",
              "      <th>Molecule ChEMBL ID</th>\n",
              "      <th>Molecular Weight</th>\n",
              "      <th>#RO5</th>\n",
              "      <th>AlogP</th>\n",
              "      <th>Smiles</th>\n",
              "      <th>Standard Type</th>\n",
              "      <th>Standard Value</th>\n",
              "      <th>Activity</th>\n",
              "      <th>Comment</th>\n",
              "    </tr>\n",
              "  </thead>\n",
              "  <tbody>\n",
              "    <tr>\n",
              "      <th>0</th>\n",
              "      <td>CHEMBL3245350</td>\n",
              "      <td>408.61</td>\n",
              "      <td>1</td>\n",
              "      <td>6</td>\n",
              "      <td>C[C@]12CC[C@H]3[C@H]([C@@H]1CCC2=O)[C@H](SCc1c...</td>\n",
              "      <td>Activity</td>\n",
              "      <td>NaN</td>\n",
              "      <td>0</td>\n",
              "      <td>Not Active</td>\n",
              "    </tr>\n",
              "    <tr>\n",
              "      <th>1</th>\n",
              "      <td>CHEMBL491602</td>\n",
              "      <td>370.50</td>\n",
              "      <td>1</td>\n",
              "      <td>5.07</td>\n",
              "      <td>CC(C)(C)c1ccc(CN(Cc2cccc3ccccc23)n2cnnc2)cc1</td>\n",
              "      <td>Activity</td>\n",
              "      <td>NaN</td>\n",
              "      <td>0</td>\n",
              "      <td>Not Active</td>\n",
              "    </tr>\n",
              "    <tr>\n",
              "      <th>2</th>\n",
              "      <td>CHEMBL3245348</td>\n",
              "      <td>374.59</td>\n",
              "      <td>1</td>\n",
              "      <td>5.6</td>\n",
              "      <td>CCCCS[C@@H]1CC2=CC(=O)CC[C@]2(C)[C@H]2CC[C@]3(...</td>\n",
              "      <td>Activity</td>\n",
              "      <td>NaN</td>\n",
              "      <td>0</td>\n",
              "      <td>Not Active</td>\n",
              "    </tr>\n",
              "    <tr>\n",
              "      <th>3</th>\n",
              "      <td>CHEMBL490388</td>\n",
              "      <td>409.32</td>\n",
              "      <td>1</td>\n",
              "      <td>5.59</td>\n",
              "      <td>Clc1ccc(CN(Cc2ccc(-c3ccccc3)cc2)n2cnnc2)c(Cl)c1</td>\n",
              "      <td>Activity</td>\n",
              "      <td>NaN</td>\n",
              "      <td>0</td>\n",
              "      <td>Not Active</td>\n",
              "    </tr>\n",
              "    <tr>\n",
              "      <th>4</th>\n",
              "      <td>CHEMBL206175</td>\n",
              "      <td>290.32</td>\n",
              "      <td>0</td>\n",
              "      <td>4.1</td>\n",
              "      <td>COc1cccc(-c2cc(O)c3c(ccc4[nH]ccc43)n2)c1</td>\n",
              "      <td>Activity</td>\n",
              "      <td>NaN</td>\n",
              "      <td>0</td>\n",
              "      <td>Not Active</td>\n",
              "    </tr>\n",
              "    <tr>\n",
              "      <th>...</th>\n",
              "      <td>...</td>\n",
              "      <td>...</td>\n",
              "      <td>...</td>\n",
              "      <td>...</td>\n",
              "      <td>...</td>\n",
              "      <td>...</td>\n",
              "      <td>...</td>\n",
              "      <td>...</td>\n",
              "      <td>...</td>\n",
              "    </tr>\n",
              "    <tr>\n",
              "      <th>4048</th>\n",
              "      <td>CHEMBL3754469</td>\n",
              "      <td>314.43</td>\n",
              "      <td>0</td>\n",
              "      <td>3.06</td>\n",
              "      <td>C[C@]12CC[C@H]3[C@@H](CCC4=CC(=O)[C@H]5C[C@H](...</td>\n",
              "      <td>Ki</td>\n",
              "      <td>926.00</td>\n",
              "      <td>1</td>\n",
              "      <td>Active</td>\n",
              "    </tr>\n",
              "    <tr>\n",
              "      <th>4049</th>\n",
              "      <td>CHEMBL296617</td>\n",
              "      <td>314.42</td>\n",
              "      <td>0</td>\n",
              "      <td>3.06</td>\n",
              "      <td>C[C@]12CCC3C(CCC4=CC(=O)[C@H]5C[C@H](O)[C@]43C...</td>\n",
              "      <td>Ki</td>\n",
              "      <td>926.00</td>\n",
              "      <td>1</td>\n",
              "      <td>Active</td>\n",
              "    </tr>\n",
              "    <tr>\n",
              "      <th>4083</th>\n",
              "      <td>CHEMBL386630</td>\n",
              "      <td>288.43</td>\n",
              "      <td>0</td>\n",
              "      <td>3.88</td>\n",
              "      <td>C[C@]12CC[C@H]3[C@@H](CCC4=CC(=O)CC[C@@]43C)[C...</td>\n",
              "      <td>Km</td>\n",
              "      <td>210.00</td>\n",
              "      <td>1</td>\n",
              "      <td>Active</td>\n",
              "    </tr>\n",
              "    <tr>\n",
              "      <th>4089</th>\n",
              "      <td>CHEMBL186079</td>\n",
              "      <td>481.57</td>\n",
              "      <td>1</td>\n",
              "      <td>6.73</td>\n",
              "      <td>COc1ccc(-c2c(SCc3ccncc3)oc3cc(OCc4ccccc4)ccc3c...</td>\n",
              "      <td>Log IC50</td>\n",
              "      <td>2.72</td>\n",
              "      <td>1</td>\n",
              "      <td>Active</td>\n",
              "    </tr>\n",
              "    <tr>\n",
              "      <th>4090</th>\n",
              "      <td>CHEMBL184749</td>\n",
              "      <td>361.42</td>\n",
              "      <td>0</td>\n",
              "      <td>4.85</td>\n",
              "      <td>O=c1c(-c2ccccc2)c(SCc2ccncc2)oc2cc(O)ccc12</td>\n",
              "      <td>Log IC50</td>\n",
              "      <td>2.79</td>\n",
              "      <td>1</td>\n",
              "      <td>Active</td>\n",
              "    </tr>\n",
              "  </tbody>\n",
              "</table>\n",
              "<p>2739 rows × 9 columns</p>\n",
              "</div>\n",
              "      <button class=\"colab-df-convert\" onclick=\"convertToInteractive('df-49f942f2-5ec4-43e5-80f1-2a85cf468457')\"\n",
              "              title=\"Convert this dataframe to an interactive table.\"\n",
              "              style=\"display:none;\">\n",
              "        \n",
              "  <svg xmlns=\"http://www.w3.org/2000/svg\" height=\"24px\"viewBox=\"0 0 24 24\"\n",
              "       width=\"24px\">\n",
              "    <path d=\"M0 0h24v24H0V0z\" fill=\"none\"/>\n",
              "    <path d=\"M18.56 5.44l.94 2.06.94-2.06 2.06-.94-2.06-.94-.94-2.06-.94 2.06-2.06.94zm-11 1L8.5 8.5l.94-2.06 2.06-.94-2.06-.94L8.5 2.5l-.94 2.06-2.06.94zm10 10l.94 2.06.94-2.06 2.06-.94-2.06-.94-.94-2.06-.94 2.06-2.06.94z\"/><path d=\"M17.41 7.96l-1.37-1.37c-.4-.4-.92-.59-1.43-.59-.52 0-1.04.2-1.43.59L10.3 9.45l-7.72 7.72c-.78.78-.78 2.05 0 2.83L4 21.41c.39.39.9.59 1.41.59.51 0 1.02-.2 1.41-.59l7.78-7.78 2.81-2.81c.8-.78.8-2.07 0-2.86zM5.41 20L4 18.59l7.72-7.72 1.47 1.35L5.41 20z\"/>\n",
              "  </svg>\n",
              "      </button>\n",
              "      \n",
              "  <style>\n",
              "    .colab-df-container {\n",
              "      display:flex;\n",
              "      flex-wrap:wrap;\n",
              "      gap: 12px;\n",
              "    }\n",
              "\n",
              "    .colab-df-convert {\n",
              "      background-color: #E8F0FE;\n",
              "      border: none;\n",
              "      border-radius: 50%;\n",
              "      cursor: pointer;\n",
              "      display: none;\n",
              "      fill: #1967D2;\n",
              "      height: 32px;\n",
              "      padding: 0 0 0 0;\n",
              "      width: 32px;\n",
              "    }\n",
              "\n",
              "    .colab-df-convert:hover {\n",
              "      background-color: #E2EBFA;\n",
              "      box-shadow: 0px 1px 2px rgba(60, 64, 67, 0.3), 0px 1px 3px 1px rgba(60, 64, 67, 0.15);\n",
              "      fill: #174EA6;\n",
              "    }\n",
              "\n",
              "    [theme=dark] .colab-df-convert {\n",
              "      background-color: #3B4455;\n",
              "      fill: #D2E3FC;\n",
              "    }\n",
              "\n",
              "    [theme=dark] .colab-df-convert:hover {\n",
              "      background-color: #434B5C;\n",
              "      box-shadow: 0px 1px 3px 1px rgba(0, 0, 0, 0.15);\n",
              "      filter: drop-shadow(0px 1px 2px rgba(0, 0, 0, 0.3));\n",
              "      fill: #FFFFFF;\n",
              "    }\n",
              "  </style>\n",
              "\n",
              "      <script>\n",
              "        const buttonEl =\n",
              "          document.querySelector('#df-49f942f2-5ec4-43e5-80f1-2a85cf468457 button.colab-df-convert');\n",
              "        buttonEl.style.display =\n",
              "          google.colab.kernel.accessAllowed ? 'block' : 'none';\n",
              "\n",
              "        async function convertToInteractive(key) {\n",
              "          const element = document.querySelector('#df-49f942f2-5ec4-43e5-80f1-2a85cf468457');\n",
              "          const dataTable =\n",
              "            await google.colab.kernel.invokeFunction('convertToInteractive',\n",
              "                                                     [key], {});\n",
              "          if (!dataTable) return;\n",
              "\n",
              "          const docLinkHtml = 'Like what you see? Visit the ' +\n",
              "            '<a target=\"_blank\" href=https://colab.research.google.com/notebooks/data_table.ipynb>data table notebook</a>'\n",
              "            + ' to learn more about interactive tables.';\n",
              "          element.innerHTML = '';\n",
              "          dataTable['output_type'] = 'display_data';\n",
              "          await google.colab.output.renderOutput(dataTable, element);\n",
              "          const docLink = document.createElement('div');\n",
              "          docLink.innerHTML = docLinkHtml;\n",
              "          element.appendChild(docLink);\n",
              "        }\n",
              "      </script>\n",
              "    </div>\n",
              "  </div>\n",
              "  "
            ]
          },
          "metadata": {},
          "execution_count": 5
        }
      ]
    },
    {
      "cell_type": "code",
      "source": [
        "selection = ['Molecule ChEMBL ID', 'Smiles', 'Activity']\n",
        "df3 = df2[selection]\n",
        "df3"
      ],
      "metadata": {
        "colab": {
          "base_uri": "https://localhost:8080/",
          "height": 423
        },
        "id": "awBM5w1lsaKr",
        "outputId": "21f78b38-e799-4f6a-c18a-b1a47ca3ceeb"
      },
      "execution_count": null,
      "outputs": [
        {
          "output_type": "execute_result",
          "data": {
            "text/plain": [
              "     Molecule ChEMBL ID                                             Smiles  \\\n",
              "0         CHEMBL3245350  C[C@]12CC[C@H]3[C@H]([C@@H]1CCC2=O)[C@H](SCc1c...   \n",
              "1          CHEMBL491602       CC(C)(C)c1ccc(CN(Cc2cccc3ccccc23)n2cnnc2)cc1   \n",
              "2         CHEMBL3245348  CCCCS[C@@H]1CC2=CC(=O)CC[C@]2(C)[C@H]2CC[C@]3(...   \n",
              "3          CHEMBL490388    Clc1ccc(CN(Cc2ccc(-c3ccccc3)cc2)n2cnnc2)c(Cl)c1   \n",
              "4          CHEMBL206175           COc1cccc(-c2cc(O)c3c(ccc4[nH]ccc43)n2)c1   \n",
              "...                 ...                                                ...   \n",
              "4048      CHEMBL3754469  C[C@]12CC[C@H]3[C@@H](CCC4=CC(=O)[C@H]5C[C@H](...   \n",
              "4049       CHEMBL296617  C[C@]12CCC3C(CCC4=CC(=O)[C@H]5C[C@H](O)[C@]43C...   \n",
              "4083       CHEMBL386630  C[C@]12CC[C@H]3[C@@H](CCC4=CC(=O)CC[C@@]43C)[C...   \n",
              "4089       CHEMBL186079  COc1ccc(-c2c(SCc3ccncc3)oc3cc(OCc4ccccc4)ccc3c...   \n",
              "4090       CHEMBL184749         O=c1c(-c2ccccc2)c(SCc2ccncc2)oc2cc(O)ccc12   \n",
              "\n",
              "      Activity  \n",
              "0            0  \n",
              "1            0  \n",
              "2            0  \n",
              "3            0  \n",
              "4            0  \n",
              "...        ...  \n",
              "4048         1  \n",
              "4049         1  \n",
              "4083         1  \n",
              "4089         1  \n",
              "4090         1  \n",
              "\n",
              "[2739 rows x 3 columns]"
            ],
            "text/html": [
              "\n",
              "  <div id=\"df-37216d53-2ea9-4363-9830-da4264ae4daa\">\n",
              "    <div class=\"colab-df-container\">\n",
              "      <div>\n",
              "<style scoped>\n",
              "    .dataframe tbody tr th:only-of-type {\n",
              "        vertical-align: middle;\n",
              "    }\n",
              "\n",
              "    .dataframe tbody tr th {\n",
              "        vertical-align: top;\n",
              "    }\n",
              "\n",
              "    .dataframe thead th {\n",
              "        text-align: right;\n",
              "    }\n",
              "</style>\n",
              "<table border=\"1\" class=\"dataframe\">\n",
              "  <thead>\n",
              "    <tr style=\"text-align: right;\">\n",
              "      <th></th>\n",
              "      <th>Molecule ChEMBL ID</th>\n",
              "      <th>Smiles</th>\n",
              "      <th>Activity</th>\n",
              "    </tr>\n",
              "  </thead>\n",
              "  <tbody>\n",
              "    <tr>\n",
              "      <th>0</th>\n",
              "      <td>CHEMBL3245350</td>\n",
              "      <td>C[C@]12CC[C@H]3[C@H]([C@@H]1CCC2=O)[C@H](SCc1c...</td>\n",
              "      <td>0</td>\n",
              "    </tr>\n",
              "    <tr>\n",
              "      <th>1</th>\n",
              "      <td>CHEMBL491602</td>\n",
              "      <td>CC(C)(C)c1ccc(CN(Cc2cccc3ccccc23)n2cnnc2)cc1</td>\n",
              "      <td>0</td>\n",
              "    </tr>\n",
              "    <tr>\n",
              "      <th>2</th>\n",
              "      <td>CHEMBL3245348</td>\n",
              "      <td>CCCCS[C@@H]1CC2=CC(=O)CC[C@]2(C)[C@H]2CC[C@]3(...</td>\n",
              "      <td>0</td>\n",
              "    </tr>\n",
              "    <tr>\n",
              "      <th>3</th>\n",
              "      <td>CHEMBL490388</td>\n",
              "      <td>Clc1ccc(CN(Cc2ccc(-c3ccccc3)cc2)n2cnnc2)c(Cl)c1</td>\n",
              "      <td>0</td>\n",
              "    </tr>\n",
              "    <tr>\n",
              "      <th>4</th>\n",
              "      <td>CHEMBL206175</td>\n",
              "      <td>COc1cccc(-c2cc(O)c3c(ccc4[nH]ccc43)n2)c1</td>\n",
              "      <td>0</td>\n",
              "    </tr>\n",
              "    <tr>\n",
              "      <th>...</th>\n",
              "      <td>...</td>\n",
              "      <td>...</td>\n",
              "      <td>...</td>\n",
              "    </tr>\n",
              "    <tr>\n",
              "      <th>4048</th>\n",
              "      <td>CHEMBL3754469</td>\n",
              "      <td>C[C@]12CC[C@H]3[C@@H](CCC4=CC(=O)[C@H]5C[C@H](...</td>\n",
              "      <td>1</td>\n",
              "    </tr>\n",
              "    <tr>\n",
              "      <th>4049</th>\n",
              "      <td>CHEMBL296617</td>\n",
              "      <td>C[C@]12CCC3C(CCC4=CC(=O)[C@H]5C[C@H](O)[C@]43C...</td>\n",
              "      <td>1</td>\n",
              "    </tr>\n",
              "    <tr>\n",
              "      <th>4083</th>\n",
              "      <td>CHEMBL386630</td>\n",
              "      <td>C[C@]12CC[C@H]3[C@@H](CCC4=CC(=O)CC[C@@]43C)[C...</td>\n",
              "      <td>1</td>\n",
              "    </tr>\n",
              "    <tr>\n",
              "      <th>4089</th>\n",
              "      <td>CHEMBL186079</td>\n",
              "      <td>COc1ccc(-c2c(SCc3ccncc3)oc3cc(OCc4ccccc4)ccc3c...</td>\n",
              "      <td>1</td>\n",
              "    </tr>\n",
              "    <tr>\n",
              "      <th>4090</th>\n",
              "      <td>CHEMBL184749</td>\n",
              "      <td>O=c1c(-c2ccccc2)c(SCc2ccncc2)oc2cc(O)ccc12</td>\n",
              "      <td>1</td>\n",
              "    </tr>\n",
              "  </tbody>\n",
              "</table>\n",
              "<p>2739 rows × 3 columns</p>\n",
              "</div>\n",
              "      <button class=\"colab-df-convert\" onclick=\"convertToInteractive('df-37216d53-2ea9-4363-9830-da4264ae4daa')\"\n",
              "              title=\"Convert this dataframe to an interactive table.\"\n",
              "              style=\"display:none;\">\n",
              "        \n",
              "  <svg xmlns=\"http://www.w3.org/2000/svg\" height=\"24px\"viewBox=\"0 0 24 24\"\n",
              "       width=\"24px\">\n",
              "    <path d=\"M0 0h24v24H0V0z\" fill=\"none\"/>\n",
              "    <path d=\"M18.56 5.44l.94 2.06.94-2.06 2.06-.94-2.06-.94-.94-2.06-.94 2.06-2.06.94zm-11 1L8.5 8.5l.94-2.06 2.06-.94-2.06-.94L8.5 2.5l-.94 2.06-2.06.94zm10 10l.94 2.06.94-2.06 2.06-.94-2.06-.94-.94-2.06-.94 2.06-2.06.94z\"/><path d=\"M17.41 7.96l-1.37-1.37c-.4-.4-.92-.59-1.43-.59-.52 0-1.04.2-1.43.59L10.3 9.45l-7.72 7.72c-.78.78-.78 2.05 0 2.83L4 21.41c.39.39.9.59 1.41.59.51 0 1.02-.2 1.41-.59l7.78-7.78 2.81-2.81c.8-.78.8-2.07 0-2.86zM5.41 20L4 18.59l7.72-7.72 1.47 1.35L5.41 20z\"/>\n",
              "  </svg>\n",
              "      </button>\n",
              "      \n",
              "  <style>\n",
              "    .colab-df-container {\n",
              "      display:flex;\n",
              "      flex-wrap:wrap;\n",
              "      gap: 12px;\n",
              "    }\n",
              "\n",
              "    .colab-df-convert {\n",
              "      background-color: #E8F0FE;\n",
              "      border: none;\n",
              "      border-radius: 50%;\n",
              "      cursor: pointer;\n",
              "      display: none;\n",
              "      fill: #1967D2;\n",
              "      height: 32px;\n",
              "      padding: 0 0 0 0;\n",
              "      width: 32px;\n",
              "    }\n",
              "\n",
              "    .colab-df-convert:hover {\n",
              "      background-color: #E2EBFA;\n",
              "      box-shadow: 0px 1px 2px rgba(60, 64, 67, 0.3), 0px 1px 3px 1px rgba(60, 64, 67, 0.15);\n",
              "      fill: #174EA6;\n",
              "    }\n",
              "\n",
              "    [theme=dark] .colab-df-convert {\n",
              "      background-color: #3B4455;\n",
              "      fill: #D2E3FC;\n",
              "    }\n",
              "\n",
              "    [theme=dark] .colab-df-convert:hover {\n",
              "      background-color: #434B5C;\n",
              "      box-shadow: 0px 1px 3px 1px rgba(0, 0, 0, 0.15);\n",
              "      filter: drop-shadow(0px 1px 2px rgba(0, 0, 0, 0.3));\n",
              "      fill: #FFFFFF;\n",
              "    }\n",
              "  </style>\n",
              "\n",
              "      <script>\n",
              "        const buttonEl =\n",
              "          document.querySelector('#df-37216d53-2ea9-4363-9830-da4264ae4daa button.colab-df-convert');\n",
              "        buttonEl.style.display =\n",
              "          google.colab.kernel.accessAllowed ? 'block' : 'none';\n",
              "\n",
              "        async function convertToInteractive(key) {\n",
              "          const element = document.querySelector('#df-37216d53-2ea9-4363-9830-da4264ae4daa');\n",
              "          const dataTable =\n",
              "            await google.colab.kernel.invokeFunction('convertToInteractive',\n",
              "                                                     [key], {});\n",
              "          if (!dataTable) return;\n",
              "\n",
              "          const docLinkHtml = 'Like what you see? Visit the ' +\n",
              "            '<a target=\"_blank\" href=https://colab.research.google.com/notebooks/data_table.ipynb>data table notebook</a>'\n",
              "            + ' to learn more about interactive tables.';\n",
              "          element.innerHTML = '';\n",
              "          dataTable['output_type'] = 'display_data';\n",
              "          await google.colab.output.renderOutput(dataTable, element);\n",
              "          const docLink = document.createElement('div');\n",
              "          docLink.innerHTML = docLinkHtml;\n",
              "          element.appendChild(docLink);\n",
              "        }\n",
              "      </script>\n",
              "    </div>\n",
              "  </div>\n",
              "  "
            ]
          },
          "metadata": {},
          "execution_count": 6
        }
      ]
    },
    {
      "cell_type": "code",
      "source": [
        "#importing libraries\n",
        "! pip install padelpy"
      ],
      "metadata": {
        "colab": {
          "base_uri": "https://localhost:8080/"
        },
        "id": "3VYwRQoYt1KK",
        "outputId": "1e7f7d67-7655-48da-cf72-3e37e19397da"
      },
      "execution_count": null,
      "outputs": [
        {
          "output_type": "stream",
          "name": "stdout",
          "text": [
            "Looking in indexes: https://pypi.org/simple, https://us-python.pkg.dev/colab-wheels/public/simple/\n",
            "Collecting padelpy\n",
            "  Downloading padelpy-0.1.13-py2.py3-none-any.whl (20.9 MB)\n",
            "\u001b[2K     \u001b[90m━━━━━━━━━━━━━━━━━━━━━━━━━━━━━━━━━━━━━━━━\u001b[0m \u001b[32m20.9/20.9 MB\u001b[0m \u001b[31m12.9 MB/s\u001b[0m eta \u001b[36m0:00:00\u001b[0m\n",
            "\u001b[?25hInstalling collected packages: padelpy\n",
            "Successfully installed padelpy-0.1.13\n"
          ]
        }
      ]
    },
    {
      "cell_type": "code",
      "source": [
        "! unzip /content/drive/MyDrive/aroma/fingerprints_xml.zip"
      ],
      "metadata": {
        "colab": {
          "base_uri": "https://localhost:8080/"
        },
        "id": "YHJacHfut60r",
        "outputId": "49142af3-15cc-4bd3-c94d-15a83b624a81"
      },
      "execution_count": null,
      "outputs": [
        {
          "output_type": "stream",
          "name": "stdout",
          "text": [
            "Archive:  /content/drive/MyDrive/aroma/fingerprints_xml.zip\n",
            "  inflating: AtomPairs2DFingerprintCount.xml  \n",
            "  inflating: AtomPairs2DFingerprinter.xml  \n",
            "  inflating: EStateFingerprinter.xml  \n",
            "  inflating: ExtendedFingerprinter.xml  \n",
            "  inflating: Fingerprinter.xml       \n",
            "  inflating: GraphOnlyFingerprinter.xml  \n",
            "  inflating: KlekotaRothFingerprintCount.xml  \n",
            "  inflating: KlekotaRothFingerprinter.xml  \n",
            "  inflating: MACCSFingerprinter.xml  \n",
            "  inflating: PubchemFingerprinter.xml  \n",
            "  inflating: SubstructureFingerprintCount.xml  \n",
            "  inflating: SubstructureFingerprinter.xml  \n"
          ]
        }
      ]
    },
    {
      "cell_type": "code",
      "source": [
        "#listing and sorting the downloaded files\n",
        "import glob\n",
        "xml_files = glob.glob(\"*.xml\")\n",
        "xml_files.sort()\n",
        "xml_files"
      ],
      "metadata": {
        "colab": {
          "base_uri": "https://localhost:8080/"
        },
        "id": "CqAYAXVYuCri",
        "outputId": "70bcd485-0885-433d-a111-63e20a15df07"
      },
      "execution_count": null,
      "outputs": [
        {
          "output_type": "execute_result",
          "data": {
            "text/plain": [
              "['AtomPairs2DFingerprintCount.xml',\n",
              " 'AtomPairs2DFingerprinter.xml',\n",
              " 'EStateFingerprinter.xml',\n",
              " 'ExtendedFingerprinter.xml',\n",
              " 'Fingerprinter.xml',\n",
              " 'GraphOnlyFingerprinter.xml',\n",
              " 'KlekotaRothFingerprintCount.xml',\n",
              " 'KlekotaRothFingerprinter.xml',\n",
              " 'MACCSFingerprinter.xml',\n",
              " 'PubchemFingerprinter.xml',\n",
              " 'SubstructureFingerprintCount.xml',\n",
              " 'SubstructureFingerprinter.xml']"
            ]
          },
          "metadata": {},
          "execution_count": 9
        }
      ]
    },
    {
      "cell_type": "code",
      "source": [
        "#Creating a list of present files\n",
        "FP_list = ['AtomPairs2DCount',\n",
        " 'AtomPairs2D',\n",
        " 'EState',\n",
        " 'CDKextended',\n",
        " 'CDK',\n",
        " 'CDKgraphonly',\n",
        " 'KlekotaRothCount',\n",
        " 'KlekotaRoth',\n",
        " 'MACCS',\n",
        " 'PubChem',\n",
        " 'SubstructureCount',\n",
        " 'Substructure']"
      ],
      "metadata": {
        "id": "btRH5De-uL9f"
      },
      "execution_count": null,
      "outputs": []
    },
    {
      "cell_type": "code",
      "source": [
        "#Creating Data Dictionary\n",
        "fp = dict(zip(FP_list, xml_files))\n",
        "fp"
      ],
      "metadata": {
        "colab": {
          "base_uri": "https://localhost:8080/"
        },
        "id": "v564OIwluSFU",
        "outputId": "14e906db-fd68-4a74-eb03-136abafa7bba"
      },
      "execution_count": null,
      "outputs": [
        {
          "output_type": "execute_result",
          "data": {
            "text/plain": [
              "{'AtomPairs2DCount': 'AtomPairs2DFingerprintCount.xml',\n",
              " 'AtomPairs2D': 'AtomPairs2DFingerprinter.xml',\n",
              " 'EState': 'EStateFingerprinter.xml',\n",
              " 'CDKextended': 'ExtendedFingerprinter.xml',\n",
              " 'CDK': 'Fingerprinter.xml',\n",
              " 'CDKgraphonly': 'GraphOnlyFingerprinter.xml',\n",
              " 'KlekotaRothCount': 'KlekotaRothFingerprintCount.xml',\n",
              " 'KlekotaRoth': 'KlekotaRothFingerprinter.xml',\n",
              " 'MACCS': 'MACCSFingerprinter.xml',\n",
              " 'PubChem': 'PubchemFingerprinter.xml',\n",
              " 'SubstructureCount': 'SubstructureFingerprintCount.xml',\n",
              " 'Substructure': 'SubstructureFingerprinter.xml'}"
            ]
          },
          "metadata": {},
          "execution_count": 11
        }
      ]
    },
    {
      "cell_type": "code",
      "source": [
        "#Conactnating necessary columns\n",
        "df4 = pd.concat( [df3['Smiles'],df3['Molecule ChEMBL ID']], axis=1 )\n",
        "df4.to_csv('molecule.smi', sep='\\t', index=False, header=False)\n",
        "df4"
      ],
      "metadata": {
        "colab": {
          "base_uri": "https://localhost:8080/",
          "height": 423
        },
        "id": "iB4U5ebUuYsu",
        "outputId": "2df6f438-3a8a-4aa1-8517-4edb435762ee"
      },
      "execution_count": null,
      "outputs": [
        {
          "output_type": "execute_result",
          "data": {
            "text/plain": [
              "                                                 Smiles Molecule ChEMBL ID\n",
              "0     C[C@]12CC[C@H]3[C@H]([C@@H]1CCC2=O)[C@H](SCc1c...      CHEMBL3245350\n",
              "1          CC(C)(C)c1ccc(CN(Cc2cccc3ccccc23)n2cnnc2)cc1       CHEMBL491602\n",
              "2     CCCCS[C@@H]1CC2=CC(=O)CC[C@]2(C)[C@H]2CC[C@]3(...      CHEMBL3245348\n",
              "3       Clc1ccc(CN(Cc2ccc(-c3ccccc3)cc2)n2cnnc2)c(Cl)c1       CHEMBL490388\n",
              "4              COc1cccc(-c2cc(O)c3c(ccc4[nH]ccc43)n2)c1       CHEMBL206175\n",
              "...                                                 ...                ...\n",
              "4048  C[C@]12CC[C@H]3[C@@H](CCC4=CC(=O)[C@H]5C[C@H](...      CHEMBL3754469\n",
              "4049  C[C@]12CCC3C(CCC4=CC(=O)[C@H]5C[C@H](O)[C@]43C...       CHEMBL296617\n",
              "4083  C[C@]12CC[C@H]3[C@@H](CCC4=CC(=O)CC[C@@]43C)[C...       CHEMBL386630\n",
              "4089  COc1ccc(-c2c(SCc3ccncc3)oc3cc(OCc4ccccc4)ccc3c...       CHEMBL186079\n",
              "4090         O=c1c(-c2ccccc2)c(SCc2ccncc2)oc2cc(O)ccc12       CHEMBL184749\n",
              "\n",
              "[2739 rows x 2 columns]"
            ],
            "text/html": [
              "\n",
              "  <div id=\"df-c3554831-d82d-4b63-a020-456895428e8e\">\n",
              "    <div class=\"colab-df-container\">\n",
              "      <div>\n",
              "<style scoped>\n",
              "    .dataframe tbody tr th:only-of-type {\n",
              "        vertical-align: middle;\n",
              "    }\n",
              "\n",
              "    .dataframe tbody tr th {\n",
              "        vertical-align: top;\n",
              "    }\n",
              "\n",
              "    .dataframe thead th {\n",
              "        text-align: right;\n",
              "    }\n",
              "</style>\n",
              "<table border=\"1\" class=\"dataframe\">\n",
              "  <thead>\n",
              "    <tr style=\"text-align: right;\">\n",
              "      <th></th>\n",
              "      <th>Smiles</th>\n",
              "      <th>Molecule ChEMBL ID</th>\n",
              "    </tr>\n",
              "  </thead>\n",
              "  <tbody>\n",
              "    <tr>\n",
              "      <th>0</th>\n",
              "      <td>C[C@]12CC[C@H]3[C@H]([C@@H]1CCC2=O)[C@H](SCc1c...</td>\n",
              "      <td>CHEMBL3245350</td>\n",
              "    </tr>\n",
              "    <tr>\n",
              "      <th>1</th>\n",
              "      <td>CC(C)(C)c1ccc(CN(Cc2cccc3ccccc23)n2cnnc2)cc1</td>\n",
              "      <td>CHEMBL491602</td>\n",
              "    </tr>\n",
              "    <tr>\n",
              "      <th>2</th>\n",
              "      <td>CCCCS[C@@H]1CC2=CC(=O)CC[C@]2(C)[C@H]2CC[C@]3(...</td>\n",
              "      <td>CHEMBL3245348</td>\n",
              "    </tr>\n",
              "    <tr>\n",
              "      <th>3</th>\n",
              "      <td>Clc1ccc(CN(Cc2ccc(-c3ccccc3)cc2)n2cnnc2)c(Cl)c1</td>\n",
              "      <td>CHEMBL490388</td>\n",
              "    </tr>\n",
              "    <tr>\n",
              "      <th>4</th>\n",
              "      <td>COc1cccc(-c2cc(O)c3c(ccc4[nH]ccc43)n2)c1</td>\n",
              "      <td>CHEMBL206175</td>\n",
              "    </tr>\n",
              "    <tr>\n",
              "      <th>...</th>\n",
              "      <td>...</td>\n",
              "      <td>...</td>\n",
              "    </tr>\n",
              "    <tr>\n",
              "      <th>4048</th>\n",
              "      <td>C[C@]12CC[C@H]3[C@@H](CCC4=CC(=O)[C@H]5C[C@H](...</td>\n",
              "      <td>CHEMBL3754469</td>\n",
              "    </tr>\n",
              "    <tr>\n",
              "      <th>4049</th>\n",
              "      <td>C[C@]12CCC3C(CCC4=CC(=O)[C@H]5C[C@H](O)[C@]43C...</td>\n",
              "      <td>CHEMBL296617</td>\n",
              "    </tr>\n",
              "    <tr>\n",
              "      <th>4083</th>\n",
              "      <td>C[C@]12CC[C@H]3[C@@H](CCC4=CC(=O)CC[C@@]43C)[C...</td>\n",
              "      <td>CHEMBL386630</td>\n",
              "    </tr>\n",
              "    <tr>\n",
              "      <th>4089</th>\n",
              "      <td>COc1ccc(-c2c(SCc3ccncc3)oc3cc(OCc4ccccc4)ccc3c...</td>\n",
              "      <td>CHEMBL186079</td>\n",
              "    </tr>\n",
              "    <tr>\n",
              "      <th>4090</th>\n",
              "      <td>O=c1c(-c2ccccc2)c(SCc2ccncc2)oc2cc(O)ccc12</td>\n",
              "      <td>CHEMBL184749</td>\n",
              "    </tr>\n",
              "  </tbody>\n",
              "</table>\n",
              "<p>2739 rows × 2 columns</p>\n",
              "</div>\n",
              "      <button class=\"colab-df-convert\" onclick=\"convertToInteractive('df-c3554831-d82d-4b63-a020-456895428e8e')\"\n",
              "              title=\"Convert this dataframe to an interactive table.\"\n",
              "              style=\"display:none;\">\n",
              "        \n",
              "  <svg xmlns=\"http://www.w3.org/2000/svg\" height=\"24px\"viewBox=\"0 0 24 24\"\n",
              "       width=\"24px\">\n",
              "    <path d=\"M0 0h24v24H0V0z\" fill=\"none\"/>\n",
              "    <path d=\"M18.56 5.44l.94 2.06.94-2.06 2.06-.94-2.06-.94-.94-2.06-.94 2.06-2.06.94zm-11 1L8.5 8.5l.94-2.06 2.06-.94-2.06-.94L8.5 2.5l-.94 2.06-2.06.94zm10 10l.94 2.06.94-2.06 2.06-.94-2.06-.94-.94-2.06-.94 2.06-2.06.94z\"/><path d=\"M17.41 7.96l-1.37-1.37c-.4-.4-.92-.59-1.43-.59-.52 0-1.04.2-1.43.59L10.3 9.45l-7.72 7.72c-.78.78-.78 2.05 0 2.83L4 21.41c.39.39.9.59 1.41.59.51 0 1.02-.2 1.41-.59l7.78-7.78 2.81-2.81c.8-.78.8-2.07 0-2.86zM5.41 20L4 18.59l7.72-7.72 1.47 1.35L5.41 20z\"/>\n",
              "  </svg>\n",
              "      </button>\n",
              "      \n",
              "  <style>\n",
              "    .colab-df-container {\n",
              "      display:flex;\n",
              "      flex-wrap:wrap;\n",
              "      gap: 12px;\n",
              "    }\n",
              "\n",
              "    .colab-df-convert {\n",
              "      background-color: #E8F0FE;\n",
              "      border: none;\n",
              "      border-radius: 50%;\n",
              "      cursor: pointer;\n",
              "      display: none;\n",
              "      fill: #1967D2;\n",
              "      height: 32px;\n",
              "      padding: 0 0 0 0;\n",
              "      width: 32px;\n",
              "    }\n",
              "\n",
              "    .colab-df-convert:hover {\n",
              "      background-color: #E2EBFA;\n",
              "      box-shadow: 0px 1px 2px rgba(60, 64, 67, 0.3), 0px 1px 3px 1px rgba(60, 64, 67, 0.15);\n",
              "      fill: #174EA6;\n",
              "    }\n",
              "\n",
              "    [theme=dark] .colab-df-convert {\n",
              "      background-color: #3B4455;\n",
              "      fill: #D2E3FC;\n",
              "    }\n",
              "\n",
              "    [theme=dark] .colab-df-convert:hover {\n",
              "      background-color: #434B5C;\n",
              "      box-shadow: 0px 1px 3px 1px rgba(0, 0, 0, 0.15);\n",
              "      filter: drop-shadow(0px 1px 2px rgba(0, 0, 0, 0.3));\n",
              "      fill: #FFFFFF;\n",
              "    }\n",
              "  </style>\n",
              "\n",
              "      <script>\n",
              "        const buttonEl =\n",
              "          document.querySelector('#df-c3554831-d82d-4b63-a020-456895428e8e button.colab-df-convert');\n",
              "        buttonEl.style.display =\n",
              "          google.colab.kernel.accessAllowed ? 'block' : 'none';\n",
              "\n",
              "        async function convertToInteractive(key) {\n",
              "          const element = document.querySelector('#df-c3554831-d82d-4b63-a020-456895428e8e');\n",
              "          const dataTable =\n",
              "            await google.colab.kernel.invokeFunction('convertToInteractive',\n",
              "                                                     [key], {});\n",
              "          if (!dataTable) return;\n",
              "\n",
              "          const docLinkHtml = 'Like what you see? Visit the ' +\n",
              "            '<a target=\"_blank\" href=https://colab.research.google.com/notebooks/data_table.ipynb>data table notebook</a>'\n",
              "            + ' to learn more about interactive tables.';\n",
              "          element.innerHTML = '';\n",
              "          dataTable['output_type'] = 'display_data';\n",
              "          await google.colab.output.renderOutput(dataTable, element);\n",
              "          const docLink = document.createElement('div');\n",
              "          docLink.innerHTML = docLinkHtml;\n",
              "          element.appendChild(docLink);\n",
              "        }\n",
              "      </script>\n",
              "    </div>\n",
              "  </div>\n",
              "  "
            ]
          },
          "metadata": {},
          "execution_count": 12
        }
      ]
    },
    {
      "cell_type": "code",
      "source": [
        "#Importing PubChem\n",
        "fp[ 'PubChem']"
      ],
      "metadata": {
        "colab": {
          "base_uri": "https://localhost:8080/",
          "height": 36
        },
        "id": "i9Dxj1SdugH2",
        "outputId": "99300995-ad01-4880-91cb-5a93c6733ffe"
      },
      "execution_count": null,
      "outputs": [
        {
          "output_type": "execute_result",
          "data": {
            "text/plain": [
              "'PubchemFingerprinter.xml'"
            ],
            "application/vnd.google.colaboratory.intrinsic+json": {
              "type": "string"
            }
          },
          "metadata": {},
          "execution_count": 13
        }
      ]
    },
    {
      "cell_type": "code",
      "source": [
        "#Setting the fingerprint module\n",
        "\n",
        "from padelpy import padeldescriptor\n",
        "\n",
        "fingerprint = 'PubChem'\n",
        "\n",
        "fingerprint_output_file = ''.join([fingerprint,'.csv']) #Puchem.csv\n",
        "fingerprint_descriptortypes = fp[fingerprint]\n",
        "\n",
        "padeldescriptor(mol_dir='molecule.smi', \n",
        "                d_file=fingerprint_output_file, #'Pubchem.csv'\n",
        "                #descriptortypes='PuchemFingerprint.xml', \n",
        "                descriptortypes= fingerprint_descriptortypes,\n",
        "               detectaromaticity=True,\n",
        "                standardizenitro=True,\n",
        "                standardizetautomers=True,\n",
        "                threads=2,\n",
        "                removesalt=True,\n",
        "                log=True,\n",
        "                fingerprints=True)"
      ],
      "metadata": {
        "id": "5dxKNawtun6h"
      },
      "execution_count": null,
      "outputs": []
    },
    {
      "cell_type": "code",
      "source": [
        "df7=pd.read_csv('/content/drive/MyDrive/aroma/descriptorsC')\n",
        "df7.head()\n"
      ],
      "metadata": {
        "colab": {
          "base_uri": "https://localhost:8080/",
          "height": 299
        },
        "id": "7SYFeLdSLBGF",
        "outputId": "31496c5d-790b-47a7-d875-31c60174e251"
      },
      "execution_count": null,
      "outputs": [
        {
          "output_type": "execute_result",
          "data": {
            "text/plain": [
              "            Name  PubchemFP0  PubchemFP1  PubchemFP2  PubchemFP3  PubchemFP4  \\\n",
              "0  CHEMBL3245350           1           1           1           1           0   \n",
              "1   CHEMBL491602           1           1           1           0           0   \n",
              "2  CHEMBL3245348           1           1           1           1           0   \n",
              "3   CHEMBL490388           1           1           1           0           0   \n",
              "4   CHEMBL206175           1           1           0           0           0   \n",
              "\n",
              "   PubchemFP5  PubchemFP6  PubchemFP7  PubchemFP8  ...  PubchemFP871  \\\n",
              "0           0           0           0           0  ...             0   \n",
              "1           0           0           0           0  ...             0   \n",
              "2           0           0           0           0  ...             0   \n",
              "3           0           0           0           0  ...             0   \n",
              "4           0           0           0           0  ...             0   \n",
              "\n",
              "   PubchemFP872  PubchemFP873  PubchemFP874  PubchemFP875  PubchemFP876  \\\n",
              "0             0             0             0             0             0   \n",
              "1             0             0             0             0             0   \n",
              "2             0             0             0             0             0   \n",
              "3             0             0             0             0             0   \n",
              "4             0             0             0             0             0   \n",
              "\n",
              "   PubchemFP877  PubchemFP878  PubchemFP879  PubchemFP880  \n",
              "0             0             0             0             0  \n",
              "1             0             0             0             0  \n",
              "2             0             0             0             0  \n",
              "3             0             0             0             0  \n",
              "4             0             0             0             0  \n",
              "\n",
              "[5 rows x 882 columns]"
            ],
            "text/html": [
              "\n",
              "  <div id=\"df-1989eb43-43ab-41e5-abc8-ad45edf9a341\">\n",
              "    <div class=\"colab-df-container\">\n",
              "      <div>\n",
              "<style scoped>\n",
              "    .dataframe tbody tr th:only-of-type {\n",
              "        vertical-align: middle;\n",
              "    }\n",
              "\n",
              "    .dataframe tbody tr th {\n",
              "        vertical-align: top;\n",
              "    }\n",
              "\n",
              "    .dataframe thead th {\n",
              "        text-align: right;\n",
              "    }\n",
              "</style>\n",
              "<table border=\"1\" class=\"dataframe\">\n",
              "  <thead>\n",
              "    <tr style=\"text-align: right;\">\n",
              "      <th></th>\n",
              "      <th>Name</th>\n",
              "      <th>PubchemFP0</th>\n",
              "      <th>PubchemFP1</th>\n",
              "      <th>PubchemFP2</th>\n",
              "      <th>PubchemFP3</th>\n",
              "      <th>PubchemFP4</th>\n",
              "      <th>PubchemFP5</th>\n",
              "      <th>PubchemFP6</th>\n",
              "      <th>PubchemFP7</th>\n",
              "      <th>PubchemFP8</th>\n",
              "      <th>...</th>\n",
              "      <th>PubchemFP871</th>\n",
              "      <th>PubchemFP872</th>\n",
              "      <th>PubchemFP873</th>\n",
              "      <th>PubchemFP874</th>\n",
              "      <th>PubchemFP875</th>\n",
              "      <th>PubchemFP876</th>\n",
              "      <th>PubchemFP877</th>\n",
              "      <th>PubchemFP878</th>\n",
              "      <th>PubchemFP879</th>\n",
              "      <th>PubchemFP880</th>\n",
              "    </tr>\n",
              "  </thead>\n",
              "  <tbody>\n",
              "    <tr>\n",
              "      <th>0</th>\n",
              "      <td>CHEMBL3245350</td>\n",
              "      <td>1</td>\n",
              "      <td>1</td>\n",
              "      <td>1</td>\n",
              "      <td>1</td>\n",
              "      <td>0</td>\n",
              "      <td>0</td>\n",
              "      <td>0</td>\n",
              "      <td>0</td>\n",
              "      <td>0</td>\n",
              "      <td>...</td>\n",
              "      <td>0</td>\n",
              "      <td>0</td>\n",
              "      <td>0</td>\n",
              "      <td>0</td>\n",
              "      <td>0</td>\n",
              "      <td>0</td>\n",
              "      <td>0</td>\n",
              "      <td>0</td>\n",
              "      <td>0</td>\n",
              "      <td>0</td>\n",
              "    </tr>\n",
              "    <tr>\n",
              "      <th>1</th>\n",
              "      <td>CHEMBL491602</td>\n",
              "      <td>1</td>\n",
              "      <td>1</td>\n",
              "      <td>1</td>\n",
              "      <td>0</td>\n",
              "      <td>0</td>\n",
              "      <td>0</td>\n",
              "      <td>0</td>\n",
              "      <td>0</td>\n",
              "      <td>0</td>\n",
              "      <td>...</td>\n",
              "      <td>0</td>\n",
              "      <td>0</td>\n",
              "      <td>0</td>\n",
              "      <td>0</td>\n",
              "      <td>0</td>\n",
              "      <td>0</td>\n",
              "      <td>0</td>\n",
              "      <td>0</td>\n",
              "      <td>0</td>\n",
              "      <td>0</td>\n",
              "    </tr>\n",
              "    <tr>\n",
              "      <th>2</th>\n",
              "      <td>CHEMBL3245348</td>\n",
              "      <td>1</td>\n",
              "      <td>1</td>\n",
              "      <td>1</td>\n",
              "      <td>1</td>\n",
              "      <td>0</td>\n",
              "      <td>0</td>\n",
              "      <td>0</td>\n",
              "      <td>0</td>\n",
              "      <td>0</td>\n",
              "      <td>...</td>\n",
              "      <td>0</td>\n",
              "      <td>0</td>\n",
              "      <td>0</td>\n",
              "      <td>0</td>\n",
              "      <td>0</td>\n",
              "      <td>0</td>\n",
              "      <td>0</td>\n",
              "      <td>0</td>\n",
              "      <td>0</td>\n",
              "      <td>0</td>\n",
              "    </tr>\n",
              "    <tr>\n",
              "      <th>3</th>\n",
              "      <td>CHEMBL490388</td>\n",
              "      <td>1</td>\n",
              "      <td>1</td>\n",
              "      <td>1</td>\n",
              "      <td>0</td>\n",
              "      <td>0</td>\n",
              "      <td>0</td>\n",
              "      <td>0</td>\n",
              "      <td>0</td>\n",
              "      <td>0</td>\n",
              "      <td>...</td>\n",
              "      <td>0</td>\n",
              "      <td>0</td>\n",
              "      <td>0</td>\n",
              "      <td>0</td>\n",
              "      <td>0</td>\n",
              "      <td>0</td>\n",
              "      <td>0</td>\n",
              "      <td>0</td>\n",
              "      <td>0</td>\n",
              "      <td>0</td>\n",
              "    </tr>\n",
              "    <tr>\n",
              "      <th>4</th>\n",
              "      <td>CHEMBL206175</td>\n",
              "      <td>1</td>\n",
              "      <td>1</td>\n",
              "      <td>0</td>\n",
              "      <td>0</td>\n",
              "      <td>0</td>\n",
              "      <td>0</td>\n",
              "      <td>0</td>\n",
              "      <td>0</td>\n",
              "      <td>0</td>\n",
              "      <td>...</td>\n",
              "      <td>0</td>\n",
              "      <td>0</td>\n",
              "      <td>0</td>\n",
              "      <td>0</td>\n",
              "      <td>0</td>\n",
              "      <td>0</td>\n",
              "      <td>0</td>\n",
              "      <td>0</td>\n",
              "      <td>0</td>\n",
              "      <td>0</td>\n",
              "    </tr>\n",
              "  </tbody>\n",
              "</table>\n",
              "<p>5 rows × 882 columns</p>\n",
              "</div>\n",
              "      <button class=\"colab-df-convert\" onclick=\"convertToInteractive('df-1989eb43-43ab-41e5-abc8-ad45edf9a341')\"\n",
              "              title=\"Convert this dataframe to an interactive table.\"\n",
              "              style=\"display:none;\">\n",
              "        \n",
              "  <svg xmlns=\"http://www.w3.org/2000/svg\" height=\"24px\"viewBox=\"0 0 24 24\"\n",
              "       width=\"24px\">\n",
              "    <path d=\"M0 0h24v24H0V0z\" fill=\"none\"/>\n",
              "    <path d=\"M18.56 5.44l.94 2.06.94-2.06 2.06-.94-2.06-.94-.94-2.06-.94 2.06-2.06.94zm-11 1L8.5 8.5l.94-2.06 2.06-.94-2.06-.94L8.5 2.5l-.94 2.06-2.06.94zm10 10l.94 2.06.94-2.06 2.06-.94-2.06-.94-.94-2.06-.94 2.06-2.06.94z\"/><path d=\"M17.41 7.96l-1.37-1.37c-.4-.4-.92-.59-1.43-.59-.52 0-1.04.2-1.43.59L10.3 9.45l-7.72 7.72c-.78.78-.78 2.05 0 2.83L4 21.41c.39.39.9.59 1.41.59.51 0 1.02-.2 1.41-.59l7.78-7.78 2.81-2.81c.8-.78.8-2.07 0-2.86zM5.41 20L4 18.59l7.72-7.72 1.47 1.35L5.41 20z\"/>\n",
              "  </svg>\n",
              "      </button>\n",
              "      \n",
              "  <style>\n",
              "    .colab-df-container {\n",
              "      display:flex;\n",
              "      flex-wrap:wrap;\n",
              "      gap: 12px;\n",
              "    }\n",
              "\n",
              "    .colab-df-convert {\n",
              "      background-color: #E8F0FE;\n",
              "      border: none;\n",
              "      border-radius: 50%;\n",
              "      cursor: pointer;\n",
              "      display: none;\n",
              "      fill: #1967D2;\n",
              "      height: 32px;\n",
              "      padding: 0 0 0 0;\n",
              "      width: 32px;\n",
              "    }\n",
              "\n",
              "    .colab-df-convert:hover {\n",
              "      background-color: #E2EBFA;\n",
              "      box-shadow: 0px 1px 2px rgba(60, 64, 67, 0.3), 0px 1px 3px 1px rgba(60, 64, 67, 0.15);\n",
              "      fill: #174EA6;\n",
              "    }\n",
              "\n",
              "    [theme=dark] .colab-df-convert {\n",
              "      background-color: #3B4455;\n",
              "      fill: #D2E3FC;\n",
              "    }\n",
              "\n",
              "    [theme=dark] .colab-df-convert:hover {\n",
              "      background-color: #434B5C;\n",
              "      box-shadow: 0px 1px 3px 1px rgba(0, 0, 0, 0.15);\n",
              "      filter: drop-shadow(0px 1px 2px rgba(0, 0, 0, 0.3));\n",
              "      fill: #FFFFFF;\n",
              "    }\n",
              "  </style>\n",
              "\n",
              "      <script>\n",
              "        const buttonEl =\n",
              "          document.querySelector('#df-1989eb43-43ab-41e5-abc8-ad45edf9a341 button.colab-df-convert');\n",
              "        buttonEl.style.display =\n",
              "          google.colab.kernel.accessAllowed ? 'block' : 'none';\n",
              "\n",
              "        async function convertToInteractive(key) {\n",
              "          const element = document.querySelector('#df-1989eb43-43ab-41e5-abc8-ad45edf9a341');\n",
              "          const dataTable =\n",
              "            await google.colab.kernel.invokeFunction('convertToInteractive',\n",
              "                                                     [key], {});\n",
              "          if (!dataTable) return;\n",
              "\n",
              "          const docLinkHtml = 'Like what you see? Visit the ' +\n",
              "            '<a target=\"_blank\" href=https://colab.research.google.com/notebooks/data_table.ipynb>data table notebook</a>'\n",
              "            + ' to learn more about interactive tables.';\n",
              "          element.innerHTML = '';\n",
              "          dataTable['output_type'] = 'display_data';\n",
              "          await google.colab.output.renderOutput(dataTable, element);\n",
              "          const docLink = document.createElement('div');\n",
              "          docLink.innerHTML = docLinkHtml;\n",
              "          element.appendChild(docLink);\n",
              "        }\n",
              "      </script>\n",
              "    </div>\n",
              "  </div>\n",
              "  "
            ]
          },
          "metadata": {},
          "execution_count": 7
        }
      ]
    },
    {
      "cell_type": "code",
      "source": [
        "X = df7.drop('Name', axis =1)"
      ],
      "metadata": {
        "id": "IigfgDsCUh_F"
      },
      "execution_count": null,
      "outputs": []
    },
    {
      "cell_type": "code",
      "source": [
        "#Removing low Variance\n",
        "from sklearn.feature_selection import VarianceThreshold\n",
        "selection = VarianceThreshold(threshold=(.8 * (1 - .8)))    \n",
        "x = selection.fit_transform(X)"
      ],
      "metadata": {
        "id": "RO8dMN1y3NOE"
      },
      "execution_count": null,
      "outputs": []
    },
    {
      "cell_type": "code",
      "source": [
        "x.shape"
      ],
      "metadata": {
        "colab": {
          "base_uri": "https://localhost:8080/"
        },
        "id": "PML-S1xd3Uqp",
        "outputId": "194247ce-5797-4e9c-8f8c-db2e497581db"
      },
      "execution_count": null,
      "outputs": [
        {
          "output_type": "execute_result",
          "data": {
            "text/plain": [
              "(2739, 153)"
            ]
          },
          "metadata": {},
          "execution_count": 34
        }
      ]
    },
    {
      "cell_type": "code",
      "source": [
        "y = df3.Activity\n",
        "y"
      ],
      "metadata": {
        "colab": {
          "base_uri": "https://localhost:8080/"
        },
        "id": "HzrFaTMHye8h",
        "outputId": "f7b62bd3-99f1-4414-afef-466fa4613999"
      },
      "execution_count": null,
      "outputs": [
        {
          "output_type": "execute_result",
          "data": {
            "text/plain": [
              "0       0\n",
              "1       0\n",
              "2       0\n",
              "3       0\n",
              "4       0\n",
              "       ..\n",
              "4048    1\n",
              "4049    1\n",
              "4083    1\n",
              "4089    1\n",
              "4090    1\n",
              "Name: Activity, Length: 2739, dtype: int64"
            ]
          },
          "metadata": {},
          "execution_count": 10
        }
      ]
    },
    {
      "cell_type": "markdown",
      "source": [
        "MODEL TRAINING"
      ],
      "metadata": {
        "id": "4ifPAHB_ysNs"
      }
    },
    {
      "cell_type": "code",
      "source": [
        "from sklearn.model_selection import train_test_split\n",
        "X_train, X_test, y_train, y_test = train_test_split(X, y, test_size=0.3, random_state=44)"
      ],
      "metadata": {
        "id": "kWc7El3t3l2p"
      },
      "execution_count": null,
      "outputs": []
    },
    {
      "cell_type": "markdown",
      "source": [
        "Random Forest"
      ],
      "metadata": {
        "id": "ISQHc3U22Fu7"
      }
    },
    {
      "cell_type": "code",
      "source": [
        "from sklearn.ensemble import RandomForestClassifier\n",
        "rf_model = RandomForestClassifier(n_estimators=50, max_features=\"auto\", random_state=44)\n",
        "rf_model.fit(X_train, y_train)\n"
      ],
      "metadata": {
        "colab": {
          "base_uri": "https://localhost:8080/"
        },
        "id": "5eRTW419yrjN",
        "outputId": "476429b0-3990-417b-af19-9c87048807df"
      },
      "execution_count": null,
      "outputs": [
        {
          "output_type": "execute_result",
          "data": {
            "text/plain": [
              "RandomForestClassifier(n_estimators=50, random_state=44)"
            ]
          },
          "metadata": {},
          "execution_count": 12
        }
      ]
    },
    {
      "cell_type": "code",
      "source": [
        "y_test_pred = rf_model.predict(X_test)\n",
        "y_test_pred"
      ],
      "metadata": {
        "colab": {
          "base_uri": "https://localhost:8080/"
        },
        "id": "pPho8aRU4sS3",
        "outputId": "6111d69f-7519-4f32-eb3e-c72bc8d531fb"
      },
      "execution_count": null,
      "outputs": [
        {
          "output_type": "execute_result",
          "data": {
            "text/plain": [
              "array([0, 1, 0, 0, 1, 0, 0, 0, 1, 1, 0, 1, 1, 1, 0, 0, 1, 0, 1, 1, 1, 0,\n",
              "       0, 1, 0, 0, 1, 0, 0, 0, 1, 1, 0, 0, 1, 0, 0, 1, 0, 0, 1, 1, 1, 1,\n",
              "       1, 0, 1, 0, 0, 0, 0, 1, 1, 0, 0, 1, 0, 0, 1, 0, 0, 1, 0, 1, 0, 1,\n",
              "       0, 0, 1, 0, 0, 1, 0, 0, 0, 0, 0, 0, 0, 0, 0, 1, 1, 1, 0, 0, 1, 1,\n",
              "       1, 1, 0, 0, 0, 0, 0, 1, 0, 1, 0, 1, 0, 0, 1, 1, 0, 0, 0, 0, 1, 1,\n",
              "       1, 1, 0, 0, 0, 1, 0, 1, 0, 0, 0, 0, 1, 0, 1, 0, 0, 0, 1, 1, 1, 0,\n",
              "       0, 1, 0, 1, 1, 1, 1, 0, 0, 1, 0, 0, 0, 1, 0, 0, 0, 0, 1, 0, 0, 1,\n",
              "       1, 0, 1, 0, 0, 0, 1, 0, 0, 1, 1, 0, 0, 1, 0, 0, 0, 1, 0, 1, 0, 0,\n",
              "       0, 0, 0, 0, 0, 1, 0, 1, 0, 0, 0, 0, 1, 1, 0, 0, 1, 0, 1, 0, 0, 0,\n",
              "       1, 1, 0, 1, 0, 1, 1, 0, 1, 1, 0, 0, 0, 1, 0, 0, 1, 0, 1, 1, 1, 0,\n",
              "       1, 1, 0, 1, 0, 0, 0, 1, 0, 1, 0, 0, 0, 0, 0, 1, 1, 0, 0, 1, 1, 1,\n",
              "       0, 0, 0, 1, 0, 0, 1, 0, 0, 0, 0, 0, 0, 0, 0, 0, 1, 0, 0, 0, 1, 0,\n",
              "       1, 0, 0, 0, 0, 1, 1, 0, 0, 0, 0, 1, 1, 1, 0, 0, 0, 0, 0, 1, 0, 0,\n",
              "       0, 0, 1, 0, 0, 0, 0, 0, 0, 0, 1, 0, 1, 0, 0, 1, 1, 1, 0, 0, 1, 0,\n",
              "       0, 0, 0, 0, 0, 1, 1, 1, 1, 0, 0, 0, 0, 0, 0, 0, 0, 0, 0, 1, 0, 1,\n",
              "       1, 1, 1, 1, 1, 0, 0, 1, 0, 0, 1, 0, 1, 0, 1, 0, 0, 0, 0, 1, 0, 1,\n",
              "       0, 0, 1, 1, 0, 0, 0, 0, 1, 0, 1, 1, 1, 0, 0, 0, 1, 0, 1, 0, 1, 0,\n",
              "       0, 1, 1, 0, 0, 1, 1, 0, 1, 1, 0, 0, 1, 0, 0, 1, 1, 0, 0, 0, 0, 0,\n",
              "       1, 1, 0, 0, 0, 0, 1, 1, 0, 0, 1, 1, 1, 1, 0, 0, 0, 1, 0, 1, 0, 1,\n",
              "       1, 1, 0, 1, 0, 1, 1, 0, 0, 1, 0, 1, 1, 0, 1, 1, 1, 0, 0, 0, 1, 1,\n",
              "       0, 1, 0, 1, 0, 0, 1, 0, 0, 0, 1, 0, 0, 1, 0, 0, 0, 1, 0, 0, 1, 1,\n",
              "       0, 0, 0, 1, 1, 0, 0, 0, 0, 0, 1, 0, 0, 1, 0, 0, 1, 1, 0, 0, 0, 0,\n",
              "       0, 1, 1, 0, 0, 1, 0, 0, 0, 0, 0, 1, 1, 1, 1, 1, 0, 1, 1, 0, 0, 1,\n",
              "       0, 0, 0, 1, 0, 1, 1, 0, 0, 0, 1, 1, 0, 1, 0, 0, 1, 1, 0, 0, 1, 1,\n",
              "       0, 0, 0, 0, 0, 1, 1, 0, 1, 0, 0, 0, 0, 1, 0, 0, 1, 0, 0, 1, 0, 0,\n",
              "       1, 0, 0, 0, 1, 0, 1, 1, 1, 0, 1, 1, 0, 0, 1, 0, 0, 0, 0, 1, 1, 1,\n",
              "       1, 0, 0, 0, 1, 0, 0, 1, 0, 1, 0, 0, 1, 1, 1, 0, 0, 1, 0, 0, 0, 0,\n",
              "       0, 1, 0, 0, 1, 0, 1, 0, 0, 1, 1, 0, 1, 1, 0, 1, 1, 0, 0, 1, 0, 0,\n",
              "       0, 0, 0, 0, 1, 1, 1, 0, 0, 1, 0, 0, 0, 0, 1, 0, 0, 1, 1, 0, 0, 1,\n",
              "       0, 1, 1, 1, 0, 0, 0, 0, 0, 0, 0, 0, 1, 1, 0, 1, 0, 0, 0, 0, 0, 0,\n",
              "       0, 0, 0, 1, 1, 1, 0, 0, 0, 1, 0, 0, 0, 0, 0, 0, 1, 0, 0, 0, 0, 0,\n",
              "       0, 0, 0, 1, 1, 1, 0, 0, 1, 0, 0, 0, 0, 0, 0, 0, 0, 0, 1, 1, 0, 1,\n",
              "       0, 1, 1, 0, 0, 0, 0, 1, 1, 0, 1, 0, 0, 0, 1, 0, 1, 0, 1, 1, 1, 0,\n",
              "       1, 1, 1, 1, 0, 1, 1, 1, 1, 1, 0, 0, 1, 0, 1, 0, 0, 0, 0, 0, 0, 0,\n",
              "       0, 0, 0, 0, 0, 0, 0, 0, 1, 1, 1, 0, 0, 1, 1, 0, 0, 1, 1, 0, 0, 0,\n",
              "       0, 1, 0, 0, 0, 0, 0, 0, 1, 1, 1, 0, 0, 1, 0, 0, 0, 1, 0, 1, 0, 0,\n",
              "       1, 0, 0, 0, 0, 1, 0, 0, 0, 0, 0, 1, 1, 0, 1, 0, 0, 0, 0, 1, 0, 1,\n",
              "       0, 0, 0, 0, 1, 1, 0, 0])"
            ]
          },
          "metadata": {},
          "execution_count": 13
        }
      ]
    },
    {
      "cell_type": "code",
      "source": [
        "y_train_pred = rf_model.predict(X_train)\n",
        "y_train_pred"
      ],
      "metadata": {
        "colab": {
          "base_uri": "https://localhost:8080/"
        },
        "id": "bLN52-IjeLgJ",
        "outputId": "30450908-510c-4599-a16c-e56d364a16f9"
      },
      "execution_count": null,
      "outputs": [
        {
          "output_type": "execute_result",
          "data": {
            "text/plain": [
              "array([0, 0, 0, ..., 0, 0, 1])"
            ]
          },
          "metadata": {},
          "execution_count": 14
        }
      ]
    },
    {
      "cell_type": "code",
      "source": [
        "y.shape"
      ],
      "metadata": {
        "colab": {
          "base_uri": "https://localhost:8080/"
        },
        "id": "S1xnKzMjdQlX",
        "outputId": "1c20831c-761a-4250-90a2-bced4d3c1818"
      },
      "execution_count": null,
      "outputs": [
        {
          "output_type": "execute_result",
          "data": {
            "text/plain": [
              "(2739,)"
            ]
          },
          "metadata": {},
          "execution_count": 20
        }
      ]
    },
    {
      "cell_type": "code",
      "source": [
        "y_test_pred.shape"
      ],
      "metadata": {
        "colab": {
          "base_uri": "https://localhost:8080/"
        },
        "id": "Sr1rNAjCdGhy",
        "outputId": "46bd249b-843f-4428-a9a2-3708999a4e69"
      },
      "execution_count": null,
      "outputs": [
        {
          "output_type": "execute_result",
          "data": {
            "text/plain": [
              "(822,)"
            ]
          },
          "metadata": {},
          "execution_count": 21
        }
      ]
    },
    {
      "cell_type": "code",
      "source": [
        "from sklearn.metrics import confusion_matrix\n",
        "confusion_matrix = confusion_matrix(y_test, y_test_pred)\n",
        "print(confusion_matrix)"
      ],
      "metadata": {
        "colab": {
          "base_uri": "https://localhost:8080/"
        },
        "id": "iJFtmxxAcvJT",
        "outputId": "8c43cc31-9e7e-4d4c-f8bf-9ea9b162c5b9"
      },
      "execution_count": null,
      "outputs": [
        {
          "output_type": "stream",
          "name": "stdout",
          "text": [
            "[[414  84]\n",
            " [ 91 233]]\n"
          ]
        }
      ]
    },
    {
      "cell_type": "code",
      "execution_count": null,
      "metadata": {
        "colab": {
          "base_uri": "https://localhost:8080/"
        },
        "id": "KXdAtGYOOTeI",
        "outputId": "73dd4436-ef25-4afa-d7dd-371a863ebb00"
      },
      "outputs": [
        {
          "output_type": "stream",
          "name": "stdout",
          "text": [
            "              precision    recall  f1-score   support\n",
            "\n",
            "           0       0.82      0.83      0.83       498\n",
            "           1       0.74      0.72      0.73       324\n",
            "\n",
            "    accuracy                           0.79       822\n",
            "   macro avg       0.78      0.78      0.78       822\n",
            "weighted avg       0.79      0.79      0.79       822\n",
            "\n"
          ]
        }
      ],
      "source": [
        "from sklearn.metrics import classification_report\n",
        "print(classification_report(y_test, y_test_pred))"
      ]
    },
    {
      "cell_type": "code",
      "execution_count": null,
      "metadata": {
        "id": "sfs-yZbUlx6T"
      },
      "outputs": [],
      "source": [
        "from sklearn.metrics import matthews_corrcoef"
      ]
    },
    {
      "cell_type": "code",
      "execution_count": null,
      "metadata": {
        "colab": {
          "base_uri": "https://localhost:8080/"
        },
        "id": "gTXoQFuT02O4",
        "outputId": "a3b3397c-b90c-424b-a3aa-5b7acdf92135"
      },
      "outputs": [
        {
          "output_type": "execute_result",
          "data": {
            "text/plain": [
              "0.943464293643765"
            ]
          },
          "metadata": {},
          "execution_count": 18
        }
      ],
      "source": [
        "mcc_train = matthews_corrcoef(y_train, y_train_pred)\n",
        "mcc_train"
      ]
    },
    {
      "cell_type": "code",
      "execution_count": null,
      "metadata": {
        "colab": {
          "base_uri": "https://localhost:8080/"
        },
        "id": "74MNDsc-1jNI",
        "outputId": "9038cec6-a9ac-4b12-86c7-a9d3e7ccc7cd"
      },
      "outputs": [
        {
          "output_type": "execute_result",
          "data": {
            "text/plain": [
              "0.5526351352312759"
            ]
          },
          "metadata": {},
          "execution_count": 19
        }
      ],
      "source": [
        "mcc_test = matthews_corrcoef(y_test, y_test_pred)\n",
        "mcc_test"
      ]
    },
    {
      "cell_type": "markdown",
      "source": [
        "ROC-AUC"
      ],
      "metadata": {
        "id": "-xKlFqq_i0Vn"
      }
    },
    {
      "cell_type": "code",
      "source": [
        "from sklearn.metrics import roc_auc_score\n",
        "from sklearn.metrics import roc_curve"
      ],
      "metadata": {
        "id": "_LtM9mExi-pv"
      },
      "execution_count": null,
      "outputs": []
    },
    {
      "cell_type": "code",
      "source": [
        "rf_model_roc_auc = roc_auc_score(y_test, rf_model.predict(X_test))\n",
        "fpr, tpr, thresholds = roc_curve(y_test, rf_model.predict_proba(X_test)[:,1])\n",
        "plt.figure()\n",
        "plt.plot(fpr, tpr, label='RandomForestClassifier (area = %0.2f)' % rf_model_roc_auc)\n",
        "plt.plot([0, 1], [0, 1],'r--')\n",
        "plt.xlim([0.0, 1.0])\n",
        "plt.ylim([0.0, 1.05])\n",
        "plt.xlabel('False Positive Rate')\n",
        "plt.ylabel('True Positive Rate')\n",
        "plt.title('Receiver operating characteristic')\n",
        "plt.legend(loc=\"lower right\")\n",
        "plt.savefig('rf_model_ROC')\n",
        "plt.show()"
      ],
      "metadata": {
        "colab": {
          "base_uri": "https://localhost:8080/",
          "height": 295
        },
        "id": "otWRwxLei4F0",
        "outputId": "8a497ae0-cac2-45e6-83ba-9c0852aee370"
      },
      "execution_count": null,
      "outputs": [
        {
          "output_type": "display_data",
          "data": {
            "text/plain": [
              "<Figure size 432x288 with 1 Axes>"
            ],
            "image/png": "[encoded data removed]"
          },
          "metadata": {
            "needs_background": "light"
          }
        }
      ]
    },
    {
      "cell_type": "markdown",
      "source": [
        "SUPPORT VECTOR MACHINE"
      ],
      "metadata": {
        "id": "vEoq8L68kXKH"
      }
    },
    {
      "cell_type": "code",
      "source": [
        "from sklearn import svm\n",
        "clf = svm.SVC(kernel='linear', probability=True)\n",
        "clf.fit(X_train, y_train)\n",
        "y_pred = clf.predict(X_test)"
      ],
      "metadata": {
        "id": "utZDMTbakWnK"
      },
      "execution_count": null,
      "outputs": []
    },
    {
      "cell_type": "code",
      "source": [
        "from sklearn import metrics"
      ],
      "metadata": {
        "id": "4_O3TNyiqgP0"
      },
      "execution_count": null,
      "outputs": []
    },
    {
      "cell_type": "code",
      "source": [
        "from sklearn.metrics import classification_report\n",
        "print(classification_report(y_test, y_pred))"
      ],
      "metadata": {
        "colab": {
          "base_uri": "https://localhost:8080/"
        },
        "id": "bHL4JGFKNrW4",
        "outputId": "04c9ac23-95b2-4c84-b36f-39f76e2c1080"
      },
      "execution_count": null,
      "outputs": [
        {
          "output_type": "stream",
          "name": "stdout",
          "text": [
            "              precision    recall  f1-score   support\n",
            "\n",
            "           0       0.81      0.84      0.83       498\n",
            "           1       0.74      0.70      0.72       324\n",
            "\n",
            "    accuracy                           0.79       822\n",
            "   macro avg       0.78      0.77      0.77       822\n",
            "weighted avg       0.79      0.79      0.79       822\n",
            "\n"
          ]
        }
      ]
    },
    {
      "cell_type": "code",
      "source": [
        "print(\"Accuracy:\",metrics.accuracy_score(y_test, y_pred))\n",
        "print(\"Precision:\",metrics.precision_score(y_test, y_pred))\n",
        "print(\"recall:\", metrics.recall_score(y_test, y_pred))"
      ],
      "metadata": {
        "colab": {
          "base_uri": "https://localhost:8080/"
        },
        "id": "X3q_lKWVqo68",
        "outputId": "a1b1b692-e93b-40d8-8a3c-854055f72c3b"
      },
      "execution_count": null,
      "outputs": [
        {
          "output_type": "stream",
          "name": "stdout",
          "text": [
            "Accuracy: 0.7871046228710462\n",
            "Precision: 0.742671009771987\n",
            "recall: 0.7037037037037037\n"
          ]
        }
      ]
    },
    {
      "cell_type": "code",
      "source": [
        "from sklearn.metrics import confusion_matrix\n",
        "confusion_matrix = confusion_matrix(y_test, y_pred)\n",
        "print(confusion_matrix)"
      ],
      "metadata": {
        "colab": {
          "base_uri": "https://localhost:8080/"
        },
        "id": "wCitXvjgrnGP",
        "outputId": "9d3aa911-9eb8-4b51-a903-deef92c80109"
      },
      "execution_count": null,
      "outputs": [
        {
          "output_type": "stream",
          "name": "stdout",
          "text": [
            "[[419  79]\n",
            " [ 96 228]]\n"
          ]
        }
      ]
    },
    {
      "cell_type": "code",
      "source": [
        "#makepredictions\n",
        "y_train_pred= clf.predict(X_train)"
      ],
      "metadata": {
        "id": "5wi7AegFsBwW"
      },
      "execution_count": null,
      "outputs": []
    },
    {
      "cell_type": "code",
      "source": [
        "mcc_train = matthews_corrcoef(y_train, y_train_pred)\n",
        "mcc_train"
      ],
      "metadata": {
        "colab": {
          "base_uri": "https://localhost:8080/"
        },
        "id": "lxrcHNNnry6m",
        "outputId": "535c1724-21c1-49b9-bcb8-0cbc4255d46f"
      },
      "execution_count": null,
      "outputs": [
        {
          "output_type": "execute_result",
          "data": {
            "text/plain": [
              "0.72145128693551"
            ]
          },
          "metadata": {},
          "execution_count": 28
        }
      ]
    },
    {
      "cell_type": "code",
      "source": [
        "mcc_test = matthews_corrcoef(y_test, y_pred)\n",
        "mcc_test"
      ],
      "metadata": {
        "colab": {
          "base_uri": "https://localhost:8080/"
        },
        "id": "x0RDJiONr_bh",
        "outputId": "9d5ebd29-fd9d-4acb-abd6-a43bfee6c733"
      },
      "execution_count": null,
      "outputs": [
        {
          "output_type": "execute_result",
          "data": {
            "text/plain": [
              "0.5506377589393631"
            ]
          },
          "metadata": {},
          "execution_count": 29
        }
      ]
    },
    {
      "cell_type": "markdown",
      "source": [
        "LOGISTICS REGRESSION"
      ],
      "metadata": {
        "id": "kw7EIgNdul1B"
      }
    },
    {
      "cell_type": "code",
      "source": [
        "from sklearn.linear_model import LogisticRegression\n",
        "from sklearn import metrics\n",
        "X_train, X_test, y_train, y_test = train_test_split(X, y, test_size=0.3, random_state=0)\n",
        "logreg = LogisticRegression(C=100.0, penalty='l1', solver ='liblinear')\n",
        "logreg.fit(X_train, y_train)"
      ],
      "metadata": {
        "colab": {
          "base_uri": "https://localhost:8080/"
        },
        "id": "YzIS2fOJuh8-",
        "outputId": "9ef4a377-7200-4e98-e467-55e11b5696bb"
      },
      "execution_count": null,
      "outputs": [
        {
          "output_type": "execute_result",
          "data": {
            "text/plain": [
              "LogisticRegression(C=100.0, penalty='l1', solver='liblinear')"
            ]
          },
          "metadata": {},
          "execution_count": 30
        }
      ]
    },
    {
      "cell_type": "code",
      "source": [
        "y_pred = logreg.predict(X_test)\n",
        "print('Accuracy of logistic regression classifier on test set: {:.2f}'.format(logreg.score(X_test, y_test)))"
      ],
      "metadata": {
        "colab": {
          "base_uri": "https://localhost:8080/"
        },
        "id": "ywv2gMHyvy6E",
        "outputId": "fa141b06-49d2-43d1-f3bd-a0959ba386de"
      },
      "execution_count": null,
      "outputs": [
        {
          "output_type": "stream",
          "name": "stdout",
          "text": [
            "Accuracy of logistic regression classifier on test set: 0.78\n"
          ]
        }
      ]
    },
    {
      "cell_type": "code",
      "source": [
        "from sklearn.metrics import confusion_matrix\n",
        "confusion_matrix = confusion_matrix(y_test, y_pred)\n",
        "print(confusion_matrix)"
      ],
      "metadata": {
        "colab": {
          "base_uri": "https://localhost:8080/"
        },
        "id": "jniu6kvZv9GZ",
        "outputId": "cf79419c-dd28-46eb-d0c7-893e6f204e69"
      },
      "execution_count": null,
      "outputs": [
        {
          "output_type": "stream",
          "name": "stdout",
          "text": [
            "[[399  83]\n",
            " [ 94 246]]\n"
          ]
        }
      ]
    },
    {
      "cell_type": "code",
      "source": [
        "from sklearn.metrics import classification_report\n",
        "print(classification_report(y_test, y_pred))"
      ],
      "metadata": {
        "colab": {
          "base_uri": "https://localhost:8080/"
        },
        "id": "utQ9tiQnwPqC",
        "outputId": "cb3d5915-fede-47b4-dd5f-df5cb18a63eb"
      },
      "execution_count": null,
      "outputs": [
        {
          "output_type": "stream",
          "name": "stdout",
          "text": [
            "              precision    recall  f1-score   support\n",
            "\n",
            "           0       0.81      0.83      0.82       482\n",
            "           1       0.75      0.72      0.74       340\n",
            "\n",
            "    accuracy                           0.78       822\n",
            "   macro avg       0.78      0.78      0.78       822\n",
            "weighted avg       0.78      0.78      0.78       822\n",
            "\n"
          ]
        }
      ]
    },
    {
      "cell_type": "code",
      "source": [
        "y_train_pred =logreg.predict(X_train)"
      ],
      "metadata": {
        "id": "rRQpXe-xw95e"
      },
      "execution_count": null,
      "outputs": []
    },
    {
      "cell_type": "code",
      "source": [
        "mcc_train = matthews_corrcoef(y_train, y_train_pred)\n",
        "mcc_train"
      ],
      "metadata": {
        "colab": {
          "base_uri": "https://localhost:8080/"
        },
        "id": "RJYZkVIDw8TN",
        "outputId": "e43f84d5-5bef-427d-f29f-3ee8c1530ebe"
      },
      "execution_count": null,
      "outputs": [
        {
          "output_type": "execute_result",
          "data": {
            "text/plain": [
              "0.7956715361810496"
            ]
          },
          "metadata": {},
          "execution_count": 35
        }
      ]
    },
    {
      "cell_type": "code",
      "source": [
        "mcc_test = matthews_corrcoef(y_test, y_pred)\n",
        "mcc_test"
      ],
      "metadata": {
        "colab": {
          "base_uri": "https://localhost:8080/"
        },
        "id": "bQhgClj1x3Mo",
        "outputId": "4b33f828-3e5b-47a9-d92b-05f14910424d"
      },
      "execution_count": null,
      "outputs": [
        {
          "output_type": "execute_result",
          "data": {
            "text/plain": [
              "0.5541832358318227"
            ]
          },
          "metadata": {},
          "execution_count": 36
        }
      ]
    },
    {
      "cell_type": "markdown",
      "source": [
        "NAIVE BAYES"
      ],
      "metadata": {
        "id": "SimCCg-byXdC"
      }
    },
    {
      "cell_type": "code",
      "source": [
        "from sklearn.naive_bayes import GaussianNB\n",
        "model = GaussianNB()\n",
        "model.fit(X_train, y_train)\n"
      ],
      "metadata": {
        "colab": {
          "base_uri": "https://localhost:8080/"
        },
        "id": "cqIfNl8Hyf8z",
        "outputId": "61d739dc-4db1-4711-ca3f-6e0db070e2b2"
      },
      "execution_count": null,
      "outputs": [
        {
          "output_type": "execute_result",
          "data": {
            "text/plain": [
              "GaussianNB()"
            ]
          },
          "metadata": {},
          "execution_count": 41
        }
      ]
    },
    {
      "cell_type": "code",
      "source": [
        "y_pred = model.predict(X_test)"
      ],
      "metadata": {
        "id": "vt1J9aPf2aZE"
      },
      "execution_count": null,
      "outputs": []
    },
    {
      "cell_type": "code",
      "source": [
        "from sklearn.metrics import classification_report\n",
        "print(classification_report(y_test, y_pred))"
      ],
      "metadata": {
        "colab": {
          "base_uri": "https://localhost:8080/"
        },
        "id": "6huKq_TA2iBW",
        "outputId": "17564f9c-6eee-4ef6-e20b-d47a86e7e598"
      },
      "execution_count": null,
      "outputs": [
        {
          "output_type": "stream",
          "name": "stdout",
          "text": [
            "              precision    recall  f1-score   support\n",
            "\n",
            "           0       0.78      0.19      0.31       482\n",
            "           1       0.45      0.92      0.60       340\n",
            "\n",
            "    accuracy                           0.49       822\n",
            "   macro avg       0.61      0.56      0.45       822\n",
            "weighted avg       0.64      0.49      0.43       822\n",
            "\n"
          ]
        }
      ]
    },
    {
      "cell_type": "code",
      "source": [
        "mcc_test = matthews_corrcoef(y_test, y_pred)\n",
        "mcc_test"
      ],
      "metadata": {
        "colab": {
          "base_uri": "https://localhost:8080/"
        },
        "id": "gM23wTQ-20sQ",
        "outputId": "6905f26b-b1f5-42a1-bb27-5fc681c73e47"
      },
      "execution_count": null,
      "outputs": [
        {
          "output_type": "execute_result",
          "data": {
            "text/plain": [
              "0.16068103998721497"
            ]
          },
          "metadata": {},
          "execution_count": 44
        }
      ]
    },
    {
      "cell_type": "markdown",
      "source": [
        "K-nearest neighbor"
      ],
      "metadata": {
        "id": "p8v51hMU3UCV"
      }
    },
    {
      "cell_type": "code",
      "source": [
        "from sklearn.neighbors import KNeighborsClassifier\n"
      ],
      "metadata": {
        "id": "YidzBkgg3Zr1"
      },
      "execution_count": null,
      "outputs": []
    },
    {
      "cell_type": "code",
      "source": [
        "knn5 = KNeighborsClassifier(n_neighbors = 5)\n",
        "knn1 = KNeighborsClassifier(n_neighbors=1)"
      ],
      "metadata": {
        "id": "17JwOJen4UEI"
      },
      "execution_count": null,
      "outputs": []
    },
    {
      "cell_type": "code",
      "source": [
        "knn5.fit(X_train, y_train)\n",
        "knn1.fit(X_train, y_train)\n",
        "\n",
        "y_pred_5 = knn5.predict(X_test)\n",
        "y_pred_1 = knn1.predict(X_test)"
      ],
      "metadata": {
        "id": "qBe7yOXj4VPb"
      },
      "execution_count": null,
      "outputs": []
    },
    {
      "cell_type": "code",
      "source": [
        "from sklearn.metrics import classification_report\n",
        "print(classification_report(y_test, y_pred_1))"
      ],
      "metadata": {
        "colab": {
          "base_uri": "https://localhost:8080/"
        },
        "id": "QqJB-F3L5C4S",
        "outputId": "db057a16-5b4f-499d-8d4d-e9fb875198ae"
      },
      "execution_count": null,
      "outputs": [
        {
          "output_type": "stream",
          "name": "stdout",
          "text": [
            "              precision    recall  f1-score   support\n",
            "\n",
            "           0       0.82      0.84      0.83       482\n",
            "           1       0.76      0.75      0.75       340\n",
            "\n",
            "    accuracy                           0.80       822\n",
            "   macro avg       0.79      0.79      0.79       822\n",
            "weighted avg       0.80      0.80      0.80       822\n",
            "\n"
          ]
        }
      ]
    },
    {
      "cell_type": "code",
      "source": [
        "y_train_pred= knn1.predict(X_train)\n",
        "mcc_train = matthews_corrcoef(y_train, y_train_pred)\n",
        "mcc_train"
      ],
      "metadata": {
        "colab": {
          "base_uri": "https://localhost:8080/"
        },
        "id": "qht8VdMa7Rkc",
        "outputId": "c5a38890-aee8-4fed-c81a-cd9e033e0fdd"
      },
      "execution_count": null,
      "outputs": [
        {
          "output_type": "execute_result",
          "data": {
            "text/plain": [
              "0.9366866105916634"
            ]
          },
          "metadata": {},
          "execution_count": 41
        }
      ]
    },
    {
      "cell_type": "code",
      "source": [
        "mcc_test = matthews_corrcoef(y_test, y_pred_1)\n",
        "mcc_test"
      ],
      "metadata": {
        "colab": {
          "base_uri": "https://localhost:8080/"
        },
        "id": "xlk06I0u7QNK",
        "outputId": "60c7f9dc-41bc-40e9-8a94-aa6f92a94e66"
      },
      "execution_count": null,
      "outputs": [
        {
          "output_type": "execute_result",
          "data": {
            "text/plain": [
              "0.5850230442849867"
            ]
          },
          "metadata": {},
          "execution_count": 42
        }
      ]
    },
    {
      "cell_type": "markdown",
      "source": [
        "DECISION TREE"
      ],
      "metadata": {
        "id": "ng4KyLTR8FnO"
      }
    },
    {
      "cell_type": "code",
      "source": [
        "from sklearn.tree import DecisionTreeClassifier\n",
        "dtc = DecisionTreeClassifier()\n",
        "dtc.fit(X_train, y_train)\n",
        "y_pred = dtc.predict(X_test)"
      ],
      "metadata": {
        "id": "EZC6-C2G9qsM"
      },
      "execution_count": null,
      "outputs": []
    },
    {
      "cell_type": "code",
      "source": [
        "from sklearn.metrics import classification_report\n",
        "print(classification_report(y_test, y_pred))"
      ],
      "metadata": {
        "colab": {
          "base_uri": "https://localhost:8080/"
        },
        "id": "9XRHtQ3M9tkX",
        "outputId": "f8183cbf-e477-43fd-d3ba-c05494895b03"
      },
      "execution_count": null,
      "outputs": [
        {
          "output_type": "stream",
          "name": "stdout",
          "text": [
            "              precision    recall  f1-score   support\n",
            "\n",
            "           0       0.82      0.82      0.82       482\n",
            "           1       0.74      0.75      0.75       340\n",
            "\n",
            "    accuracy                           0.79       822\n",
            "   macro avg       0.78      0.79      0.78       822\n",
            "weighted avg       0.79      0.79      0.79       822\n",
            "\n"
          ]
        }
      ]
    },
    {
      "cell_type": "code",
      "source": [
        "y_train_pred= dtc.predict(X_train)\n",
        "mcc_train = matthews_corrcoef(y_train, y_train_pred)\n",
        "mcc_train"
      ],
      "metadata": {
        "colab": {
          "base_uri": "https://localhost:8080/"
        },
        "id": "sB2_gYSc-HQt",
        "outputId": "854bc1fa-a712-455a-8cc8-a1940af06924"
      },
      "execution_count": null,
      "outputs": [
        {
          "output_type": "execute_result",
          "data": {
            "text/plain": [
              "0.9418010083649155"
            ]
          },
          "metadata": {},
          "execution_count": 45
        }
      ]
    },
    {
      "cell_type": "code",
      "source": [
        "mcc_test = matthews_corrcoef(y_test, y_pred)\n",
        "mcc_test"
      ],
      "metadata": {
        "colab": {
          "base_uri": "https://localhost:8080/"
        },
        "id": "yPxW3_xQ-Bth",
        "outputId": "6eb03677-bf9b-4acb-8319-6ebbe2bb230d"
      },
      "execution_count": null,
      "outputs": [
        {
          "output_type": "execute_result",
          "data": {
            "text/plain": [
              "0.5694103908264877"
            ]
          },
          "metadata": {},
          "execution_count": 46
        }
      ]
    },
    {
      "cell_type": "markdown",
      "metadata": {
        "id": "tzzP6KIPo1Qf"
      },
      "source": [
        "HYPERPARAMETER TUNING"
      ]
    },
    {
      "cell_type": "markdown",
      "metadata": {
        "id": "Z7lVE6DRZzhu"
      },
      "source": [
        "\n",
        "\n",
        "# **DEEP NEURAL NETWORK**"
      ]
    },
    {
      "cell_type": "code",
      "execution_count": null,
      "metadata": {
        "id": "kEPUpe6CZ5dV"
      },
      "outputs": [],
      "source": [
        "#importing the required libraries\n",
        "from tensorflow.keras.datasets import mnist\n",
        "from tensorflow.keras.models import Sequential\n",
        "from tensorflow.keras.layers import Conv2D\n",
        "from tensorflow.keras.layers import MaxPool2D\n",
        "from tensorflow.keras.layers import Flatten\n",
        "from tensorflow.keras.layers import Dropout\n",
        "from tensorflow.keras.layers import Dense"
      ]
    },
    {
      "cell_type": "code",
      "execution_count": null,
      "metadata": {
        "colab": {
          "base_uri": "https://localhost:8080/"
        },
        "id": "I4WZ0Jy8aLqt",
        "outputId": "a87dda2b-fd31-4860-eef4-3cfb259c42c4"
      },
      "outputs": [
        {
          "output_type": "stream",
          "name": "stdout",
          "text": [
            "Downloading data from https://storage.googleapis.com/tensorflow/tf-keras-datasets/mnist.npz\n",
            "11490434/11490434 [==============================] - 2s 0us/step\n",
            "(60000, 28, 28, 1)\n",
            "(10000, 28, 28, 1)\n"
          ]
        }
      ],
      "source": [
        "#loading data\n",
        "(X_train,y_train) , (X_test,y_test)=mnist.load_data()\n",
        "#reshaping data\n",
        "X_train = X_train.reshape((X_train.shape[0], X_train.shape[1], X_train.shape[2], 1))\n",
        "X_test = X_test.reshape((X_test.shape[0],X_test.shape[1],X_test.shape[2],1)) \n",
        "#checking the shape after reshaping\n",
        "print(X_train.shape)\n",
        "print(X_test.shape)\n",
        "#normalizing the pi\n",
        "X_train=X_train/255\n",
        "X_test=X_test/255"
      ]
    },
    {
      "cell_type": "code",
      "execution_count": null,
      "metadata": {
        "colab": {
          "base_uri": "https://localhost:8080/"
        },
        "id": "HImM1WyMa2-u",
        "outputId": "84659f51-31d4-4802-f9cb-041279b8af7b"
      },
      "outputs": [
        {
          "output_type": "stream",
          "name": "stdout",
          "text": [
            "Epoch 1/10\n",
            "1875/1875 [==============================] - 13s 3ms/step - loss: 0.1544 - accuracy: 0.9538\n",
            "Epoch 2/10\n",
            "1875/1875 [==============================] - 5s 3ms/step - loss: 0.0534 - accuracy: 0.9835\n",
            "Epoch 3/10\n",
            "1875/1875 [==============================] - 5s 3ms/step - loss: 0.0333 - accuracy: 0.9896\n",
            "Epoch 4/10\n",
            "1875/1875 [==============================] - 5s 3ms/step - loss: 0.0230 - accuracy: 0.9927\n",
            "Epoch 5/10\n",
            "1875/1875 [==============================] - 5s 3ms/step - loss: 0.0158 - accuracy: 0.9952\n",
            "Epoch 6/10\n",
            "1875/1875 [==============================] - 5s 3ms/step - loss: 0.0111 - accuracy: 0.9962\n",
            "Epoch 7/10\n",
            "1875/1875 [==============================] - 5s 3ms/step - loss: 0.0088 - accuracy: 0.9972\n",
            "Epoch 8/10\n",
            "1875/1875 [==============================] - 5s 3ms/step - loss: 0.0059 - accuracy: 0.9980\n",
            "Epoch 9/10\n",
            "1875/1875 [==============================] - 5s 3ms/step - loss: 0.0054 - accuracy: 0.9981\n",
            "Epoch 10/10\n",
            "1875/1875 [==============================] - 5s 3ms/step - loss: 0.0053 - accuracy: 0.9981\n"
          ]
        },
        {
          "output_type": "execute_result",
          "data": {
            "text/plain": [
              "<keras.callbacks.History at 0x7eff2032af40>"
            ]
          },
          "metadata": {},
          "execution_count": 101
        }
      ],
      "source": [
        "#defining model\n",
        "model=Sequential()\n",
        "#adding convolution layer\n",
        "model.add(Conv2D(32,(3,3),activation='relu',input_shape=(28,28,1)))\n",
        "#adding pooling layer\n",
        "model.add(MaxPool2D(2,2))\n",
        "#adding fully connected layer\n",
        "model.add(Flatten())\n",
        "model.add(Dense(100,activation='relu'))\n",
        "#adding output layer\n",
        "model.add(Dense(10,activation='softmax'))\n",
        "#compiling the model\n",
        "model.compile(loss='sparse_categorical_crossentropy',optimizer='adam',metrics=['accuracy'])\n",
        "#fitting the model\n",
        "model.fit(X_train,y_train,epochs=10)\n"
      ]
    },
    {
      "cell_type": "code",
      "source": [
        "# Predict the Test set results\n",
        "y_pred = model.predict(X_test)"
      ],
      "metadata": {
        "colab": {
          "base_uri": "https://localhost:8080/"
        },
        "id": "gstXuszQHto-",
        "outputId": "5eb93a54-3443-4310-a5c3-e8914a1e6192"
      },
      "execution_count": null,
      "outputs": [
        {
          "output_type": "stream",
          "name": "stdout",
          "text": [
            "313/313 [==============================] - 1s 2ms/step\n"
          ]
        }
      ]
    },
    {
      "cell_type": "code",
      "execution_count": null,
      "metadata": {
        "id": "sS5ajNbGgmN1"
      },
      "outputs": [],
      "source": [
        "from sklearn.metrics import roc_curve, roc_auc_score"
      ]
    },
    {
      "cell_type": "code",
      "execution_count": null,
      "metadata": {
        "id": "jXhVWfCtfQrg"
      },
      "outputs": [],
      "source": [
        "#probabilities prediction\n",
        "r_probs = [0 for _ in range(len(y_test))]\n",
        "rf_probs = rf_model.predict_proba(X_test)\n",
        "logreg_probs = logreg.predict_proba(X_test)\n",
        "knn1_probs = knn1.predict_proba(X_test)\n",
        "dtc_probs = dtc.predict_proba(X_test)\n",
        "clf_probs = clf.predict_proba(X_test)\n"
      ]
    },
    {
      "cell_type": "code",
      "execution_count": null,
      "metadata": {
        "id": "t1DAYfkwgRCk"
      },
      "outputs": [],
      "source": [
        "#prediction for the positive outcome is kept\n",
        "rf_probs = rf_probs[:, 1]\n",
        "logreg_probs = logreg_probs[:, 1]\n",
        "knn1_probs = knn1_probs[:, 1]\n",
        "dtc_probs = dtc_probs[:, 1]\n",
        "clf_probs = clf_probs[:, 1]"
      ]
    },
    {
      "cell_type": "code",
      "execution_count": null,
      "metadata": {
        "id": "GEU6NipvjBO4"
      },
      "outputs": [],
      "source": [
        "#calculate ROC curve\n",
        "r_fpr, r_tpr, _ = roc_curve(y_test, r_probs)\n",
        "rf_fpr, rf_tpr, _ = roc_curve(y_test, rf_probs)\n",
        "logreg_fpr, logreg_tpr, _ = roc_curve(y_test, logreg_probs)\n",
        "knn1_fpr, knn1_tpr, _ = roc_curve(y_test, knn1_probs)\n",
        "dtc_fpr, dtc_tpr, _ = roc_curve(y_test, dtc_probs)\n",
        "clf_fpr, clf_tpr, _ = roc_curve(y_test, clf_probs)"
      ]
    },
    {
      "cell_type": "code",
      "source": [
        "r_auc = roc_auc_score(y_test, r_probs)\n",
        "rf_auc = roc_auc_score(y_test, rf_probs)\n",
        "logreg_auc = roc_auc_score(y_test, logreg_probs)\n",
        "knn1_auc = roc_auc_score(y_test, knn1_probs)\n",
        "dtc_auc = roc_auc_score(y_test, dtc_probs)\n",
        "clf_auc = roc_auc_score(y_test, clf_probs)"
      ],
      "metadata": {
        "id": "P_toFSG_lTGs"
      },
      "execution_count": null,
      "outputs": []
    },
    {
      "cell_type": "code",
      "execution_count": null,
      "metadata": {
        "colab": {
          "base_uri": "https://localhost:8080/"
        },
        "id": "quhX7sjNhN38",
        "outputId": "f176034f-c963-4f4f-9330-ef9a96208fe0"
      },
      "outputs": [
        {
          "output_type": "stream",
          "name": "stdout",
          "text": [
            "Random (chance) Prediction: AUROC = 0.500\n",
            "Random Forest: AUROC = 0.965\n",
            "Logreg: AUROC = 0.839\n",
            "KNN: AUROC = 0.792\n",
            "Decision Tree: AUROC = 0.797\n",
            "SVM: AUROC = 0.893\n"
          ]
        }
      ],
      "source": [
        "print('Random (chance) Prediction: AUROC = %.3f' % (r_auc))\n",
        "print('Random Forest: AUROC = %.3f' % (rf_auc))\n",
        "print('Logreg: AUROC = %.3f' % (logreg_auc))\n",
        "print('KNN: AUROC = %.3f' % (knn1_auc))\n",
        "print('Decision Tree: AUROC = %.3f' % (dtc_auc))\n",
        "print('SVM: AUROC = %.3f' % (clf_auc))"
      ]
    },
    {
      "cell_type": "code",
      "execution_count": null,
      "metadata": {
        "colab": {
          "base_uri": "https://localhost:8080/",
          "height": 295
        },
        "id": "fwVtNIm0h7vv",
        "outputId": "559fd6f6-14ed-4f2e-c7b8-8d8c02630a22"
      },
      "outputs": [
        {
          "output_type": "display_data",
          "data": {
            "text/plain": [
              "<Figure size 432x288 with 1 Axes>"
            ],
            "image/png": "[encoded data removed]"
          },
          "metadata": {
            "needs_background": "light"
          }
        }
      ],
      "source": [
        "plt.plot(r_fpr, r_tpr, linestyle='--', label='Random prediction (AUROC = %0.3f)' % r_auc)\n",
        "plt.plot(rf_fpr, rf_tpr, marker='.', label='Random Forest (AUROC = %0.3f)' % rf_auc)\n",
        "plt.plot(logreg_fpr, logreg_tpr, marker='.', label='Logistic Regression (AUROC = %0.3f)' % logreg_auc)\n",
        "plt.plot(knn1_fpr, knn1_tpr, marker='.', label='KNN (AUROC = %0.3f)' % knn1_auc)\n",
        "plt.plot(dtc_fpr, dtc_tpr, marker='.', label='Decision Tree (AUROC = %0.3f)' % dtc_auc)\n",
        "plt.plot(clf_fpr, clf_tpr, marker='.', label='SVM (AUROC = %0.3f)' % clf_auc)\n",
        "\n",
        "# Title\n",
        "plt.title('ROC Plot')\n",
        "# Axis labels\n",
        "plt.xlabel('False Positive Rate')\n",
        "plt.ylabel('True Positive Rate')\n",
        "# Show legend\n",
        "plt.legend() # \n",
        "# Show plot\n",
        "plt.show()"
      ]
    }
  ],
  "metadata": {
    "accelerator": "GPU",
    "colab": {
      "provenance": [],
      "include_colab_link": true
    },
    "kernelspec": {
      "display_name": "Python 3",
      "name": "python3"
    },
    "language_info": {
      "name": "python"
    }
  },
  "nbformat": 4,
  "nbformat_minor": 0
}